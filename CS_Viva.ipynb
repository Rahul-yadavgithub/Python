{
 "cells": [
  {
   "cell_type": "code",
   "execution_count": 5,
   "id": "043dd9b9-fc3b-4d1f-9ecd-c6d5f632a47a",
   "metadata": {},
   "outputs": [
    {
     "name": "stdin",
     "output_type": "stream",
     "text": [
      "Enter the length of the list-> 3\n",
      "Enter the 1 element of the list-> 1\n",
      "Enter the 2 element of the list-> 2\n",
      "Enter the 3 element of the list-> 3\n"
     ]
    },
    {
     "name": "stdout",
     "output_type": "stream",
     "text": [
      "[1, 2, 3]\n"
     ]
    },
    {
     "ename": "IndexError",
     "evalue": "list index out of range",
     "output_type": "error",
     "traceback": [
      "\u001b[1;31m---------------------------------------------------------------------------\u001b[0m",
      "\u001b[1;31mIndexError\u001b[0m                                Traceback (most recent call last)",
      "Cell \u001b[1;32mIn[5], line 12\u001b[0m\n\u001b[0;32m     10\u001b[0m list2\u001b[38;5;241m=\u001b[39m[]\n\u001b[0;32m     11\u001b[0m \u001b[38;5;28;01mfor\u001b[39;00m i \u001b[38;5;129;01min\u001b[39;00m \u001b[38;5;28mrange\u001b[39m(\u001b[38;5;241m0\u001b[39m,n):\n\u001b[1;32m---> 12\u001b[0m     \u001b[38;5;28;01mif\u001b[39;00m(\u001b[38;5;28;43mlist\u001b[39;49m\u001b[43m[\u001b[49m\u001b[43mi\u001b[49m\u001b[43m]\u001b[49m\u001b[38;5;241m>\u001b[39m\u001b[38;5;241m=\u001b[39m\u001b[38;5;241m0\u001b[39m):\n\u001b[0;32m     13\u001b[0m         list2\u001b[38;5;241m.\u001b[39mappend(\u001b[38;5;28mlist\u001b[39m[i])\n\u001b[0;32m     14\u001b[0m         \u001b[38;5;28mlist\u001b[39m\u001b[38;5;241m.\u001b[39mpop()\n",
      "\u001b[1;31mIndexError\u001b[0m: list index out of range"
     ]
    }
   ],
   "source": [
    "n= int(input(\"Enter the length of the list->\"))\n",
    "list= []\n",
    "for i in range(0, n):\n",
    "    x= int(input(f\"Enter the {i+1} element of the list->\"))\n",
    "    list.append(x)\n",
    "\n",
    "print(list)\n",
    "\n",
    "list1=[]\n",
    "list2=[]\n",
    "for i in range(0,n):\n",
    "    if(list[i]>=0):\n",
    "        list2.append(list[i])\n",
    "        list.pop()\n",
    "    else:\n",
    "        list1.append(list[i])\n",
    "        list.pop()\n",
    "for i in range(0 ,n):\n",
    "    if(i%2==0):\n",
    "        list.append(list2[i/2])\n",
    "    else:\n",
    "        list.append(list1[(i+1)/2])\n",
    "print(list)\n",
    "        "
   ]
  },
  {
   "cell_type": "code",
   "execution_count": 13,
   "id": "dc756308-a31e-48dd-9497-44f1ba184fa4",
   "metadata": {},
   "outputs": [
    {
     "name": "stdin",
     "output_type": "stream",
     "text": [
      "Enter the length of the list-> 4\n",
      "Enter the 1 element of the list-> -1\n",
      "Enter the 2 element of the list-> 2\n",
      "Enter the 3 element of the list-> -2\n",
      "Enter the 4 element of the list-> 1\n"
     ]
    },
    {
     "name": "stdout",
     "output_type": "stream",
     "text": [
      "[-1, 2, -2, 1]\n"
     ]
    },
    {
     "ename": "IndexError",
     "evalue": "list index out of range",
     "output_type": "error",
     "traceback": [
      "\u001b[1;31m---------------------------------------------------------------------------\u001b[0m",
      "\u001b[1;31mIndexError\u001b[0m                                Traceback (most recent call last)",
      "Cell \u001b[1;32mIn[13], line 25\u001b[0m\n\u001b[0;32m     23\u001b[0m     \u001b[38;5;28;01melse\u001b[39;00m:\n\u001b[0;32m     24\u001b[0m         m\u001b[38;5;241m=\u001b[39m (i\u001b[38;5;241m+\u001b[39m\u001b[38;5;241m1\u001b[39m)\u001b[38;5;241m/\u001b[39m\u001b[38;5;241m/\u001b[39m\u001b[38;5;241m2\u001b[39m\n\u001b[1;32m---> 25\u001b[0m         x\u001b[38;5;241m=\u001b[39m \u001b[43mlist2\u001b[49m\u001b[43m[\u001b[49m\u001b[43mm\u001b[49m\u001b[43m]\u001b[49m\n\u001b[0;32m     26\u001b[0m         \u001b[38;5;28mlist\u001b[39m\u001b[38;5;241m.\u001b[39mappend(x)\n\u001b[0;32m     27\u001b[0m \u001b[38;5;28mprint\u001b[39m(\u001b[38;5;28mlist\u001b[39m)     \n",
      "\u001b[1;31mIndexError\u001b[0m: list index out of range"
     ]
    }
   ],
   "source": [
    "n= int(input(\"Enter the length of the list->\"))\n",
    "list= []\n",
    "for i in range(0, n):\n",
    "    x= int(input(f\"Enter the {i+1} element of the list->\"))\n",
    "    list.append(x)\n",
    "\n",
    "print(list)\n",
    "\n",
    "list1=[]\n",
    "list2=[]\n",
    "for i in list:\n",
    "    if(i>=0):\n",
    "        list2.append(i)\n",
    "        list.pop()\n",
    "    else:\n",
    "        list1.append(i)\n",
    "        list.pop()\n",
    "for i in range(0 ,n):\n",
    "    if(i%2==0):\n",
    "        m= i//2\n",
    "        x=list1[m]\n",
    "        list.append(x)\n",
    "    else:\n",
    "        m= (i+1)//2\n",
    "        x= list2[m]\n",
    "        list.append(x)\n",
    "print(list)     "
   ]
  },
  {
   "cell_type": "code",
   "execution_count": 11,
   "id": "9bd3c125-032c-4e60-821f-b3b78c5ae582",
   "metadata": {},
   "outputs": [
    {
     "name": "stdin",
     "output_type": "stream",
     "text": [
      "Enter the length of the list-> 7\n",
      "Enter the 1 element of the list-> 1\n",
      "Enter the 2 element of the list-> 2\n",
      "Enter the 3 element of the list-> -3\n",
      "Enter the 4 element of the list-> -2\n",
      "Enter the 5 element of the list-> 8\n",
      "Enter the 6 element of the list-> -5\n",
      "Enter the 7 element of the list-> 4\n"
     ]
    },
    {
     "name": "stdout",
     "output_type": "stream",
     "text": [
      "[1, 2, -3, -2, 8, -5, 4]\n",
      "[-3, -2, -5, 2, 8, 1, 4] "
     ]
    }
   ],
   "source": [
    "n= int(input(\"Enter the length of the list->\"))\n",
    "list= []\n",
    "for i in range(0, n):\n",
    "    x= int(input(f\"Enter the {i+1} element of the list->\"))\n",
    "    list.append(x)\n",
    "\n",
    "print(list)\n",
    "for i in range(0,n):\n",
    "    for j in range(i,n):\n",
    "        if(list[j]<=0):\n",
    "            temp= list[i]\n",
    "            list[i]= list[j]\n",
    "            list[j]= temp\n",
    "            break\n",
    "for i in range(0,n ,2):\n",
    "    for j in range(i,n):\n",
    "        if(list[j]>=0):\n",
    "            temp= list[i+1]\n",
    "            list[i+1}= list[j]\n",
    "            list[j]= temp\n",
    "            break\n",
    "\n",
    "print(list, end=\" \")\n",
    "    \n"
   ]
  },
  {
   "cell_type": "code",
   "execution_count": 13,
   "id": "5ae9e201-d27d-45eb-965c-38ac821de4c5",
   "metadata": {},
   "outputs": [
    {
     "name": "stdout",
     "output_type": "stream",
     "text": [
      "[1, -3, 2, -5, 4, 6]\n"
     ]
    }
   ],
   "source": [
    "def rearrange_alternate(arr):\n",
    "    positive = [num for num in arr if num >= 0]\n",
    "    negative = [num for num in arr if num < 0]\n",
    "\n",
    "    rearranged = []\n",
    "    i, j = 0, 0\n",
    "\n",
    "    while i < len(positive) and j < len(negative):\n",
    "        rearranged.append(positive[i])\n",
    "        rearranged.append(negative[j])\n",
    "        i += 1\n",
    "        j += 1\n",
    "\n",
    "    # If there are remaining positive numbers\n",
    "    while i < len(positive):\n",
    "        rearranged.append(positive[i])\n",
    "        i += 1\n",
    "\n",
    "    # If there are remaining negative numbers\n",
    "    while j < len(negative):\n",
    "        rearranged.append(negative[j])\n",
    "        j += 1\n",
    "\n",
    "    return rearranged\n",
    "\n",
    "# Example usage:\n",
    "arr = [1, 2,-3,4,6,-5]\n",
    "result = rearrange_alternate(arr)\n",
    "print(result)\n"
   ]
  },
  {
   "cell_type": "code",
   "execution_count": 6,
   "id": "1e2a5fca-c516-4454-bda9-8739e0dfb00c",
   "metadata": {},
   "outputs": [
    {
     "name": "stdin",
     "output_type": "stream",
     "text": [
      "Enter the value of n-> 10\n",
      "Enter the value of r-> 5\n"
     ]
    },
    {
     "name": "stdout",
     "output_type": "stream",
     "text": [
      "252.0 \n",
      "30240.0 "
     ]
    }
   ],
   "source": [
    "def fact(x):\n",
    "    f=1\n",
    "    for i in  range (1,x+1):\n",
    "        f*=i\n",
    "    return f\n",
    "def combination(x,r):\n",
    "    x= fact(n)/(fact(r)*fact(n-r))\n",
    "    return x\n",
    "\n",
    "def permutation(n,r):\n",
    "    x= fact(n)/fact(n-r)\n",
    "    return x\n",
    "\n",
    "n= int(input(\"Enter the value of n->\"))\n",
    "r= int(input(\"Enter the value of r->\"))\n",
    "x= combination(n,r)\n",
    "y=permutation(n,r)\n",
    "print(x,end=\" \")\n",
    "print()\n",
    "print(y,end=\" \")\n",
    "\n"
   ]
  },
  {
   "cell_type": "code",
   "execution_count": null,
   "id": "85052809-94ff-4fff-9027-d353d3bf3f05",
   "metadata": {},
   "outputs": [],
   "source": [
    "def sort01(v):\n",
    "    low= 0\n",
    "    mid=0\n",
    "    high=len(v)-1\n",
    "    while(mid<=high):\n",
    "        if(v[mid]==2):\n",
    "            temp= v[mid]\n",
    "            v[mid]= v[high]\n",
    "            v[high]=temp\n",
    "            high= high-1\n",
    "        elif(v[mid]==0):\n",
    "            temp=v[mid]\n",
    "            v[mid]=v[low]\n",
    "            v[low]=temp\n",
    "            low= low+1\n",
    "            mid= mid+1\n",
    "        else:\n",
    "            mid= mid+1\n",
    "\n",
    "    \n",
    "\n",
    "arr = [int(x) for x in input(\"Enter Elements: \").split()]\n",
    "\n",
    "sort01(arr)\n",
    "print(arr)"
   ]
  },
  {
   "cell_type": "code",
   "execution_count": 1,
   "id": "0145967e-0381-4934-95a5-713ae88d844e",
   "metadata": {},
   "outputs": [],
   "source": [
    "# Next permutation "
   ]
  },
  {
   "cell_type": "code",
   "execution_count": 6,
   "id": "97542165-b536-4340-8dff-f2deec006230",
   "metadata": {},
   "outputs": [
    {
     "name": "stdout",
     "output_type": "stream",
     "text": [
      "[1, 3, 4, 2]\n"
     ]
    }
   ],
   "source": [
    "def permutation(v):\n",
    "    idx=-1\n",
    "    n= len(v)\n",
    "    for i in range(n-2,0,-1):\n",
    "        if(v[i]<v[i+1]):\n",
    "            idx= i\n",
    "            break\n",
    "\n",
    "    if(idx==-1):\n",
    "        i=0\n",
    "        j=n-1\n",
    "        while(i<=j):\n",
    "            temp= v[i]\n",
    "            v[i]= v[j]\n",
    "            v[j]= temp\n",
    "            i+=1\n",
    "            j-=1\n",
    "\n",
    "    j=-1\n",
    "    for i in range(0,n):\n",
    "        if(v[i]>v[idx]):\n",
    "            j=i\n",
    "            break\n",
    "\n",
    "    temp= v[idx]\n",
    "    v[idx]= v[j]\n",
    "    v[j] = temp\n",
    "    return v\n",
    "\n",
    "arr= [1,4,3,2]\n",
    "permutation(arr)\n",
    "print(arr)\n",
    "            "
   ]
  },
  {
   "cell_type": "code",
   "execution_count": 9,
   "id": "dabfa599-9472-412e-98bd-deb4cbbda53e",
   "metadata": {},
   "outputs": [
    {
     "name": "stdout",
     "output_type": "stream",
     "text": [
      "[24, 12, 8, 6]\n"
     ]
    }
   ],
   "source": [
    "def Product_Except_itself(arr):\n",
    "    n= len(arr)\n",
    "    pre=[0]*n\n",
    "    p= arr[0]\n",
    "    pre[0]= 1\n",
    "    for i in range(1,n):\n",
    "        pre[i]= p\n",
    "        p*=arr[i]\n",
    "    p= arr[n-1]\n",
    "    for i in range(n-2,-1,-1):\n",
    "        pre[i]*= p\n",
    "        p*= arr[i]\n",
    "\n",
    "    return pre\n",
    "\n",
    "arr=  [1,2,3,4]\n",
    "x = Product_Except_itself(arr)\n",
    "print(x)"
   ]
  },
  {
   "cell_type": "code",
   "execution_count": null,
   "id": "fb5dff14-05c1-4643-bff8-915fa95e87ab",
   "metadata": {},
   "outputs": [],
   "source": []
  }
 ],
 "metadata": {
  "kernelspec": {
   "display_name": "Python 3 (ipykernel)",
   "language": "python",
   "name": "python3"
  },
  "language_info": {
   "codemirror_mode": {
    "name": "ipython",
    "version": 3
   },
   "file_extension": ".py",
   "mimetype": "text/x-python",
   "name": "python",
   "nbconvert_exporter": "python",
   "pygments_lexer": "ipython3",
   "version": "3.12.1"
  }
 },
 "nbformat": 4,
 "nbformat_minor": 5
}
