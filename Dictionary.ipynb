{
 "cells": [
  {
   "cell_type": "code",
   "execution_count": 5,
   "id": "b4e51bf7-4f70-49fb-bf9f-9a47c90711fd",
   "metadata": {},
   "outputs": [
    {
     "name": "stdout",
     "output_type": "stream",
     "text": [
      "{'key': 'value', 'name': 'Rahul', 'cgpa': 45}\n"
     ]
    }
   ],
   "source": [
    "info={\n",
    "    \"key\": \"value\",\n",
    "     \"name\": \"Rahul\",\n",
    "     \"cgpa\": 45,\n",
    "}\n",
    "print(info)"
   ]
  },
  {
   "cell_type": "code",
   "execution_count": null,
   "id": "0ae8c156-c7e4-40cc-8e03-802f5d5ce44e",
   "metadata": {},
   "outputs": [],
   "source": [
    "# we can also print the the list and tuples in our dictionaray"
   ]
  },
  {
   "cell_type": "code",
   "execution_count": 6,
   "id": "27a0b4f1-4ee8-410f-a236-e072649cc850",
   "metadata": {},
   "outputs": [
    {
     "name": "stdout",
     "output_type": "stream",
     "text": [
      "{'Name': 'Rahul Yadav', 'subject': ['math', 'Sciece', 'Chemistry'], 'topic': ('dict', 'set'), 'age': 35, 'marks': 49}\n"
     ]
    }
   ],
   "source": [
    "info={\n",
    "    \"Name\": \"Rahul Yadav\",\n",
    "    \"subject\": [\"math\", \"Sciece\", \"Chemistry\"],\n",
    "    \"topic\": (\"dict\", \"set\"),\n",
    "    \"age\": 35,\n",
    "    \"marks\":49\n",
    "}\n",
    "print(info)"
   ]
  },
  {
   "cell_type": "code",
   "execution_count": null,
   "id": "0ec52a84-caed-4537-9cb6-1661248b3115",
   "metadata": {},
   "outputs": [],
   "source": [
    "# if  we want to change anything in the list then"
   ]
  },
  {
   "cell_type": "code",
   "execution_count": 4,
   "id": "2e5107ab-fb34-4a3e-90d4-603b8049da14",
   "metadata": {},
   "outputs": [
    {
     "name": "stdout",
     "output_type": "stream",
     "text": [
      "{'Name': 'Rohit', 'Subject': ['Mathematica', 'Science'], 'Topic': ('dirct', 'set'), 'age': 35, 'marks': 45, 'surname': 'yadav'}\n"
     ]
    }
   ],
   "source": [
    "info={\n",
    "    \"Name\":\"Rahul Yadav\",\n",
    "    \"Subject\" : [\"Mathematica\",\"Science\"],\n",
    "    \"Topic\": (\"dirct\", \"set\"),\n",
    "    \"age\": 35,\n",
    "    \"marks\": 45\n",
    "    \n",
    "}\n",
    "info[\"Name\"]= \"Rohit\"\n",
    "info[\"surname\"]= \"yadav\"\n",
    "print(info)"
   ]
  },
  {
   "cell_type": "code",
   "execution_count": null,
   "id": "529af6a6-a896-4b72-a8e0-751702b34081",
   "metadata": {},
   "outputs": [],
   "source": [
    "# for crating a empty dictionary "
   ]
  },
  {
   "cell_type": "code",
   "execution_count": 1,
   "id": "0d4615f2-9252-4b74-b5d8-b6b909ae11a7",
   "metadata": {},
   "outputs": [
    {
     "name": "stdout",
     "output_type": "stream",
     "text": [
      "{'Name': 'Rahul Yadav', 'age': 35, 'Topic': ('dict', 'sets'), 'Marks': 45}\n",
      "<class 'dict'>\n"
     ]
    }
   ],
   "source": [
    "info= {\n",
    "    \"Name\" : \"Rahul Yadav\",\n",
    "    \"age\": 35,\n",
    "    \"Topic\": (\"dict\",\"sets\"),\n",
    "    \"Marks\": 45\n",
    "}\n",
    "null_dict= {}\n",
    "print(info)\n",
    "print(type(null_dict))\n"
   ]
  },
  {
   "cell_type": "code",
   "execution_count": null,
   "id": "dd72592e-bbb9-4917-984f-58001ad9e16f",
   "metadata": {},
   "outputs": [],
   "source": [
    "#nested dictionary "
   ]
  },
  {
   "cell_type": "code",
   "execution_count": 5,
   "id": "d49404c1-8174-4a57-83c2-ffc4ecdb02f5",
   "metadata": {},
   "outputs": [
    {
     "name": "stdout",
     "output_type": "stream",
     "text": [
      "{'physic': 97, 'che': 98, 'math': 95}\n",
      "98\n"
     ]
    }
   ],
   "source": [
    "student={\n",
    "    \"name\": \"Rahul Yadav\",\n",
    "    \"Subject\": {\n",
    "        \"physic\": 97,\n",
    "        \"che\": 98,\n",
    "        \"math\": 95\n",
    "    }\n",
    "}\n",
    "print(student[\"Subject\"])\n",
    "print(student[\"Subject\"][\"che\"])"
   ]
  },
  {
   "cell_type": "code",
   "execution_count": null,
   "id": "928b09e8-1258-47db-8523-998bcfe0dc98",
   "metadata": {},
   "outputs": [],
   "source": [
    "# Dictionary Methods \n",
    "# 1->   .Keys()"
   ]
  },
  {
   "cell_type": "code",
   "execution_count": 6,
   "id": "857df80c-3329-4a6c-b0b8-ee5bfb538ba8",
   "metadata": {},
   "outputs": [
    {
     "name": "stdout",
     "output_type": "stream",
     "text": [
      "dict_keys(['name', 'Subject'])\n"
     ]
    }
   ],
   "source": [
    "student={\n",
    "    \"name\": \"Rahul Yadav\",\n",
    "    \"Subject\": {\n",
    "        \"physic\": 97,\n",
    "        \"che\": 98,\n",
    "        \"math\": 95\n",
    "    }\n",
    "}\n",
    "print(student.keys())"
   ]
  },
  {
   "cell_type": "code",
   "execution_count": null,
   "id": "065c30b1-434d-42f2-97e9-1b2743ed2a17",
   "metadata": {},
   "outputs": [],
   "source": [
    "# 2-> we can also type cast tuple into list and list into tuple "
   ]
  },
  {
   "cell_type": "code",
   "execution_count": 7,
   "id": "13cb1860-dd14-490c-9daa-9e8926296c80",
   "metadata": {},
   "outputs": [
    {
     "name": "stdout",
     "output_type": "stream",
     "text": [
      "['name', 'Subject']\n"
     ]
    }
   ],
   "source": [
    "student={\n",
    "    \"name\": \"Rahul Yadav\",\n",
    "    \"Subject\": {\n",
    "        \"physic\": 97,\n",
    "        \"che\": 98,\n",
    "        \"math\": 95\n",
    "    }\n",
    "}\n",
    "print(list(student.keys()))"
   ]
  },
  {
   "cell_type": "code",
   "execution_count": null,
   "id": "c2fbd64f-d23f-413f-952b-d0b5c83bea5a",
   "metadata": {},
   "outputs": [],
   "source": [
    "# 3-> we can also count the number of keys in a give list or tuple"
   ]
  },
  {
   "cell_type": "code",
   "execution_count": 9,
   "id": "664b7b01-0441-47cd-9e24-8b78bc44f77b",
   "metadata": {},
   "outputs": [
    {
     "name": "stdout",
     "output_type": "stream",
     "text": [
      "2\n",
      "2\n"
     ]
    }
   ],
   "source": [
    "student={\n",
    "    \"name\": \"Rahul Yadav\",\n",
    "    \"Subject\": {\n",
    "        \"physic\": 97,\n",
    "        \"che\": 98,\n",
    "        \"math\": 95\n",
    "    }\n",
    "}\n",
    "print(len(student))\n",
    "#or another method by which we can do \n",
    "print(len(list(student.keys())))"
   ]
  },
  {
   "cell_type": "code",
   "execution_count": 10,
   "id": "baf60b4f-6952-4371-8814-73c3ddbaae12",
   "metadata": {},
   "outputs": [],
   "source": [
    "# 4-> .values()  key word"
   ]
  },
  {
   "cell_type": "code",
   "execution_count": 13,
   "id": "dd4d649b-7776-4139-b462-0f780e141e1f",
   "metadata": {},
   "outputs": [
    {
     "name": "stdout",
     "output_type": "stream",
     "text": [
      "dict_values(['Rahul Yadav', {'physic': 97, 'che': 98, 'math': 95}])\n",
      "['Rahul Yadav', {'physic': 97, 'che': 98, 'math': 95}]\n"
     ]
    }
   ],
   "source": [
    "student={\n",
    "    \"name\": \"Rahul Yadav\",\n",
    "    \"Subject\": {\n",
    "        \"physic\": 97,\n",
    "        \"che\": 98,\n",
    "        \"math\": 95\n",
    "    }\n",
    "}\n",
    "print(student.values())\n",
    "# And we can also convert them into the list \n",
    "print(list(student.values()))"
   ]
  },
  {
   "cell_type": "code",
   "execution_count": 15,
   "id": "33d45a18-a442-4b31-b290-30de38385e83",
   "metadata": {},
   "outputs": [],
   "source": [
    "# 5-> .items() return all (keys,val) pairs as tuples "
   ]
  },
  {
   "cell_type": "code",
   "execution_count": 22,
   "id": "b9963f67-aed0-4249-840c-625ca193e31c",
   "metadata": {},
   "outputs": [
    {
     "name": "stdout",
     "output_type": "stream",
     "text": [
      "dict_items([('name', 'Rahul Yadav'), ('Subject', {'physic': 97, 'che': 98, 'math': 95})])\n",
      "\n",
      "[('name', 'Rahul Yadav'), ('Subject', {'physic': 97, 'che': 98, 'math': 95})]\n",
      "\n",
      "('name', 'Rahul Yadav')\n"
     ]
    }
   ],
   "source": [
    "student={\n",
    "    \"name\": \"Rahul Yadav\",\n",
    "    \"Subject\": {\n",
    "        \"physic\": 97,\n",
    "        \"che\": 98,\n",
    "        \"math\": 95\n",
    "    }\n",
    "}\n",
    "print(student.items())\n",
    "print()\n",
    "#And we can also convert them into the list\n",
    "print(list(student.items()))\n",
    "print()\n",
    "pairs= list(student.items())\n",
    "print(pairs[0])"
   ]
  },
  {
   "cell_type": "code",
   "execution_count": 23,
   "id": "b727d784-fa2a-40ac-a11e-4db17bf3a494",
   "metadata": {},
   "outputs": [],
   "source": [
    "# 6-> .get() methode used to return the key according to value"
   ]
  },
  {
   "cell_type": "code",
   "execution_count": 26,
   "id": "f63dae7a-17e7-44c5-8ae6-5637d5c85c70",
   "metadata": {},
   "outputs": [
    {
     "name": "stdout",
     "output_type": "stream",
     "text": [
      "None\n"
     ]
    }
   ],
   "source": [
    "student={\n",
    "    \"name\": \"Rahul Yadav\",\n",
    "    \"Subject\": {\n",
    "        \"physic\": 97,\n",
    "        \"che\": 98,\n",
    "        \"math\": 95\n",
    "    }\n",
    "}\n",
    "# print(student[\"name2\"]) # error give \n",
    "print(student.get(\"name2\")) # This give None value not error "
   ]
  },
  {
   "cell_type": "code",
   "execution_count": 27,
   "id": "3e35fb54-fdfe-447f-aa8d-a34b00ab7029",
   "metadata": {},
   "outputs": [],
   "source": [
    "# why we can not use error vala code becuase when some line give error then we can not \n",
    "# Acces the futher line of the code so that we use get method not normal method"
   ]
  },
  {
   "cell_type": "code",
   "execution_count": 28,
   "id": "d1124cc8-8d46-4fce-bd1a-28a7609144aa",
   "metadata": {},
   "outputs": [],
   "source": [
    "# 7 -> .update (new Dict) used to insert the specified items to the dictionary"
   ]
  },
  {
   "cell_type": "code",
   "execution_count": 30,
   "id": "e86ece45-1474-4a46-9cff-b959c1b07abb",
   "metadata": {},
   "outputs": [
    {
     "name": "stdout",
     "output_type": "stream",
     "text": [
      "{'name': 'Rahul Yadav', 'Subject': {'physic': 97, 'che': 98, 'math': 95}, 'city': 'delhi'}\n"
     ]
    }
   ],
   "source": [
    "student={\n",
    "    \"name\": \"Rahul Yadav\",\n",
    "    \"Subject\": {\n",
    "        \"physic\": 97,\n",
    "        \"che\": 98,\n",
    "        \"math\": 95\n",
    "    }\n",
    "}\n",
    "student.update({\"city\": \"delhi\"})\n",
    "print(student)"
   ]
  },
  {
   "cell_type": "code",
   "execution_count": 31,
   "id": "ca19d13e-437d-4785-b2fe-1ced09fbf206",
   "metadata": {},
   "outputs": [],
   "source": [
    "# If we want to add in new dictionary then "
   ]
  },
  {
   "cell_type": "code",
   "execution_count": 32,
   "id": "0ae4fd70-6705-4530-9e3a-5edad8d08cf1",
   "metadata": {},
   "outputs": [
    {
     "name": "stdout",
     "output_type": "stream",
     "text": [
      "{'name': 'Rahul Yadav', 'Subject': {'physic': 97, 'che': 98, 'math': 95}, 'city': 'dilhi'}\n"
     ]
    }
   ],
   "source": [
    "student={\n",
    "    \"name\": \"Rahul Yadav\",\n",
    "    \"Subject\": {\n",
    "        \"physic\": 97,\n",
    "        \"che\": 98,\n",
    "        \"math\": 95\n",
    "    }\n",
    "}\n",
    "New_dict= {\"city\" : \"dilhi\"}\n",
    "student.update(New_dict)\n",
    "print(student)"
   ]
  },
  {
   "cell_type": "code",
   "execution_count": 34,
   "id": "0be2d815-fc36-4097-b9d5-f0d34973df57",
   "metadata": {},
   "outputs": [],
   "source": [
    "# # If we pass the same key as in previous dictionay they are present then the become \n",
    "# updatenot added in new form"
   ]
  },
  {
   "cell_type": "code",
   "execution_count": 1,
   "id": "435a6980-aa66-4f2f-b6c7-108e09a8c52d",
   "metadata": {},
   "outputs": [
    {
     "name": "stdin",
     "output_type": "stream",
     "text": [
      "Enter the element of the list-> 0 1 1 0 1\n"
     ]
    },
    {
     "ename": "ValueError",
     "evalue": "invalid literal for int() with base 10: '0 1 1 0 1'",
     "output_type": "error",
     "traceback": [
      "\u001b[1;31m---------------------------------------------------------------------------\u001b[0m",
      "\u001b[1;31mValueError\u001b[0m                                Traceback (most recent call last)",
      "Cell \u001b[1;32mIn[1], line 4\u001b[0m\n\u001b[0;32m      2\u001b[0m \u001b[38;5;28mlist\u001b[39m\u001b[38;5;241m=\u001b[39m []\n\u001b[0;32m      3\u001b[0m \u001b[38;5;28;01mfor\u001b[39;00m i \u001b[38;5;129;01min\u001b[39;00m \u001b[38;5;28mrange\u001b[39m(\u001b[38;5;241m0\u001b[39m,n):\n\u001b[1;32m----> 4\u001b[0m    x\u001b[38;5;241m=\u001b[39m \u001b[38;5;28;43mint\u001b[39;49m\u001b[43m(\u001b[49m\u001b[38;5;28;43minput\u001b[39;49m\u001b[43m(\u001b[49m\u001b[38;5;124;43m\"\u001b[39;49m\u001b[38;5;124;43mEnter the element of the list->\u001b[39;49m\u001b[38;5;124;43m\"\u001b[39;49m\u001b[43m)\u001b[49m\u001b[43m)\u001b[49m\n\u001b[0;32m      5\u001b[0m    \u001b[38;5;28mlist\u001b[39m\u001b[38;5;241m.\u001b[39mappend(x)\n\u001b[0;32m      6\u001b[0m i\u001b[38;5;241m=\u001b[39m\u001b[38;5;241m0\u001b[39m\n",
      "\u001b[1;31mValueError\u001b[0m: invalid literal for int() with base 10: '0 1 1 0 1'"
     ]
    }
   ],
   "source": [
    " n= 5\n",
    "list= []\n",
    "for i in range(0,n):\n",
    "    x= int(input(\"Enter the element of the list->\"))\n",
    "    list.append(x)\n",
    "i=0\n",
    "j=n-1\n",
    "while(i<j):\n",
    "    if(list[i]==0):\n",
    "        i+=1\n",
    "    if(list[j]==1):\n",
    "        j-=1\n",
    "    if(list[i]==1 and list[j]==0):\n",
    "        temp= list[i]\n",
    "        list[i]= list[j]\n",
    "        list[j]= temp\n",
    "        i+=1\n",
    "        j-=1\n",
    "\n",
    "for i in range(0,n):\n",
    "    print(list[i] , end=\" \")"
   ]
  }
 ],
 "metadata": {
  "kernelspec": {
   "display_name": "Python 3 (ipykernel)",
   "language": "python",
   "name": "python3"
  },
  "language_info": {
   "codemirror_mode": {
    "name": "ipython",
    "version": 3
   },
   "file_extension": ".py",
   "mimetype": "text/x-python",
   "name": "python",
   "nbconvert_exporter": "python",
   "pygments_lexer": "ipython3",
   "version": "3.12.1"
  }
 },
 "nbformat": 4,
 "nbformat_minor": 5
}
