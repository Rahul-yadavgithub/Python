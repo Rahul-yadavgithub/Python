{
 "cells": [
  {
   "cell_type": "code",
   "execution_count": 3,
   "id": "da0ddc8c-2842-45ba-a6b1-5ea53df6a502",
   "metadata": {},
   "outputs": [
    {
     "name": "stdout",
     "output_type": "stream",
     "text": [
      "{1, 2, 3, 4, 5, 'woeld', 'hello'}\n",
      "<class 'set'>\n"
     ]
    }
   ],
   "source": [
    "collection= {1, 2,3,4,5,\"hello\", \"hello\",\"woeld\"}\n",
    "print(collection)\n",
    "print(type(collection))"
   ]
  },
  {
   "cell_type": "code",
   "execution_count": 4,
   "id": "f7b41e00-7139-4dc6-ab2a-885cea1b30c2",
   "metadata": {},
   "outputs": [],
   "source": [
    "# Above result said that their is no any order to print the element means\n",
    "# the value which is written at the last point but the print at  any other place means\n",
    "# they are unorderd "
   ]
  },
  {
   "cell_type": "code",
   "execution_count": 5,
   "id": "963f6bf9-6008-418e-8f4e-96c641f0b17a",
   "metadata": {},
   "outputs": [],
   "source": [
    "# How to generate empty set "
   ]
  },
  {
   "cell_type": "code",
   "execution_count": 8,
   "id": "6a72506e-6069-4401-98b4-fb11ced77e66",
   "metadata": {},
   "outputs": [
    {
     "name": "stdout",
     "output_type": "stream",
     "text": [
      "<class 'dict'>\n",
      "<class 'set'>\n"
     ]
    }
   ],
   "source": [
    "collection ={}\n",
    "print(type(collection))\n",
    "\n",
    "collection =set()# this is write way to crate\n",
    "print(type(collection))"
   ]
  },
  {
   "cell_type": "code",
   "execution_count": 9,
   "id": "b4c29439-1416-4a86-979c-75010d917c12",
   "metadata": {},
   "outputs": [],
   "source": [
    "# set Methods "
   ]
  },
  {
   "cell_type": "code",
   "execution_count": 10,
   "id": "f8936874-a158-498e-bf37-f0467073aa16",
   "metadata": {},
   "outputs": [],
   "source": [
    "# 1-> .add  add element"
   ]
  },
  {
   "cell_type": "code",
   "execution_count": 13,
   "id": "f95befd4-8a9b-4674-b9de-636d06c225c8",
   "metadata": {},
   "outputs": [
    {
     "name": "stdout",
     "output_type": "stream",
     "text": [
      "{2, 'apna collage', 4, (2, 3, 5)}\n"
     ]
    }
   ],
   "source": [
    " collection = set()\n",
    "collection.add(2)\n",
    "collection.add(4)\n",
    "collection.add(2)\n",
    "collection.add(\"apna collage\")\n",
    "collection.add((2,3,5))\n",
    "print(collection)"
   ]
  },
  {
   "cell_type": "code",
   "execution_count": 14,
   "id": "7dd2f20f-b584-4405-adbc-d1bc8570eea2",
   "metadata": {},
   "outputs": [],
   "source": [
    "# when we add  list then result is "
   ]
  },
  {
   "cell_type": "code",
   "execution_count": 16,
   "id": "adfed536-389f-4117-bb66-b3dde6cde482",
   "metadata": {},
   "outputs": [
    {
     "ename": "TypeError",
     "evalue": "unhashable type: 'list'",
     "output_type": "error",
     "traceback": [
      "\u001b[1;31m---------------------------------------------------------------------------\u001b[0m",
      "\u001b[1;31mTypeError\u001b[0m                                 Traceback (most recent call last)",
      "Cell \u001b[1;32mIn[16], line 2\u001b[0m\n\u001b[0;32m      1\u001b[0m collection\u001b[38;5;241m=\u001b[39m \u001b[38;5;28mset\u001b[39m()\n\u001b[1;32m----> 2\u001b[0m \u001b[43mcollection\u001b[49m\u001b[38;5;241;43m.\u001b[39;49m\u001b[43madd\u001b[49m\u001b[43m(\u001b[49m\u001b[43m[\u001b[49m\u001b[38;5;241;43m2\u001b[39;49m\u001b[43m,\u001b[49m\u001b[38;5;241;43m3\u001b[39;49m\u001b[43m,\u001b[49m\u001b[38;5;241;43m4\u001b[39;49m\u001b[43m]\u001b[49m\u001b[43m)\u001b[49m\n\u001b[0;32m      3\u001b[0m \u001b[38;5;28mprint\u001b[39m(collection)\n",
      "\u001b[1;31mTypeError\u001b[0m: unhashable type: 'list'"
     ]
    }
   ],
   "source": [
    "collection= set()\n",
    "collection.add([2,3,4])\n",
    "print(collection)"
   ]
  },
  {
   "cell_type": "code",
   "execution_count": 17,
   "id": "b7661d5f-500c-4ee1-912b-429c632d4b48",
   "metadata": {},
   "outputs": [],
   "source": [
    "# what is unhashable type means \n",
    "# every immutable thing have some -> Hash value \n",
    "# so in case of list [1,3] they have some hash value now add something in this [2,1,3] \n",
    "# now its hash value become change which is volites the hash type "
   ]
  },
  {
   "cell_type": "code",
   "execution_count": 18,
   "id": "66ff0e7f-cdec-4206-9879-e2ec2e7ffe0d",
   "metadata": {},
   "outputs": [],
   "source": [
    "# .clear  clear all the set element"
   ]
  },
  {
   "cell_type": "code",
   "execution_count": 21,
   "id": "8da056cf-6d40-4ce1-9a83-22caf7ac8183",
   "metadata": {},
   "outputs": [
    {
     "name": "stdout",
     "output_type": "stream",
     "text": [
      "0\n"
     ]
    }
   ],
   "source": [
    " collection = set()\n",
    "collection.add(2)\n",
    "collection.add(4)\n",
    "collection.add(2)\n",
    "collection.add(\"apna collage\")\n",
    "collection.add((2,3,5))\n",
    "collection.clear()\n",
    "print(len(collection))"
   ]
  },
  {
   "cell_type": "code",
   "execution_count": 22,
   "id": "3f003d84-8fd2-48ae-8c17-9459b116afed",
   "metadata": {},
   "outputs": [],
   "source": [
    "# .pop clear a random value of the list"
   ]
  },
  {
   "cell_type": "code",
   "execution_count": 25,
   "id": "96d7f38f-34d2-4f46-b894-3abcdda3fbc0",
   "metadata": {},
   "outputs": [
    {
     "name": "stdout",
     "output_type": "stream",
     "text": [
      "2\n",
      "apna collage\n"
     ]
    }
   ],
   "source": [
    " collection = set()\n",
    "collection.add(2)\n",
    "collection.add(4)\n",
    "collection.add(2)\n",
    "collection.add(\"apna collage\")\n",
    "collection.add((2,3,5))\n",
    "print(collection.pop())\n",
    "print(collection.pop())"
   ]
  },
  {
   "cell_type": "code",
   "execution_count": 26,
   "id": "71a8c7d9-21d0-4a7b-b1de-244925e0775c",
   "metadata": {},
   "outputs": [],
   "source": [
    "# 4-> .union combine both set values and reuturn new "
   ]
  },
  {
   "cell_type": "code",
   "execution_count": 29,
   "id": "79a5e510-8e2a-4279-8af3-d3488dd25ba9",
   "metadata": {},
   "outputs": [
    {
     "name": "stdout",
     "output_type": "stream",
     "text": [
      "{1, 2, 3, 4}\n",
      "{1, 2, 3}\n",
      "{1, 3, 4}\n"
     ]
    }
   ],
   "source": [
    "set1= {1,2,3}\n",
    "set2= {3,4,1}\n",
    "print(set1.union(set2))\n",
    "print(set1)\n",
    "print(set2)"
   ]
  },
  {
   "cell_type": "code",
   "execution_count": 30,
   "id": "31c1705f-a058-41cb-b534-db33dd36de0d",
   "metadata": {},
   "outputs": [],
   "source": [
    "# intersection"
   ]
  },
  {
   "cell_type": "code",
   "execution_count": 31,
   "id": "8c7abce9-7361-4d4f-a841-2c555f70d25e",
   "metadata": {},
   "outputs": [
    {
     "name": "stdout",
     "output_type": "stream",
     "text": [
      "{3}\n"
     ]
    }
   ],
   "source": [
    "set1={1,3,4}\n",
    "set2= {2,3,5}\n",
    "print(set1.intersection(set2))"
   ]
  }
 ],
 "metadata": {
  "kernelspec": {
   "display_name": "Python 3 (ipykernel)",
   "language": "python",
   "name": "python3"
  },
  "language_info": {
   "codemirror_mode": {
    "name": "ipython",
    "version": 3
   },
   "file_extension": ".py",
   "mimetype": "text/x-python",
   "name": "python",
   "nbconvert_exporter": "python",
   "pygments_lexer": "ipython3",
   "version": "3.12.1"
  }
 },
 "nbformat": 4,
 "nbformat_minor": 5
}
