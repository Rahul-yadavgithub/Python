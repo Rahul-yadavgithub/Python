{
 "cells": [
  {
   "cell_type": "code",
   "execution_count": 1,
   "id": "053a05d5-ef22-462b-a1e6-5b4f518ba1a1",
   "metadata": {},
   "outputs": [
    {
     "name": "stdout",
     "output_type": "stream",
     "text": [
      "hello\n"
     ]
    }
   ],
   "source": [
    "print(\"hello\")"
   ]
  },
  {
   "cell_type": "code",
   "execution_count": 10,
   "id": "620a7bf3-0091-4d46-88d3-aee5a2492506",
   "metadata": {},
   "outputs": [
    {
     "name": "stdin",
     "output_type": "stream",
     "text": [
      "Enter the length of the list: 5\n",
      "Enter the 1 element of the list-> 9\n",
      "Enter the 2 element of the list-> 6\n",
      "Enter the 3 element of the list-> 2\n",
      "Enter the 4 element of the list-> 4\n",
      "Enter the 5 element of the list-> 7\n"
     ]
    },
    {
     "name": "stdout",
     "output_type": "stream",
     "text": [
      "[9, 6, 2, 4, 7]\n",
      "[2, 4, 6, 7, 9]\n"
     ]
    }
   ],
   "source": [
    "def reverse(list):\n",
    "    n= len(list)\n",
    "    for i in range(0,n-1):\n",
    "        for j in range(0,n-1-i):\n",
    "            if(list[j]>list[j+1]):\n",
    "                 temp = list[j]\n",
    "                 list[j]=list[j+1]\n",
    "                 list[j+1]= temp\n",
    "           \n",
    "    return list\n",
    "    \n",
    "\n",
    "\n",
    "\n",
    "list= [int(input(f\"Enter the {i+1} element of the list->\")) for i in range(int(input(\"Enter the length of the list:\")))]\n",
    "print(list)\n",
    "reverse(list)\n",
    "print(list)"
   ]
  },
  {
   "cell_type": "markdown",
   "id": "9cb756e5-ff59-4ccf-bde5-4c4fd7de5df9",
   "metadata": {},
   "source": [
    "# WAP to merge two sorted array "
   ]
  },
  {
   "cell_type": "code",
   "execution_count": 11,
   "id": "c9242c96-ca91-435e-978a-582d579be467",
   "metadata": {},
   "outputs": [
    {
     "name": "stdout",
     "output_type": "stream",
     "text": [
      "[1, 2, 3, 3, 4, 4, 5, 6, 7]\n"
     ]
    }
   ],
   "source": [
    "def merge(v1, v2):\n",
    "    n= len(v1)\n",
    "    m= len(v2)\n",
    "    arr=[0]*(n+m)\n",
    "    i= 0\n",
    "    j=0\n",
    "    k=0\n",
    "    while(i<=n-1 and j<=m-1):\n",
    "        if(v1[i]<v2[j]):\n",
    "            arr[k]=v1[i]\n",
    "            i=i+1\n",
    "            k=k+1\n",
    "        else:\n",
    "            arr[k]= v2[j]\n",
    "            j=j+1\n",
    "            k=k+1\n",
    "\n",
    "    if(i==n):\n",
    "        while(j<m):\n",
    "            arr[k]= v2[j]\n",
    "            k=k+1\n",
    "            j=j+1\n",
    "\n",
    "    if(j==m):\n",
    "        while(i<n):\n",
    "            arr[k]= v1[i]\n",
    "            k= k+1\n",
    "            i=i+1\n",
    "\n",
    "    return arr\n",
    "\n",
    "arr1= [1,2,3,4]\n",
    "arr2= [3,4,5,6,7]\n",
    "x=merge(arr1,arr2)\n",
    "print(x)"
   ]
  },
  {
   "cell_type": "markdown",
   "id": "867690a4-192e-4b67-8a95-44e96704aaac",
   "metadata": {},
   "source": [
    "# WAP to print the Next Permutation of the given array"
   ]
  },
  {
   "cell_type": "code",
   "execution_count": 12,
   "id": "f69a2d32-6629-47be-878c-b4b8be4b4d36",
   "metadata": {},
   "outputs": [
    {
     "name": "stdout",
     "output_type": "stream",
     "text": [
      "[1, 4, 2]\n"
     ]
    }
   ],
   "source": [
    "def permutation(v):\n",
    "    idx=-1\n",
    "    n= len(v)\n",
    "    for i in range(n-2,0,-1):\n",
    "        if(v[i]<v[i+1]):\n",
    "            idx= i\n",
    "            break\n",
    "\n",
    "    if(idx==-1):\n",
    "        i=0\n",
    "        j=n-1\n",
    "        while(i<=j):\n",
    "            temp= v[i]\n",
    "            v[i]= v[j]\n",
    "            v[j]= temp\n",
    "            i+=1\n",
    "            j-=1\n",
    "\n",
    "    j=-1\n",
    "    for i in range(0,n):\n",
    "        if(v[i]>v[idx]):\n",
    "            j=i\n",
    "            break\n",
    "\n",
    "    temp= v[idx]\n",
    "    v[idx]= v[j]\n",
    "    v[j] = temp\n",
    "    return v\n",
    "\n",
    "arr= [1,2,4]\n",
    "permutation(arr)\n",
    "print(arr)\n",
    "            "
   ]
  },
  {
   "cell_type": "code",
   "execution_count": 1,
   "id": "16390ddf-531f-464d-b378-dae43835fafd",
   "metadata": {},
   "outputs": [],
   "source": [
    "# using sliding window algorithum "
   ]
  },
  {
   "cell_type": "code",
   "execution_count": 6,
   "id": "ee42bc16-e409-42f6-8e99-769a102fe702",
   "metadata": {},
   "outputs": [
    {
     "name": "stdin",
     "output_type": "stream",
     "text": [
      "Enter element: 1 2 3 4 5 6 7 8\n"
     ]
    },
    {
     "name": "stdout",
     "output_type": "stream",
     "text": [
      "21\n"
     ]
    }
   ],
   "source": [
    "arr= [int(x) for x in input(\"Enter element:\").split()]\n",
    "n= len(arr)\n",
    "k=3\n",
    "maxsum= 0\n",
    "for i in range(0, n):\n",
    "    if(maxsum<arr[i]):\n",
    "        maxsum= arr[i]\n",
    "maxIdx= 0\n",
    "prevSum=0\n",
    "for i in range(0,k):\n",
    "    prevSum+= arr[i]\n",
    "maxsum= prevSum\n",
    "i=1\n",
    "j=k\n",
    "while(j<n):\n",
    "    currSum= prevSum+ arr[j] - arr[i-1]\n",
    "    if(maxsum<currSum):\n",
    "        maxsum= currSum\n",
    "        maxIdx= i\n",
    "\n",
    "    prevSum= currSum\n",
    "    i+=1\n",
    "    j+=1\n",
    "\n",
    "print(maxsum)"
   ]
  },
  {
   "cell_type": "markdown",
   "id": "962991f5-04eb-4ff8-a2b6-5d93c40e4661",
   "metadata": {},
   "source": [
    "#  WAP to print the subarray which sum is maximum \n"
   ]
  },
  {
   "cell_type": "code",
   "execution_count": 4,
   "id": "4e9facc9-b0c8-4eb2-9e02-e0122b9e6663",
   "metadata": {},
   "outputs": [
    {
     "name": "stdin",
     "output_type": "stream",
     "text": [
      "Enter Element: -2 4 5 -6 3 -8 7\n"
     ]
    },
    {
     "name": "stdout",
     "output_type": "stream",
     "text": [
      "Subarray with maximum Sum:\n",
      "4 ,5 ,\n",
      "Maximum Sum: 9\n"
     ]
    }
   ],
   "source": [
    "arr= [int(x) for x in input(\"Enter Element:\").split()]\n",
    "n= len(arr)\n",
    "maxSum= float('-inf')\n",
    "sum= 0\n",
    "initialIdx= 0\n",
    "endIdx=0\n",
    "tempIdx=0\n",
    "for j in range(0,n):\n",
    "    sum+= arr[j]\n",
    "    if(sum>maxSum):\n",
    "        maxSum= sum\n",
    "        initialIdx= tempIdx\n",
    "        endIdx= j\n",
    "\n",
    "    if(sum<0):\n",
    "        sum=0\n",
    "        tempIdx= j+1\n",
    "\n",
    "print(\"Subarray with maximum Sum:\")\n",
    "for i in range(initialIdx, endIdx+1):\n",
    "    print(arr[i],end=\" \")\n",
    "print()\n",
    "print(\"Maximum Sum:\" , maxSum)\n"
   ]
  },
  {
   "cell_type": "markdown",
   "id": "329ed232-3548-4a05-8b81-a4c00f53bfa6",
   "metadata": {},
   "source": [
    "#  print the array in alternating positive and negative order "
   ]
  },
  {
   "cell_type": "code",
   "execution_count": 1,
   "id": "a8eeadb6-1eb5-4546-bf7e-1ababb96643e",
   "metadata": {},
   "outputs": [
    {
     "name": "stdin",
     "output_type": "stream",
     "text": [
      "Enter Element: -5 -4 3 2 4 -6\n"
     ]
    },
    {
     "name": "stdout",
     "output_type": "stream",
     "text": [
      "-5 3 -4 2 -6 4 "
     ]
    }
   ],
   "source": [
    "arr= [int(x) for x in input(\"Enter Element:\").split()]\n",
    "n= len(arr)\n",
    "t=0\n",
    "i=0\n",
    "j=1\n",
    "while(t<n):\n",
    "    if(i%2==0 and arr[i]<0 and j%2!=0 and arr[j]>0):\n",
    "        i=i+2\n",
    "        j=j+2\n",
    "\n",
    "    elif(i%2==0 and arr[i]>0 and j%2!=0 and arr[j]<0):\n",
    "        temp= arr[i]\n",
    "        arr[i]= arr[j]\n",
    "        arr[j]= temp\n",
    "        i=i+2\n",
    "        j=j+2\n",
    "\n",
    "    elif(t>i and t>j and arr[t]<0):\n",
    "        if(i%2==0 and arr[i]>0 and j%2!=0 and arr[j]>0):\n",
    "            k= t\n",
    "            while(k!=i):\n",
    "                temp= arr[k]\n",
    "                arr[k]= arr[k-1]\n",
    "                arr[k-1]= temp\n",
    "                k=k-1\n",
    "\n",
    "    elif(t>i and t>j and arr[t]>0):\n",
    "        if(i%2==0 and arr[i]<0 and j%2!=0 and arr[j]<0):\n",
    "            k= t\n",
    "            while(k!=j):\n",
    "                temp= arr[k]\n",
    "                arr[k]= arr[k-1]\n",
    "                arr[k-1]= temp\n",
    "                k-=1\n",
    "            \n",
    "             \n",
    "              \n",
    "           \n",
    "\n",
    "    t+=1\n",
    "\n",
    "for i in range(0,n):\n",
    "    print(arr[i], end=\" \")"
   ]
  },
  {
   "cell_type": "markdown",
   "id": "aa32ae26-ef39-4b92-8cc3-10e3709b2a05",
   "metadata": {},
   "source": [
    "# write a program to print the maximum itratiion in the array"
   ]
  },
  {
   "cell_type": "code",
   "execution_count": 10,
   "id": "81c9badf-c58c-4cb5-8b3d-0162ca58a419",
   "metadata": {},
   "outputs": [
    {
     "name": "stdin",
     "output_type": "stream",
     "text": [
      "Enter Elements:  1 1 2 1 3 4 1\n"
     ]
    },
    {
     "name": "stdout",
     "output_type": "stream",
     "text": [
      "Maximum iteration value-> 1 : 4\n"
     ]
    }
   ],
   "source": [
    "arr = [int(x) for x in input(\"Enter Elements: \").split()]\n",
    "dictionary = {}\n",
    "\n",
    "for i in arr:\n",
    "    if i in dictionary:\n",
    "        dictionary[i] += 1\n",
    "    else:\n",
    "        dictionary[i] = 1\n",
    "\n",
    "max_iteration = 0\n",
    "max_key = None\n",
    "for key, value in dictionary.items():\n",
    "    if value > max_iteration:\n",
    "        max_iteration = value\n",
    "        max_key = key\n",
    "\n",
    "print(\"Maximum iteration value->\", max_key,\":\" , max_iteration )\n"
   ]
  },
  {
   "cell_type": "markdown",
   "id": "d9b6deec-8bb4-445f-8757-bed386f061c3",
   "metadata": {},
   "source": [
    "# write a program to counts the number of upper and lower of a letter \r",
    " ."
   ]
  },
  {
   "cell_type": "code",
   "execution_count": 17,
   "id": "7973cd24-57ce-437e-893e-f2646a854902",
   "metadata": {},
   "outputs": [
    {
     "name": "stdin",
     "output_type": "stream",
     "text": [
      "Enter Elements:  a b c D e F G H i J k L \n"
     ]
    },
    {
     "name": "stdout",
     "output_type": "stream",
     "text": [
      "The Number of Upper Case element: 6\n",
      "\n",
      "The Number of Lower case element: 6\n"
     ]
    }
   ],
   "source": [
    "arr = [x for x in input(\"Enter Elements: \").split()]\n",
    "n= len(arr)\n",
    "Upper_case=0\n",
    "Lower_case=0\n",
    "for i in range(0,n):\n",
    "    if(ord(arr[i])>=65 and ord(arr[i])<=90):\n",
    "        Upper_case+=1\n",
    "\n",
    "    if(ord(arr[i])>=97 and ord(arr[i])<=122):\n",
    "        Lower_case+=1\n",
    "\n",
    "print(\"The Number of Upper Case element:\", Upper_case)\n",
    "print()\n",
    "print(\"The Number of Lower case element:\", Lower_case)\n",
    "        "
   ]
  },
  {
   "cell_type": "code",
   "execution_count": 16,
   "id": "fce19a84-3c63-4c35-81f1-f23fc3097699",
   "metadata": {},
   "outputs": [
    {
     "name": "stdin",
     "output_type": "stream",
     "text": [
      "Enter a positive integer:  1\n"
     ]
    },
    {
     "name": "stdout",
     "output_type": "stream",
     "text": [
      "*\n"
     ]
    }
   ],
   "source": [
    "n = int(input(\"Enter a positive integer: \"))\n",
    "\n",
    "if n < 1:\n",
    "    pass  # Do nothing if the input is less than 1\n",
    "else:\n",
    "    for i in range(n):\n",
    "        for j in range(n):\n",
    "            print(\"*\", end=\"\")\n",
    "        print()  # Move to the next line after printing each row\n"
   ]
  },
  {
   "cell_type": "code",
   "execution_count": 18,
   "id": "be75f0b3-82f7-4867-a0d5-8a67e4aa0519",
   "metadata": {},
   "outputs": [
    {
     "name": "stdout",
     "output_type": "stream",
     "text": [
      "Square root after specific seconds: 4.0\n",
      "Square root after specific milliseconds: 10.0\n"
     ]
    }
   ],
   "source": [
    "import time\n",
    "import math\n",
    "\n",
    "def square_root(num):\n",
    "    return math.sqrt(num)\n",
    "\n",
    "# Define the delay in seconds (for example, 2 seconds)\n",
    "delay_seconds = 2\n",
    "\n",
    "# Wait for the specified delay\n",
    "time.sleep(delay_seconds)\n",
    "\n",
    "# Call the function after the delay\n",
    "result1 = square_root(16)\n",
    "print(\"Square root after specific seconds:\", result1)\n",
    "\n",
    "# Define the delay in milliseconds (for example, 3000 milliseconds)\n",
    "delay_milliseconds = 3\n",
    "\n",
    "# Wait for the specified delay\n",
    "time.sleep(delay_milliseconds / 1000)\n",
    "\n",
    "# Call the function after the delay\n",
    "result2 = square_root(100)\n",
    "print(\"Square root after specific milliseconds:\", result2)\n"
   ]
  },
  {
   "cell_type": "markdown",
   "id": "bd18e716-e665-42b6-96b6-9334a484771a",
   "metadata": {},
   "source": [
    "# Reverse the stack using while loop"
   ]
  },
  {
   "cell_type": "code",
   "execution_count": 22,
   "id": "cdec26b2-8bed-4c4b-ab7d-99701f1421e9",
   "metadata": {},
   "outputs": [
    {
     "name": "stdin",
     "output_type": "stream",
     "text": [
      "Enter the element: 1 2 3 4 5 6\n"
     ]
    },
    {
     "name": "stdout",
     "output_type": "stream",
     "text": [
      "[6, 5, 4, 3, 2, 1]\n"
     ]
    }
   ],
   "source": [
    "st= [int(x) for x in input(\"Enter the element:\").split()]\n",
    "n= len(st)\n",
    "temp= []\n",
    "new_temp=[]\n",
    "while(len(st)!=0):\n",
    "    x= st.pop()\n",
    "    temp.append(x)\n",
    "\n",
    "while(len(temp)!=0):\n",
    "    x= temp.pop()\n",
    "    new_temp.append(x)\n",
    "\n",
    "while(len(new_temp)!=0):\n",
    "    x= new_temp.pop()\n",
    "    st.append(x)\n",
    "\n",
    "print(st)\n"
   ]
  },
  {
   "cell_type": "markdown",
   "id": "5adcf347-20f8-4bb5-ae5f-761af1496330",
   "metadata": {},
   "source": [
    "# Reverse the stack using linked list"
   ]
  },
  {
   "cell_type": "code",
   "execution_count": 3,
   "id": "21325507-acd5-472d-aac8-2f4e80dfab15",
   "metadata": {},
   "outputs": [
    {
     "name": "stdout",
     "output_type": "stream",
     "text": [
      "Original stack:\n",
      "4->3->2->1->None\n",
      "Reversed stack:\n",
      "1->2->3->4->None\n"
     ]
    }
   ],
   "source": [
    "class Node:\n",
    "    def __init__(self, data):\n",
    "        self.data = data\n",
    "        self.next = None\n",
    "\n",
    "class Stack:\n",
    "    def __init__(self):\n",
    "        self.top = None\n",
    "\n",
    "    def push(self, data):\n",
    "        new_node = Node(data)\n",
    "        if self.top is None:\n",
    "            self.top = new_node\n",
    "        else:\n",
    "            new_node.next = self.top\n",
    "            self.top = new_node\n",
    "\n",
    "    def pop(self):\n",
    "        if self.top is None:\n",
    "            return None\n",
    "        else:\n",
    "            popped = self.top\n",
    "            self.top = self.top.next\n",
    "            return popped.data\n",
    "\n",
    "    def is_empty(self):\n",
    "        return self.top is None\n",
    "\n",
    "    def reverse(self):\n",
    "        prev = None\n",
    "        current = self.top\n",
    "        while current is not None:\n",
    "            next_node = current.next\n",
    "            current.next = prev\n",
    "            prev = current\n",
    "            current = next_node\n",
    "        self.top = prev\n",
    "\n",
    "    def display(self):\n",
    "        current = self.top\n",
    "        while current is not None:\n",
    "            print(current.data, end=\"->\")\n",
    "            current = current.next\n",
    "        print(\"None\")\n",
    "\n",
    "# Example usage:\n",
    "stack = Stack()\n",
    "stack.push(1)\n",
    "stack.push(2)\n",
    "stack.push(3)\n",
    "stack.push(4)\n",
    "\n",
    "print(\"Original stack:\")\n",
    "stack.display()\n",
    "\n",
    "stack.reverse()\n",
    "\n",
    "print(\"Reversed stack:\")\n",
    "stack.display()\n"
   ]
  },
  {
   "cell_type": "code",
   "execution_count": 4,
   "id": "a47d50fe-d0ae-4276-80ba-c92c5f6997cd",
   "metadata": {},
   "outputs": [
    {
     "name": "stdout",
     "output_type": "stream",
     "text": [
      "Addition: 8\n",
      "Subtraction: 2\n",
      "Multiplication: 15\n",
      "Division: 1.6666666666666667\n"
     ]
    }
   ],
   "source": [
    "class Calculator:\n",
    "    def add(self, x, y):\n",
    "        return x + y\n",
    "\n",
    "    def subtract(self, x, y):\n",
    "        return x - y\n",
    "\n",
    "    def multiply(self, x, y):\n",
    "        return x * y\n",
    "\n",
    "    def divide(self, x, y):\n",
    "        if y == 0:\n",
    "            return \"Error: Division by zero\"\n",
    "        else:\n",
    "            return x / y\n",
    "\n",
    "# Example usage\n",
    "calc = Calculator()\n",
    "print(\"Addition:\", calc.add(5, 3))\n",
    "print(\"Subtraction:\", calc.subtract(5, 3))\n",
    "print(\"Multiplication:\", calc.multiply(5, 3))\n",
    "print(\"Division:\", calc.divide(5, 3))\n"
   ]
  },
  {
   "cell_type": "markdown",
   "id": "7c5e97d2-4d0d-4543-a05c-24c562167638",
   "metadata": {},
   "source": [
    "# Creating the linkedlist "
   ]
  },
  {
   "cell_type": "code",
   "execution_count": 18,
   "id": "da8a06d5-14db-4879-a49d-5dc88bd139e2",
   "metadata": {},
   "outputs": [
    {
     "name": "stdout",
     "output_type": "stream",
     "text": [
      "5 2 \n"
     ]
    }
   ],
   "source": [
    "class Node:\n",
    "    def __init__(self, data):\n",
    "        self.data= data\n",
    "        self.next=None\n",
    "class Linkedlist:\n",
    "    def __init__(self):\n",
    "        self.head= None\n",
    "        self.tail= None\n",
    "        self.size= 0\n",
    "\n",
    "    def insertAtEnd(self,data):\n",
    "        new_node= Node(data)\n",
    "        if self.head is None:\n",
    "            self.head= new_node\n",
    "            return\n",
    "        else:\n",
    "            new_node.next= self.head\n",
    "            self.head= new_node\n",
    "    def display(self):\n",
    "        temp= self.head\n",
    "        while temp is not None:\n",
    "            print(temp.data, end=\" \")\n",
    "            temp = temp.next\n",
    "        print()\n",
    "\n",
    "linkedlist1=Linkedlist()\n",
    "linkedlist1.insertAtEnd(2)\n",
    "linkedlist1.insertAtEnd(5)\n",
    "linkedlist1.display()\n"
   ]
  },
  {
   "cell_type": "markdown",
   "id": "27b22bac-2aae-48b2-b066-86cbf92e7f4e",
   "metadata": {},
   "source": [
    "# Inserting the value at the Begenning of the linkedlist "
   ]
  },
  {
   "cell_type": "code",
   "execution_count": 14,
   "id": "f0962115-fa0e-4a30-8415-cc18a1809ac0",
   "metadata": {},
   "outputs": [
    {
     "name": "stdout",
     "output_type": "stream",
     "text": [
      "Linked List:\n",
      "45 21 \n"
     ]
    }
   ],
   "source": [
    "class Node:\n",
    "    def __init__(self, data):\n",
    "        self.data = data\n",
    "        self.next = None # Reference to the next node in the list\n",
    "\n",
    "class LinkedList:\n",
    "    def __init__(self):\n",
    "        self.head = None\n",
    "        self.tail = None\n",
    "        self.size = 0\n",
    "\n",
    "    def insertAtHead(self, data):\n",
    "        new_node= Node(data)\n",
    "        if self.head is None:\n",
    "            self.head= new_node\n",
    "            return\n",
    "        else:\n",
    "            new_node.next= self.head\n",
    "            self.head= new_node\n",
    "\n",
    "    def display(self):\n",
    "        temp = self.head\n",
    "        while temp is not None:\n",
    "            print(temp.data, end=\" \")\n",
    "            temp = temp.next\n",
    "        print()  # Print a newline after the list\n",
    "\n",
    "# Example usage\n",
    "linkedList1 = LinkedList()\n",
    "linkedList1.insertAtHead(21)\n",
    "linkedList1.insertAtHead(45)\n",
    "\n",
    "print(\"Linked List:\")\n",
    "linkedList1.display()  \n"
   ]
  },
  {
   "cell_type": "markdown",
   "id": "516ed91d-6f49-4302-bb20-bc14cb85bf88",
   "metadata": {},
   "source": [
    "# make linkedlist using stack "
   ]
  },
  {
   "cell_type": "code",
   "execution_count": 3,
   "id": "6276aa32-8827-48ce-b7b7-3bd3b4e1a45f",
   "metadata": {},
   "outputs": [
    {
     "name": "stdout",
     "output_type": "stream",
     "text": [
      "10\n",
      "Top element: 10\n",
      "Popped element: 10\n",
      "Popped element: None\n",
      "stack Underflow\n"
     ]
    }
   ],
   "source": [
    "class Node:\n",
    "    def __init__(self, data):\n",
    "        self.data = data\n",
    "        self.next = None\n",
    "class Stack:\n",
    "    def __init__(self):\n",
    "        self.head= None\n",
    "    def isempty(self):\n",
    "        if self.head== None:\n",
    "            return True\n",
    "        else:\n",
    "            return False\n",
    "    def push(self, data):\n",
    "        if self.head== None:\n",
    "            self.head= Node(data)\n",
    "        else:\n",
    "            new_node= Node(data)\n",
    "            new_node= self.head\n",
    "            self.head= new_node\n",
    "    def pop(self):\n",
    "        if self.isempty():\n",
    "            return None\n",
    "        else:\n",
    "            popped_node= self.head\n",
    "            self.head= self.head.next\n",
    "            popped_node.next= None\n",
    "            return popped_node.data\n",
    "\n",
    "# return the head node \n",
    "    def peek(self):\n",
    "        if self.isempty():\n",
    "            return None\n",
    "        else:\n",
    "            return self.head.data\n",
    "\n",
    "# print the stackk\n",
    "    def display(self):\n",
    "        iternode= self.head\n",
    "        if self.isempty():\n",
    "            print(\"stack Underflow\")\n",
    "        else:\n",
    "            while(iternode!= None):\n",
    "                print(iternode.data, end= \"\")\n",
    "                iternode= iternode.next\n",
    "                if(iternode!= None):\n",
    "                    print(\"-> \", end= \"\")\n",
    "                    return\n",
    "# Creating a stack\n",
    "stack = Stack()\n",
    "\n",
    "# Pushing elements onto the stack\n",
    "stack.push(10)\n",
    "stack.push(20)\n",
    "stack.push(30)\n",
    "\n",
    "# Displaying the stack\n",
    "stack.display()\n",
    "\n",
    "# Peeking at the top element\n",
    "print(\"\\nTop element:\", stack.peek())\n",
    "\n",
    "# Popping elements from the stack\n",
    "print(\"Popped element:\", stack.pop())\n",
    "print(\"Popped element:\", stack.pop())\n",
    "\n",
    "# Displaying the updated stack\n",
    "stack.display()\n",
    "     "
   ]
  }
 ],
 "metadata": {
  "kernelspec": {
   "display_name": "Python 3 (ipykernel)",
   "language": "python",
   "name": "python3"
  },
  "language_info": {
   "codemirror_mode": {
    "name": "ipython",
    "version": 3
   },
   "file_extension": ".py",
   "mimetype": "text/x-python",
   "name": "python",
   "nbconvert_exporter": "python",
   "pygments_lexer": "ipython3",
   "version": "3.12.1"
  }
 },
 "nbformat": 4,
 "nbformat_minor": 5
}
