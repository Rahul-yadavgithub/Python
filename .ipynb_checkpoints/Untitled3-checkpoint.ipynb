{
 "cells": [
  {
   "cell_type": "code",
   "execution_count": 16,
   "id": "44ebd736-4c22-4916-b5d2-b1cac291e1f5",
   "metadata": {},
   "outputs": [
    {
     "name": "stdin",
     "output_type": "stream",
     "text": [
      "Enter the internal Marks 51\n",
      "Enter the Exteranl Marks 30\n",
      "Enter the assignment 20\n"
     ]
    },
    {
     "name": "stdout",
     "output_type": "stream",
     "text": [
      "Enter the valid Marks\n"
     ]
    },
    {
     "name": "stdin",
     "output_type": "stream",
     "text": [
      "Enter the internal Marks   -20\n",
      "Enter the Exteranl Marks 10\n",
      "Enter the assignment -20\n"
     ]
    },
    {
     "name": "stdout",
     "output_type": "stream",
     "text": [
      "Enter the valid Marks\n"
     ]
    },
    {
     "name": "stdin",
     "output_type": "stream",
     "text": [
      "Enter the internal Marks 45\n",
      "Enter the Exteranl Marks 25\n",
      "Enter the assignment 15\n"
     ]
    },
    {
     "name": "stdout",
     "output_type": "stream",
     "text": [
      "B\n"
     ]
    }
   ],
   "source": [
    "bool= True\n",
    "while(bool!=False):\n",
    "                   n1= int(input(\"Enter the internal Marks\"))\n",
    "                   n2= int(input(\"Enter the Exteranl Marks\"))\n",
    "                   n3= int(input(\"Enter the assignment\"))\n",
    "                   sum= n1+n2+ n3\n",
    "                   if(sum>=0 and sum<=100):\n",
    "                                           if(sum>90 and sum<=100):\n",
    "                                                                   print(\"A\")\n",
    "                                           elif(sum>80 and sum<=90):\n",
    "                                                                    print(\"B\")\n",
    "                                           elif(sum>70 and sum<= 80):\n",
    "                                                                     print(\"C\")\n",
    "                                           else: \n",
    "                                                print(\"Failed!\")\n",
    "                                           break\n",
    "                   else:  \n",
    "                        print(\"Enter the valid Marks\")\n",
    "                        \n",
    "                   bool= True"
   ]
  },
  {
   "cell_type": "code",
   "execution_count": null,
   "id": "d24cbb93-25e0-4adb-a6ae-ebf50143563e",
   "metadata": {},
   "outputs": [],
   "source": []
  }
 ],
 "metadata": {
  "kernelspec": {
   "display_name": "Python 3 (ipykernel)",
   "language": "python",
   "name": "python3"
  },
  "language_info": {
   "codemirror_mode": {
    "name": "ipython",
    "version": 3
   },
   "file_extension": ".py",
   "mimetype": "text/x-python",
   "name": "python",
   "nbconvert_exporter": "python",
   "pygments_lexer": "ipython3",
   "version": "3.12.1"
  }
 },
 "nbformat": 4,
 "nbformat_minor": 5
}
