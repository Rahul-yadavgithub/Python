{
 "cells": [
  {
   "cell_type": "code",
   "execution_count": 1,
   "id": "4db34fe7-3af9-43c4-9102-9aba3c57b499",
   "metadata": {},
   "outputs": [],
   "source": [
    "# how to create and object and class in python "
   ]
  },
  {
   "cell_type": "code",
   "execution_count": 5,
   "id": "18ee3d70-3d20-4a3b-b1cf-ecc04994e757",
   "metadata": {},
   "outputs": [
    {
     "name": "stdout",
     "output_type": "stream",
     "text": [
      "rahul Yadav\n"
     ]
    }
   ],
   "source": [
    "class student:\n",
    "    name = \"rahul Yadav\"\n",
    "\n",
    "s1= student()\n",
    "print(s1.name)"
   ]
  },
  {
   "cell_type": "code",
   "execution_count": 6,
   "id": "abd0c61b-bab2-4c7a-bfa8-2b5c9816c2e6",
   "metadata": {},
   "outputs": [],
   "source": [
    "#  constructor "
   ]
  },
  {
   "cell_type": "code",
   "execution_count": 7,
   "id": "82f6f1e6-7d5a-42b3-a3bd-4a9788ef5ae1",
   "metadata": {},
   "outputs": [
    {
     "name": "stdout",
     "output_type": "stream",
     "text": [
      "Adding new student in Database..\n"
     ]
    }
   ],
   "source": [
    "class student:\n",
    "    name =\"Rahul Yadav\"\n",
    "     def __init__(self):   # defining constuctor in our oop \n",
    "        print(\"Adding new student in Database..\")\n",
    "\n",
    "s1= student()       # this call the constructor and without print we find this printing value"
   ]
  },
  {
   "cell_type": "code",
   "execution_count": 8,
   "id": "d74873f3-ea69-4af0-bc6a-c862a1c59ac4",
   "metadata": {},
   "outputs": [],
   "source": [
    "# what is self in our constructor let's understand"
   ]
  },
  {
   "cell_type": "code",
   "execution_count": 13,
   "id": "9f5ed5a5-3f97-40fb-8b54-7b6bf31a73d7",
   "metadata": {},
   "outputs": [
    {
     "name": "stdout",
     "output_type": "stream",
     "text": [
      "<__main__.student object at 0x0000021A31EC6360>\n",
      "Adding new student in Database..\n",
      "<__main__.student object at 0x0000021A31EC6360>\n"
     ]
    }
   ],
   "source": [
    "class student:\n",
    "    name= \"Rahul Yadav\"\n",
    "    def __init__(self):   # hear self means s1 itself means location of s1 and self are same\n",
    "        print(self)\n",
    "        print(\"Adding new student in Database..\")\n",
    "\n",
    "s1= student()\n",
    "print(s1)"
   ]
  },
  {
   "cell_type": "code",
   "execution_count": 14,
   "id": "11369480-47f1-4cc8-99f1-262ff9575e22",
   "metadata": {},
   "outputs": [],
   "source": [
    "# How to pass name in our function "
   ]
  },
  {
   "cell_type": "code",
   "execution_count": 17,
   "id": "00745f36-2e11-4434-96a8-3b10e37fbc19",
   "metadata": {},
   "outputs": [
    {
     "name": "stdout",
     "output_type": "stream",
     "text": [
      "Adding new student in Database..\n",
      "Rahul Yadav\n"
     ]
    }
   ],
   "source": [
    "class student:\n",
    "    def __init__(self, fullname):\n",
    "        self.name= fullname\n",
    "        print(\"Adding new student in Database..\")\n",
    "\n",
    "s1= student(\"Rahul Yadav\")\n",
    "print(s1.name) \n",
    "    "
   ]
  },
  {
   "cell_type": "code",
   "execution_count": 18,
   "id": "2fc21392-d7c4-4f51-b949-011a1cd5d82d",
   "metadata": {},
   "outputs": [],
   "source": [
    "# we cans also pass many varible in our class "
   ]
  },
  {
   "cell_type": "code",
   "execution_count": 20,
   "id": "bbec730b-e638-4b25-86ce-047ab9dc3b4a",
   "metadata": {},
   "outputs": [
    {
     "name": "stdout",
     "output_type": "stream",
     "text": [
      "Adding new student in Database..\n",
      "Rahul Yadav\n",
      "95\n"
     ]
    }
   ],
   "source": [
    "class student:\n",
    "    def __init__(self,name, marks):\n",
    "        self.name= name\n",
    "        self.marks= marks\n",
    "        print(\"Adding new student in Database..\")\n",
    "\n",
    "s1 = student(\"Rahul Yadav\", 95)\n",
    "print(s1.name)\n",
    "print(s1.marks)"
   ]
  },
  {
   "cell_type": "code",
   "execution_count": 21,
   "id": "20a802ab-61e3-409b-ab13-d2e50abb6f39",
   "metadata": {},
   "outputs": [],
   "source": [
    "# We can also creat many more constructor"
   ]
  },
  {
   "cell_type": "code",
   "execution_count": 23,
   "id": "470dc8d7-3cbf-42e6-bfc7-03161f9defaa",
   "metadata": {},
   "outputs": [
    {
     "name": "stdout",
     "output_type": "stream",
     "text": [
      "Adding new student in Database..\n",
      "Rahul Yadav 95\n"
     ]
    }
   ],
   "source": [
    "class Student:\n",
    "    #default constuctors\n",
    "    def __init__(self):\n",
    "        pass\n",
    "    # parameteriszed constructors\n",
    "    def __init__(self, name, marks):\n",
    "        self.name= name\n",
    "        self.marks= marks\n",
    "        print(\"Adding ne studnet in Database..\")\n",
    "\n",
    "s1= student(\"Rahul Yadav\", 95)\n",
    "print(s1.name, s1.marks)\n",
    "        "
   ]
  },
  {
   "cell_type": "code",
   "execution_count": 24,
   "id": "65083402-09bc-49ba-863e-1fd97ed292d1",
   "metadata": {},
   "outputs": [],
   "source": [
    "# Different Type of attributes \n",
    "\n",
    "# 1- Class attributes\n",
    "# 2- Instance attributes"
   ]
  },
  {
   "cell_type": "code",
   "execution_count": 25,
   "id": "157d98a9-8e46-4105-8f4c-56013f79126a",
   "metadata": {},
   "outputs": [],
   "source": [
    " # if something is common in among all the student then that thing store in class "
   ]
  },
  {
   "cell_type": "code",
   "execution_count": 32,
   "id": "78329258-953b-4fa6-a758-63adadae5148",
   "metadata": {},
   "outputs": [
    {
     "name": "stdout",
     "output_type": "stream",
     "text": [
      "Adding student name in collage Database..\n",
      "Adding student name in collage Database..\n",
      "NIT Hamirpur\n",
      "Rahul Yadav 95\n",
      "NIT Hamirpur\n"
     ]
    }
   ],
   "source": [
    "class Student:\n",
    "    college_name= \"NIT Hamirpur\"\n",
    "    def __init__(self, name,marks):\n",
    "        self.name= name\n",
    "        self.marks= marks\n",
    "        print(\"Adding student name in collage Database..\")\n",
    "\n",
    "s1= Student(\"Rahul Yadav\", 95)\n",
    "s2= Student(\"Rohit Gupta\", 98)\n",
    "print(s1.college_name)\n",
    "print(s1.name, s1.marks)\n",
    "print(s2.college_name)"
   ]
  },
  {
   "cell_type": "code",
   "execution_count": 33,
   "id": "d7b7fdca-192a-4594-8676-7dab558cece5",
   "metadata": {},
   "outputs": [],
   "source": [
    "# if we difine class and object with same name what happend"
   ]
  },
  {
   "cell_type": "code",
   "execution_count": 41,
   "id": "2174ca89-4d3c-4853-87c3-5c8400a0f7bc",
   "metadata": {},
   "outputs": [
    {
     "name": "stdout",
     "output_type": "stream",
     "text": [
      "Adding new studnet name in DataBase..\n",
      "Rahul Yadav\n"
     ]
    }
   ],
   "source": [
    "class student:\n",
    "    college_name= \"NIT Hamirpur\"\n",
    "    name= \"Anonymous\"  # class attributes \n",
    "\n",
    "    def __init__(self, name,marks):\n",
    "        self.name= name # object attributes\n",
    "        self.marks= marks          # so hear name Rahul Yadav print not anonymous because \n",
    "        # pricedece of object attributes is > than class attributes \n",
    "        print(\"Adding new studnet name in DataBase..\")\n",
    "       \n",
    "\n",
    "s1= student(\"Rahul Yadav\", 95)\n",
    "print(s1.name)"
   ]
  },
  {
   "cell_type": "code",
   "execution_count": 42,
   "id": "2946b812-8d8b-42df-a0d7-0eaab86a8c64",
   "metadata": {},
   "outputs": [],
   "source": [
    "# Methods "
   ]
  },
  {
   "cell_type": "code",
   "execution_count": 43,
   "id": "4c72df72-5baa-4f22-a5a7-b23db4fe5940",
   "metadata": {},
   "outputs": [],
   "source": [
    "# class is mainly collection of data(attributes) and methods\n",
    "# car ka blue print in called  -> class\n",
    "# car kaise work karkegi -> methods"
   ]
  },
  {
   "cell_type": "code",
   "execution_count": 44,
   "id": "89c790c8-2c02-46f6-a81f-088325422a33",
   "metadata": {},
   "outputs": [],
   "source": [
    "# cearting the methods"
   ]
  },
  {
   "cell_type": "code",
   "execution_count": 47,
   "id": "bcbce9c5-8fd8-4cea-9612-eeb488e98f09",
   "metadata": {},
   "outputs": [
    {
     "name": "stdout",
     "output_type": "stream",
     "text": [
      "Welcome to NIT Hamirpur\n"
     ]
    }
   ],
   "source": [
    "  class Student:\n",
    "      collage_name= \"NIT Hamirpur\"\n",
    "      def __init__(self,name):\n",
    "          self.name= name\n",
    "\n",
    "      def welcome(self):   # this is method \n",
    "          print(\"Welcome to NIT Hamirpur\")\n",
    "\n",
    "s1= Student(\"Rahul Yadav\")\n",
    "s1.welcome()"
   ]
  },
  {
   "cell_type": "code",
   "execution_count": 48,
   "id": "9224a041-93d6-4cae-b1fe-d0031ececfd0",
   "metadata": {},
   "outputs": [],
   "source": [
    "# cerate student class that takes name & marks of 3 subjects as arguments in constructor \n",
    "# then create a method to print the average "
   ]
  },
  {
   "cell_type": "code",
   "execution_count": 61,
   "id": "d4273d3d-723e-45ed-a646-41bcf6290c85",
   "metadata": {},
   "outputs": [
    {
     "name": "stdout",
     "output_type": "stream",
     "text": [
      "Hi Rahul Yadav Your avg score is: 95.0\n"
     ]
    }
   ],
   "source": [
    "class Student:\n",
    "    def __init__(self, name, marks):\n",
    "        self.name= name\n",
    "        self.marks= marks\n",
    "\n",
    "\n",
    "    def get_avg(self):\n",
    "         sum=0\n",
    "         for val in self.marks:\n",
    "             sum+=val\n",
    "         print(\"Hi\", self.name, \"Your avg score is:\",sum/3)\n",
    "s1= Student(\"Rahul Yadav\", [95,94,96])\n",
    "s1.get_avg()\n",
    "\n"
   ]
  },
  {
   "cell_type": "code",
   "execution_count": 62,
   "id": "ffc68eb5-ff1d-45fb-9006-ca0e52ceacb3",
   "metadata": {},
   "outputs": [],
   "source": [
    "# Static Methods "
   ]
  },
  {
   "cell_type": "code",
   "execution_count": 63,
   "id": "613676bd-0d41-45f4-b560-ad8408e3f8ca",
   "metadata": {},
   "outputs": [],
   "source": [
    "# Methods that don't use the self parameter (work at class level)"
   ]
  },
  {
   "cell_type": "code",
   "execution_count": 65,
   "id": "88e0dd52-44b8-44ee-84f4-7050e37f959a",
   "metadata": {},
   "outputs": [
    {
     "name": "stdout",
     "output_type": "stream",
     "text": [
      "hello\n"
     ]
    }
   ],
   "source": [
    "class Student:\n",
    "    def __init__(self,name,marks):\n",
    "        self.name= name\n",
    "        self.marks= marks\n",
    "\n",
    "    @staticmethod    # this is static method if we do not use the give error\n",
    "\n",
    "                  # this is also called decorator in the python \n",
    "    def hello():\n",
    "        print(\"hello\")\n",
    "\n",
    "s1= Student(\"Rahul Yadav\", 95)\n",
    "s1.hello()"
   ]
  },
  {
   "cell_type": "code",
   "execution_count": 68,
   "id": "c5ef8380-efde-42fc-9780-8f5f3777dcdd",
   "metadata": {},
   "outputs": [
    {
     "ename": "TypeError",
     "evalue": "Student.hello() takes 0 positional arguments but 1 was given",
     "output_type": "error",
     "traceback": [
      "\u001b[1;31m---------------------------------------------------------------------------\u001b[0m",
      "\u001b[1;31mTypeError\u001b[0m                                 Traceback (most recent call last)",
      "Cell \u001b[1;32mIn[68], line 10\u001b[0m\n\u001b[0;32m      7\u001b[0m         \u001b[38;5;28mprint\u001b[39m(\u001b[38;5;124m\"\u001b[39m\u001b[38;5;124mhello\u001b[39m\u001b[38;5;124m\"\u001b[39m)\n\u001b[0;32m      9\u001b[0m s1\u001b[38;5;241m=\u001b[39m Student(\u001b[38;5;124m\"\u001b[39m\u001b[38;5;124mRahul Yadav\u001b[39m\u001b[38;5;124m\"\u001b[39m, \u001b[38;5;241m95\u001b[39m)\n\u001b[1;32m---> 10\u001b[0m \u001b[43ms1\u001b[49m\u001b[38;5;241;43m.\u001b[39;49m\u001b[43mhello\u001b[49m\u001b[43m(\u001b[49m\u001b[43m)\u001b[49m\n",
      "\u001b[1;31mTypeError\u001b[0m: Student.hello() takes 0 positional arguments but 1 was given"
     ]
    }
   ],
   "source": [
    "class Student:\n",
    "    def __init__(self,name,marks):\n",
    "        self.name= name\n",
    "        self.marks= marks\n",
    "\n",
    "    def hello():   # in this case we do not use the @staticmethod so that give error\n",
    "        print(\"hello\")\n",
    "\n",
    "s1= Student(\"Rahul Yadav\", 95)\n",
    "s1.hello()"
   ]
  },
  {
   "cell_type": "code",
   "execution_count": 69,
   "id": "0ec94292-c7f0-46c5-ba1f-695098e0b3ff",
   "metadata": {},
   "outputs": [],
   "source": [
    "# Abstraction -> hiding the implementation details of a class and only showing the \n",
    "# the essential feature to the user "
   ]
  },
  {
   "cell_type": "code",
   "execution_count": 71,
   "id": "94ccce17-79f2-424b-8e1f-7601f4f30bbd",
   "metadata": {},
   "outputs": [
    {
     "name": "stdout",
     "output_type": "stream",
     "text": [
      "Car started..\n"
     ]
    }
   ],
   "source": [
    "class Car:\n",
    "    def __init__(self):\n",
    "        self.acc= False\n",
    "        self.brk= False\n",
    "        self.clutch=False\n",
    "\n",
    "    def start(self):\n",
    "        self.clutch= True\n",
    "        self.acc= True\n",
    "        print(\"Car started..\")\n",
    "\n",
    "car1=Car()\n",
    "car1.start()\n",
    "        "
   ]
  },
  {
   "cell_type": "code",
   "execution_count": 72,
   "id": "6db8d3ab-35bf-4531-ab71-45730f5b74ff",
   "metadata": {},
   "outputs": [],
   "source": [
    "# Encapsulation -> wrapping data and functions into a single unit(object)"
   ]
  },
  {
   "cell_type": "code",
   "execution_count": 73,
   "id": "23a59107-71b7-43bd-97dd-afafc9dcd23c",
   "metadata": {},
   "outputs": [],
   "source": [
    "# Create Account class with 2 attributes- balance & account No."
   ]
  },
  {
   "cell_type": "code",
   "execution_count": 77,
   "id": "6f100de3-8e8a-400d-b360-3b7db2e6224e",
   "metadata": {},
   "outputs": [
    {
     "name": "stdout",
     "output_type": "stream",
     "text": [
      "10000\n",
      "12345\n",
      "Rs. 1000 Was debited 9000\n",
      "Rs. 500 is credit 9500\n"
     ]
    }
   ],
   "source": [
    "class Account:\n",
    "    def __init__(self,bal,acc):\n",
    "        self.balance= bal\n",
    "        self.account_no= acc\n",
    "\n",
    "    # debit method\n",
    "    def debit(self, amount):\n",
    "        self.balance -=amount\n",
    "        print(\"Rs.\", amount, \"Was debited\", self.get_balance())\n",
    "\n",
    "    # cerdit method\n",
    "    def credit(self, amount):\n",
    "        self.balance+= amount\n",
    "        print(\"Rs.\",amount,\"is credit\", self.get_balance())\n",
    "\n",
    "    def get_balance(self):\n",
    "        return self.balance\n",
    "        \n",
    "\n",
    "acc1= Account(10000, 12345)\n",
    "print(acc1.balance)\n",
    "print(acc1.account_no)\n",
    "acc1.debit(1000)\n",
    "acc1.credit(500)\n",
    "\n",
    "        "
   ]
  },
  {
   "cell_type": "code",
   "execution_count": 78,
   "id": "24a6511f-8ac9-4f1c-888a-ea10ad938b1a",
   "metadata": {},
   "outputs": [],
   "source": [
    "# del ->keyword\n",
    "# used to delete object properties or object itself.\n"
   ]
  },
  {
   "cell_type": "code",
   "execution_count": 83,
   "id": "ea0416db-6118-44c7-a989-7daa38bdb0d2",
   "metadata": {},
   "outputs": [
    {
     "name": "stdout",
     "output_type": "stream",
     "text": [
      "Rahul Yadav\n"
     ]
    },
    {
     "ename": "AttributeError",
     "evalue": "'Student' object has no attribute 'name'",
     "output_type": "error",
     "traceback": [
      "\u001b[1;31m---------------------------------------------------------------------------\u001b[0m",
      "\u001b[1;31mAttributeError\u001b[0m                            Traceback (most recent call last)",
      "Cell \u001b[1;32mIn[83], line 8\u001b[0m\n\u001b[0;32m      6\u001b[0m \u001b[38;5;28mprint\u001b[39m(s1\u001b[38;5;241m.\u001b[39mname)\n\u001b[0;32m      7\u001b[0m \u001b[38;5;28;01mdel\u001b[39;00m s1\u001b[38;5;241m.\u001b[39mname\n\u001b[1;32m----> 8\u001b[0m \u001b[38;5;28mprint\u001b[39m(\u001b[43ms1\u001b[49m\u001b[38;5;241;43m.\u001b[39;49m\u001b[43mname\u001b[49m)   \u001b[38;5;66;03m# in this case there is not present s1.name because deleted \u001b[39;00m\n",
      "\u001b[1;31mAttributeError\u001b[0m: 'Student' object has no attribute 'name'"
     ]
    }
   ],
   "source": [
    "class Student:\n",
    "    def __init__(self,name):\n",
    "        self.name= name\n",
    "\n",
    "s1= Student(\"Rahul Yadav\")\n",
    "print(s1.name)\n",
    "del s1.name\n",
    "print(s1.name)   # in this case there is not present s1.name because deleted "
   ]
  },
  {
   "cell_type": "code",
   "execution_count": 84,
   "id": "2a741401-1ff5-4cb1-ade2-78e737ff5722",
   "metadata": {},
   "outputs": [],
   "source": [
    "# private(like) attributes & methods\n",
    "# for making private we use (__)(two underscore infornt of the given element)"
   ]
  },
  {
   "cell_type": "code",
   "execution_count": 88,
   "id": "6633855e-1920-4a22-bea1-3ae930962c2d",
   "metadata": {},
   "outputs": [
    {
     "name": "stdout",
     "output_type": "stream",
     "text": [
      "12345\n"
     ]
    },
    {
     "ename": "AttributeError",
     "evalue": "'Account' object has no attribute 'acc_pass'",
     "output_type": "error",
     "traceback": [
      "\u001b[1;31m---------------------------------------------------------------------------\u001b[0m",
      "\u001b[1;31mAttributeError\u001b[0m                            Traceback (most recent call last)",
      "Cell \u001b[1;32mIn[88], line 8\u001b[0m\n\u001b[0;32m      6\u001b[0m acc1\u001b[38;5;241m=\u001b[39m Account(\u001b[38;5;124m\"\u001b[39m\u001b[38;5;124m12345\u001b[39m\u001b[38;5;124m\"\u001b[39m, \u001b[38;5;124m\"\u001b[39m\u001b[38;5;124mabcd\u001b[39m\u001b[38;5;124m\"\u001b[39m)\n\u001b[0;32m      7\u001b[0m \u001b[38;5;28mprint\u001b[39m(acc1\u001b[38;5;241m.\u001b[39macc_no)\n\u001b[1;32m----> 8\u001b[0m \u001b[38;5;28mprint\u001b[39m(\u001b[43macc1\u001b[49m\u001b[38;5;241;43m.\u001b[39;49m\u001b[43macc_pass\u001b[49m)\n",
      "\u001b[1;31mAttributeError\u001b[0m: 'Account' object has no attribute 'acc_pass'"
     ]
    }
   ],
   "source": [
    "class Account:\n",
    "    def __init__(self,acc_no, acc_pass):\n",
    "        self.acc_no= acc_no\n",
    "        self.__acc_pass= acc_pass\n",
    "\n",
    "acc1= Account(\"12345\", \"abcd\")\n",
    "print(acc1.acc_no)\n",
    "print(acc1.acc_pass)\n"
   ]
  },
  {
   "cell_type": "code",
   "execution_count": 89,
   "id": "31352e3b-f42e-4daa-9490-23c20c189ea6",
   "metadata": {},
   "outputs": [],
   "source": [
    "# But if we want to access inside the class then we can access this"
   ]
  },
  {
   "cell_type": "code",
   "execution_count": 94,
   "id": "503476ae-98ab-46c4-81fe-e8b37feeed91",
   "metadata": {},
   "outputs": [
    {
     "name": "stdout",
     "output_type": "stream",
     "text": [
      "12345\n",
      "abcd\n",
      "None\n"
     ]
    }
   ],
   "source": [
    "class Account:\n",
    "    def __init__(self,acc_no, acc_pass):\n",
    "        self.acc_no= acc_no\n",
    "        self.__acc_pass= acc_pass\n",
    "\n",
    "    def reset_pass(self):\n",
    "        print(self.__acc_pass)\n",
    "\n",
    "acc1= Account(\"12345\", \"abcd\")\n",
    "print(acc1.acc_no)\n",
    "print(acc1.reset_pass())"
   ]
  },
  {
   "cell_type": "code",
   "execution_count": 96,
   "id": "17fad55a-3d7b-42f2-aeb7-b3cd07efe4f5",
   "metadata": {},
   "outputs": [],
   "source": [
    "# Inheritance -> when one class (child/derived)derices the properities &methods of another"
   ]
  },
  {
   "cell_type": "code",
   "execution_count": 99,
   "id": "6f019815-ce2e-48c5-bdf2-d5cb861c02d9",
   "metadata": {},
   "outputs": [
    {
     "name": "stdout",
     "output_type": "stream",
     "text": [
      "Car Started..\n",
      "None\n"
     ]
    }
   ],
   "source": [
    "class Car:\n",
    "    @staticmethod\n",
    "    def start():\n",
    "        print(\"Car Started..\")\n",
    "    @staticmethod\n",
    "    def stop():\n",
    "        print(\"Car Stopped..\")\n",
    "\n",
    "class ToyotaCar(Car):   # in this way we inheritate the poperty of the car into toyotacar\n",
    "    def __init__(self, name):\n",
    "            self.name= name\n",
    "        \n",
    "\n",
    "car1= ToyotaCar(\"Fortuner\")\n",
    "car2= ToyotaCar(\"Prius\")\n",
    "\n",
    "print(car1.start())\n",
    "            "
   ]
  },
  {
   "cell_type": "code",
   "execution_count": 101,
   "id": "4470fd28-88d4-44b3-ac17-dc54d80d8ef5",
   "metadata": {},
   "outputs": [],
   "source": [
    "# Super Method -> super() method is used to access methods of the parent class"
   ]
  },
  {
   "cell_type": "code",
   "execution_count": 106,
   "id": "764b049a-4951-422c-957b-5689dcd45b76",
   "metadata": {},
   "outputs": [
    {
     "name": "stdout",
     "output_type": "stream",
     "text": [
      "Electric\n"
     ]
    }
   ],
   "source": [
    "class Car:\n",
    "    def __init__(self, type):\n",
    "        self.type= type\n",
    "    @staticmethod\n",
    "    def start():\n",
    "        print(\"Car Started..\")\n",
    "\n",
    "    @staticmethod\n",
    "    def stop():\n",
    "        print(\"Car stopped..\")\n",
    "\n",
    "class ToyotaCar(Car):\n",
    "    def __init__(self, name,type):\n",
    "        self.name= name\n",
    "        super().__init__(type)  # when we write super().__init__(type) means we inhirite \n",
    "        # proprety of type without writing this thing we can not pass the poperty of type\n",
    "        # in our ToyotaCar \n",
    "\n",
    "car1= ToyotaCar(\"prius\",\"Electric\")\n",
    "print(car1.type)"
   ]
  },
  {
   "cell_type": "code",
   "execution_count": 107,
   "id": "88cc1192-0668-4af6-a1d7-919ff1e18c6f",
   "metadata": {},
   "outputs": [],
   "source": [
    "# Class Method -> A class method is bound to the class & receives the class as an \n",
    "# inplicit first argument \n",
    "\n",
    "# Note-> static method can't access or modify class states &generally for utility"
   ]
  },
  {
   "cell_type": "code",
   "execution_count": 111,
   "id": "6698ca76-43b5-49f5-81da-f05b1ec27c6d",
   "metadata": {},
   "outputs": [
    {
     "name": "stdout",
     "output_type": "stream",
     "text": [
      "Rahul Yadav\n",
      "anonymous\n"
     ]
    }
   ],
   "source": [
    "class Person:\n",
    "    name = \"anonymous\"  # this also create one name outside \n",
    "\n",
    "    def changeName(self, name):\n",
    "        self.name= name    # this also create one name inside the object\n",
    "\n",
    "p1= Person()\n",
    "p1.changeName(\"Rahul Yadav\")\n",
    "print(p1.name)\n",
    "print(Person.name)"
   ]
  },
  {
   "cell_type": "code",
   "execution_count": 112,
   "id": "201e848e-8924-4e14-bbf3-c9822db4f162",
   "metadata": {},
   "outputs": [],
   "source": [
    "# Now if we want to change the name of anoymous then "
   ]
  },
  {
   "cell_type": "code",
   "execution_count": 114,
   "id": "faed4550-261c-4e92-9f46-aa44d718fb05",
   "metadata": {},
   "outputs": [
    {
     "name": "stdout",
     "output_type": "stream",
     "text": [
      "Rahul Yadav\n",
      "Rahul Yadav\n"
     ]
    }
   ],
   "source": [
    "class Person:\n",
    "    name = \"anonymous\"  # this also create one name outside \n",
    "\n",
    "    def changeName(self, name):\n",
    "        Person.name= name     \n",
    "\n",
    "p1= Person()\n",
    "p1.changeName(\"Rahul Yadav\")\n",
    "print(p1.name)\n",
    "print(Person.name)"
   ]
  },
  {
   "cell_type": "code",
   "execution_count": 115,
   "id": "5aed8b6d-1345-4e44-81b1-612a5e671dea",
   "metadata": {},
   "outputs": [],
   "source": [
    "# 2nd Method in for this "
   ]
  },
  {
   "cell_type": "code",
   "execution_count": 116,
   "id": "9db42100-20c6-44c4-9ea2-45b526ac7adb",
   "metadata": {},
   "outputs": [
    {
     "name": "stdout",
     "output_type": "stream",
     "text": [
      "Rahul Yadav\n",
      "Rahul Yadav\n"
     ]
    }
   ],
   "source": [
    "class Person:\n",
    "    name = \"anonymous\"  # this also create one name outside \n",
    "\n",
    "    def changeName(self, name):\n",
    "        self.__class__.name= name     \n",
    "\n",
    "p1= Person()\n",
    "p1.changeName(\"Rahul Yadav\")\n",
    "print(p1.name)\n",
    "print(Person.name)"
   ]
  }
 ],
 "metadata": {
  "kernelspec": {
   "display_name": "Python 3 (ipykernel)",
   "language": "python",
   "name": "python3"
  },
  "language_info": {
   "codemirror_mode": {
    "name": "ipython",
    "version": 3
   },
   "file_extension": ".py",
   "mimetype": "text/x-python",
   "name": "python",
   "nbconvert_exporter": "python",
   "pygments_lexer": "ipython3",
   "version": "3.12.1"
  }
 },
 "nbformat": 4,
 "nbformat_minor": 5
}
