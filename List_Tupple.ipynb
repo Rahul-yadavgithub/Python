{
 "cells": [
  {
   "cell_type": "code",
   "execution_count": 3,
   "id": "b10204ea-8655-42d4-bdf7-3e0d662dd63e",
   "metadata": {},
   "outputs": [
    {
     "name": "stdout",
     "output_type": "stream",
     "text": [
      "[95.6, 93.5, 98.3, 99.1, 92.3]\n",
      "<class 'list'>\n",
      "95.6\n"
     ]
    }
   ],
   "source": [
    "marks= [95.6,93.5,98.3,99.1,92.3]\n",
    "print(marks)\n",
    "print(type(marks))\n",
    "print(marks[0])"
   ]
  },
  {
   "cell_type": "code",
   "execution_count": 4,
   "id": "1040554d-af46-42ac-9e32-87095f1d745a",
   "metadata": {},
   "outputs": [
    {
     "name": "stdout",
     "output_type": "stream",
     "text": [
      "['Rahul', 98.4, 'Rohit', 88.4]\n"
     ]
    }
   ],
   "source": [
    "student = [\"Rahul\", 98.4, \"Rohit\", 88.4]\n",
    "print(student)"
   ]
  },
  {
   "cell_type": "code",
   "execution_count": 5,
   "id": "effe1018-1271-4bc1-a2b0-660958e4ac48",
   "metadata": {},
   "outputs": [
    {
     "name": "stdout",
     "output_type": "stream",
     "text": [
      "[1, 2, 3, 4, 5, 6, 7]\n"
     ]
    }
   ],
   "source": [
    "list= [1,2,3,4,5,6]\n",
    "list.append(7)\n",
    "print(list)"
   ]
  },
  {
   "cell_type": "code",
   "execution_count": 7,
   "id": "23f2e91b-a46c-48f9-a42a-5b4faf374b33",
   "metadata": {},
   "outputs": [
    {
     "name": "stdout",
     "output_type": "stream",
     "text": [
      "None\n",
      "None\n",
      "[1, 2, 3, 4, 5, 6, 8]\n"
     ]
    }
   ],
   "source": [
    "list= [1,2,3,4,5,6] # Assending order sort\n",
    "print(list.append(8))\n",
    "print(list.sort())\n",
    "print(list)"
   ]
  },
  {
   "cell_type": "code",
   "execution_count": 8,
   "id": "bfc0ec3b-18fd-4b26-a306-325751db3cc8",
   "metadata": {},
   "outputs": [
    {
     "name": "stdout",
     "output_type": "stream",
     "text": [
      "None\n",
      "[6, 5, 4, 3, 2, 1]\n"
     ]
    }
   ],
   "source": [
    "list= [1,2,3,4,5,6] # Desending order sort\n",
    "print(list.sort(reverse= True))\n",
    "print(list)"
   ]
  },
  {
   "cell_type": "code",
   "execution_count": 9,
   "id": "f568372d-7357-4ebf-bb07-d68bac6e11d5",
   "metadata": {},
   "outputs": [
    {
     "name": "stdout",
     "output_type": "stream",
     "text": [
      "None\n",
      "['Apple', 'Banana', 'Orange']\n"
     ]
    }
   ],
   "source": [
    "list= [\"Banana\", \"Apple\" , \"Orange\"]\n",
    "print(list.sort())\n",
    "print(list)"
   ]
  },
  {
   "cell_type": "code",
   "execution_count": null,
   "id": "afdb1064-da2e-4e19-94bd-578781265f5b",
   "metadata": {},
   "outputs": [],
   "source": [
    "#Tuple simlar to the list only differ by [] in tuple this replace by ()  "
   ]
  },
  {
   "cell_type": "code",
   "execution_count": 12,
   "id": "718d9e9e-c7b7-44a6-a4da-ed7b459bea46",
   "metadata": {},
   "outputs": [
    {
     "name": "stdout",
     "output_type": "stream",
     "text": [
      "<class 'tuple'>\n"
     ]
    }
   ],
   "source": [
    "tup= (2,3,4,5,6,7)\n",
    "print(type(tup))"
   ]
  },
  {
   "cell_type": "code",
   "execution_count": 13,
   "id": "50af5876-ded9-40b1-b027-826929b2228b",
   "metadata": {},
   "outputs": [
    {
     "name": "stdout",
     "output_type": "stream",
     "text": [
      "<class 'tuple'>\n",
      "(2,)\n"
     ]
    }
   ],
   "source": [
    "tup=(2,)\n",
    "print(type(tup))\n",
    "print(tup)"
   ]
  },
  {
   "cell_type": "code",
   "execution_count": 14,
   "id": "4cd66ef8-2d5d-49bb-bfe3-d321bc3c000d",
   "metadata": {},
   "outputs": [
    {
     "name": "stdout",
     "output_type": "stream",
     "text": [
      "<class 'int'>\n",
      "2\n"
     ]
    }
   ],
   "source": [
    "tup= (2)\n",
    "print(type(tup))\n",
    "print(tup)"
   ]
  },
  {
   "cell_type": "code",
   "execution_count": 15,
   "id": "2a3e1b28-5230-42e4-82a2-19af60b4658c",
   "metadata": {},
   "outputs": [
    {
     "name": "stdout",
     "output_type": "stream",
     "text": [
      "<class 'tuple'>\n",
      "(2, 3, 4, 5)\n"
     ]
    }
   ],
   "source": [
    "tup= (2,3,4,5)\n",
    "print(type(tup))\n",
    "print(tup)"
   ]
  },
  {
   "cell_type": "code",
   "execution_count": 16,
   "id": "d2e3f562-5241-44e1-a9a4-9446990d4e3c",
   "metadata": {},
   "outputs": [
    {
     "name": "stdout",
     "output_type": "stream",
     "text": [
      "<class 'tuple'>\n",
      "(2, 3, 4, 6)\n"
     ]
    }
   ],
   "source": [
    "tup= (2,3,4,6,)\n",
    "print(type(tup))\n",
    "print(tup)"
   ]
  },
  {
   "cell_type": "code",
   "execution_count": 17,
   "id": "e9e941ad-651a-4bc5-adb3-c46f2d381fd2",
   "metadata": {},
   "outputs": [
    {
     "name": "stdout",
     "output_type": "stream",
     "text": [
      "3\n"
     ]
    }
   ],
   "source": [
    "tup=(2,3,4 ,5,6,7)\n",
    "print(tup.index(5))\n"
   ]
  },
  {
   "cell_type": "code",
   "execution_count": null,
   "id": "471accbe-bc23-48d4-910d-d58979c23b0e",
   "metadata": {},
   "outputs": [],
   "source": [
    " tup= (3,4,5,6,7)\n",
    "print(tup.count(5))\n"
   ]
  },
  {
   "cell_type": "code",
   "execution_count": 1,
   "id": "6c0f8861-2075-4018-96ef-44a8e7cf28a4",
   "metadata": {},
   "outputs": [],
   "source": [
    "# sort the array "
   ]
  },
  {
   "cell_type": "code",
   "execution_count": 3,
   "id": "2f8e78df-8471-47ba-8b1f-377256af688e",
   "metadata": {},
   "outputs": [
    {
     "name": "stdin",
     "output_type": "stream",
     "text": [
      "Enter the length of the list-> 5\n",
      " Enter the 1 element of the list-> 0\n",
      " Enter the 2 element of the list-> 0\n",
      " Enter the 3 element of the list-> 1\n",
      " Enter the 4 element of the list-> 1\n",
      " Enter the 5 element of the list-> 0\n"
     ]
    },
    {
     "name": "stdout",
     "output_type": "stream",
     "text": [
      "0 0 0 1 1 "
     ]
    }
   ],
   "source": [
    "n = int(input(\"Enter the length of the list->\"))\n",
    "list=[]\n",
    "for i in range(0,n):\n",
    "    x= int(input(f\" Enter the {i+1} element of the list->\"))\n",
    "    list.append(x)\n",
    "\n",
    "i=0\n",
    "j= n-1;\n",
    "while(i<j):\n",
    "    if(list[i]==0):\n",
    "        i=i+1\n",
    "    if(list[j]==1):\n",
    "        j=j+1\n",
    "    if(list[i]==1 and list[j]==0):\n",
    "        temp= list[i]\n",
    "        list[i]= list[j]\n",
    "        list[j]= temp\n",
    "        i=i+1\n",
    "        j=j-1\n",
    "\n",
    "for i in range(0,n):\n",
    "    print(list[i], end=\" \")"
   ]
  },
  {
   "cell_type": "code",
   "execution_count": 4,
   "id": "dc63d860-cc9c-45c1-96e5-976ad708daa8",
   "metadata": {},
   "outputs": [],
   "source": [
    "# Sort one zero and two "
   ]
  },
  {
   "cell_type": "code",
   "execution_count": 6,
   "id": "f776604a-981d-440a-a186-f06870b8ccbc",
   "metadata": {},
   "outputs": [
    {
     "name": "stdin",
     "output_type": "stream",
     "text": [
      "Enter the length of the list-> 8\n",
      " Enter the 1 element of the list-> 0\n",
      " Enter the 2 element of the list-> 2\n",
      " Enter the 3 element of the list-> 0\n",
      " Enter the 4 element of the list-> 1\n",
      " Enter the 5 element of the list-> 2\n",
      " Enter the 6 element of the list-> 1\n",
      " Enter the 7 element of the list-> 0\n",
      " Enter the 8 element of the list-> 2\n"
     ]
    },
    {
     "name": "stdout",
     "output_type": "stream",
     "text": [
      "0 0 0 1 1 2 2 2 "
     ]
    }
   ],
   "source": [
    "n = int(input(\"Enter the length of the list->\"))\n",
    "list=[]\n",
    "for i in range(0,n):\n",
    "    x= int(input(f\" Enter the {i+1} element of the list->\"))\n",
    "    list.append(x)\n",
    "\n",
    "i=0\n",
    "j=0\n",
    "k=n-1\n",
    "while(j<=k):\n",
    "    if(list[j]==2):\n",
    "        temp= list[j]\n",
    "        list[j]= list[k]\n",
    "        list[k]= temp\n",
    "        k-=1\n",
    "    elif(list[j]==0):\n",
    "        temp= list[j]\n",
    "        list[j]= list[i]\n",
    "        list[i]=temp\n",
    "        i+=1\n",
    "        j+=1\n",
    "    else:\n",
    "        j+=1\n",
    "\n",
    "for i in range(0,n):\n",
    "    print(list[i], end=\" \")\n",
    "        "
   ]
  },
  {
   "cell_type": "code",
   "execution_count": 9,
   "id": "569ae2a8-8710-42a9-8f93-7dec08a10635",
   "metadata": {},
   "outputs": [
    {
     "name": "stdin",
     "output_type": "stream",
     "text": [
      "Enter the length of the list-> 8\n",
      " Enter the 1 element of the list-> 2\n",
      " Enter the 2 element of the list-> 4\n",
      " Enter the 3 element of the list-> 7\n",
      " Enter the 4 element of the list-> 5\n",
      " Enter the 5 element of the list-> 8\n",
      " Enter the 6 element of the list-> 10\n",
      " Enter the 7 element of the list-> 23\n",
      " Enter the 8 element of the list-> 4\n"
     ]
    },
    {
     "name": "stdout",
     "output_type": "stream",
     "text": [
      "2 4 4 5 7 8 10 23 "
     ]
    }
   ],
   "source": [
    "n = int(input(\"Enter the length of the list->\"))\n",
    "list=[]\n",
    "for i in range(0,n):\n",
    "    x= int(input(f\" Enter the {i+1} element of the list->\"))\n",
    "    list.append(x) \n",
    "for i in range(0, n):\n",
    "    for j in range(0, n-1-i):\n",
    "        if(list[j]> list[j+1]):\n",
    "            temp= list[j]\n",
    "            list[j]= list[j+1]\n",
    "            list[j+1]= temp\n",
    "\n",
    "for i in range(0, n):\n",
    "    print(list[i] , end=\" \")"
   ]
  },
  {
   "cell_type": "code",
   "execution_count": 10,
   "id": "f1711ab3-67d1-45eb-a6aa-df4bbd83b0cd",
   "metadata": {},
   "outputs": [],
   "source": [
    "#  slicing of the list "
   ]
  },
  {
   "cell_type": "code",
   "execution_count": 12,
   "id": "ab7dd1b1-2836-4ae2-b71d-420918d114d9",
   "metadata": {},
   "outputs": [
    {
     "name": "stdin",
     "output_type": "stream",
     "text": [
      "Enter the length of the list-> 4\n",
      " Enter the 1 element of the list-> 1\n",
      " Enter the 2 element of the list-> 2\n",
      " Enter the 3 element of the list-> 3\n",
      " Enter the 4 element of the list-> 4\n"
     ]
    },
    {
     "name": "stdout",
     "output_type": "stream",
     "text": [
      "[3, 4] "
     ]
    }
   ],
   "source": [
    "n = int(input(\"Enter the length of the list->\"))\n",
    "list=[]\n",
    "for i in range(0,n):\n",
    "    x= int(input(f\" Enter the {i+1} element of the list->\"))\n",
    "    list.append(x) \n",
    "print(list[2:n],end=\" \")"
   ]
  },
  {
   "cell_type": "code",
   "execution_count": 12,
   "id": "69dc2413-d85b-449c-ab02-bac3314b711d",
   "metadata": {},
   "outputs": [
    {
     "name": "stdout",
     "output_type": "stream",
     "text": [
      "[2, 3, 4, 5, 6, 7, 8]\n"
     ]
    }
   ],
   "source": [
    "list=[2,3,4,5,6,7,8]\n",
    "print(list)"
   ]
  },
  {
   "cell_type": "markdown",
   "id": "eb349fd3-e543-42d6-bca1-05042e4cb2db",
   "metadata": {},
   "source": [
    "# Concordant two tuple"
   ]
  },
  {
   "cell_type": "code",
   "execution_count": 16,
   "id": "07e97ff9-860d-43bf-9d9f-745b42a90609",
   "metadata": {},
   "outputs": [
    {
     "name": "stdout",
     "output_type": "stream",
     "text": [
      "(1, 4, 6, 3, 5, 8)\n"
     ]
    }
   ],
   "source": [
    "def concordant_tuples(tuple1, tuple2):\n",
    "    return tuple1+ tuple2\n",
    "\n",
    "tuple1= (1,4,6)\n",
    "tuple2= (3,5,8)\n",
    "con= concordant_tuples(tuple1, tuple2)\n",
    "print(con)"
   ]
  },
  {
   "cell_type": "markdown",
   "id": "1525c75c-957f-4f09-998f-238017b6612c",
   "metadata": {},
   "source": [
    "# cout the occurrences of an element in a tuple "
   ]
  },
  {
   "cell_type": "code",
   "execution_count": 19,
   "id": "681cfbd6-c480-409f-97d5-076bba53f21b",
   "metadata": {},
   "outputs": [
    {
     "name": "stdout",
     "output_type": "stream",
     "text": [
      "3\n"
     ]
    }
   ],
   "source": [
    "def count_element(tup, value):\n",
    "    return tup.count(value)\n",
    "\n",
    "tup= (1,2,2,2,6)\n",
    "count= tup.count(2)\n",
    "print(count)"
   ]
  },
  {
   "cell_type": "markdown",
   "id": "77f843ff-48f8-42f8-9ed4-3b8fee981c74",
   "metadata": {},
   "source": [
    "# check if an element exist in an tuple or not "
   ]
  },
  {
   "cell_type": "markdown",
   "id": "a15acdf5-1aba-4f6c-897b-d86e13e50543",
   "metadata": {},
   "source": [
    "def element_exist(tup, value):\n",
    "    return value in tup\n",
    "\n",
    "tup= (1,3,4,5,7,6)\n",
    "exits = 2 in tup\n",
    "print(exits)"
   ]
  },
  {
   "cell_type": "markdown",
   "id": "5c605621-bdba-47fc-9df8-7d68232849af",
   "metadata": {},
   "source": [
    "# Convert the tuple into the array  "
   ]
  },
  {
   "cell_type": "code",
   "execution_count": 24,
   "id": "138b7d71-fcde-490b-8dca-826db0010094",
   "metadata": {},
   "outputs": [
    {
     "name": "stdout",
     "output_type": "stream",
     "text": [
      "(1, 2, 3, 4, 5)\n",
      "(1, 2, 3, 4, 5)\n"
     ]
    }
   ],
   "source": [
    "def tuple_to_string(tup):\n",
    "    return str(tup)\n",
    "tup= (1,2,3,4,5)\n",
    "string = str(tup)\n",
    "print(string)\n",
    "print(tup)"
   ]
  },
  {
   "cell_type": "markdown",
   "id": "a5f71b21-5511-4da4-9155-bdcc2555f2b7",
   "metadata": {},
   "source": [
    "# print the middle of the given linkedlist"
   ]
  },
  {
   "cell_type": "code",
   "execution_count": null,
   "id": "2dadf3ac-b1e7-4f1c-b947-a8a6a9972fb9",
   "metadata": {},
   "outputs": [],
   "source": [
    "class Node:\n",
    "    def__(self, data):\n",
    "    self.data = data \n",
    "    self.Next= None\n",
    "    \n"
   ]
  }
 ],
 "metadata": {
  "kernelspec": {
   "display_name": "Python 3 (ipykernel)",
   "language": "python",
   "name": "python3"
  },
  "language_info": {
   "codemirror_mode": {
    "name": "ipython",
    "version": 3
   },
   "file_extension": ".py",
   "mimetype": "text/x-python",
   "name": "python",
   "nbconvert_exporter": "python",
   "pygments_lexer": "ipython3",
   "version": "3.12.1"
  }
 },
 "nbformat": 4,
 "nbformat_minor": 5
}
