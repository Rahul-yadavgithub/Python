{
 "cells": [
  {
   "cell_type": "code",
   "execution_count": null,
   "id": "044e9988-f203-4a80-90af-51a75c814cf3",
   "metadata": {},
   "outputs": [],
   "source": [
    "bool_flag= True \n",
    "while(bool_flag!= False):\n",
    "                         a= int(input(\"Enter the value of a:\"))\n",
    "                         b= int(input(\"Enter the value of b:\"))\n",
    "                         sum= a+b\n",
    "                         multi= a*b\n",
    "                         div= a/b\n",
    "                         print(\"The sum of\" ,a,\"and \", b,\"is\", sun)\n",
    "                         print(\"The multi of\" , a, \"and\" ,b,\"is\", multi)\n",
    "                         d= int(input(\"Enter the value of d:\"))\n",
    "                         if d==1:\n",
    "                                 bool_flag=True\n",
    "                         else:\n",
    "                              bool_flage= False\n",
    "                             "
   ]
  }
 ],
 "metadata": {
  "kernelspec": {
   "display_name": "Python 3 (ipykernel)",
   "language": "python",
   "name": "python3"
  },
  "language_info": {
   "codemirror_mode": {
    "name": "ipython",
    "version": 3
   },
   "file_extension": ".py",
   "mimetype": "text/x-python",
   "name": "python",
   "nbconvert_exporter": "python",
   "pygments_lexer": "ipython3",
   "version": "3.12.1"
  }
 },
 "nbformat": 4,
 "nbformat_minor": 5
}
