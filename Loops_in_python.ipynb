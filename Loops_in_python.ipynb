{
 "cells": [
  {
   "cell_type": "code",
   "execution_count": 1,
   "id": "8ca6bd37-fe73-46e8-9a36-a28f1eb979f4",
   "metadata": {},
   "outputs": [
    {
     "name": "stdout",
     "output_type": "stream",
     "text": [
      "0\n",
      "1\n",
      "2\n",
      "4\n",
      "5\n"
     ]
    }
   ],
   "source": [
    "i= 0\n",
    "while(i <=5):\n",
    "    if(i==3):\n",
    "        i +=1\n",
    "        continue\n",
    "    print(i)\n",
    "    i +=1"
   ]
  },
  {
   "cell_type": "code",
   "execution_count": 2,
   "id": "3ac1d332-308d-4421-b2f0-c1f631feb196",
   "metadata": {},
   "outputs": [],
   "source": [
    "# we can also use else in this for loop"
   ]
  },
  {
   "cell_type": "code",
   "execution_count": 8,
   "id": "ff54acea-38ad-4570-b20b-93c670b9f1b0",
   "metadata": {},
   "outputs": [
    {
     "name": "stdout",
     "output_type": "stream",
     "text": [
      "r\n",
      "a\n",
      "h\n",
      "u\n",
      "l Found\n"
     ]
    }
   ],
   "source": [
    "str= \"rahulyadav\"\n",
    "for char in str:\n",
    "    if(char=='l'):\n",
    "        print(\"l Found\")\n",
    "        break\n",
    "    print(char)\n",
    "else:\n",
    "    print(\"End\")"
   ]
  },
  {
   "cell_type": "code",
   "execution_count": 9,
   "id": "25137b32-5629-43c8-88eb-5155f317f959",
   "metadata": {},
   "outputs": [],
   "source": [
    "# If we not use else in our condition then "
   ]
  },
  {
   "cell_type": "code",
   "execution_count": 11,
   "id": "519a3f1b-b555-43b7-992e-a5349d690f93",
   "metadata": {},
   "outputs": [
    {
     "name": "stdout",
     "output_type": "stream",
     "text": [
      "r\n",
      "a\n",
      "h\n",
      "u\n",
      "l Found\n",
      "End\n"
     ]
    }
   ],
   "source": [
    "str= \"rahulyadav\"\n",
    "for char in str:\n",
    "    if(char=='l'):\n",
    "        print(\"l Found\")\n",
    "        break\n",
    "    print(char)\n",
    "print(\"End\")"
   ]
  },
  {
   "cell_type": "code",
   "execution_count": 12,
   "id": "86265da5-7e94-43f8-805c-96cfab38d32c",
   "metadata": {},
   "outputs": [],
   "source": [
    "# Range function"
   ]
  },
  {
   "cell_type": "code",
   "execution_count": 1,
   "id": "4e3292f0-4740-40e2-959f-1460bec4e691",
   "metadata": {},
   "outputs": [
    {
     "name": "stdout",
     "output_type": "stream",
     "text": [
      "range(0, 5)\n"
     ]
    }
   ],
   "source": [
    "print(range(5))"
   ]
  },
  {
   "cell_type": "code",
   "execution_count": 6,
   "id": "a4ca77b6-84e5-4bbc-b138-73ec3b246130",
   "metadata": {},
   "outputs": [],
   "source": [
    "# what is function of pass statement "
   ]
  },
  {
   "cell_type": "code",
   "execution_count": 7,
   "id": "c8b55c4c-440a-42c8-9d0d-0204393922e1",
   "metadata": {},
   "outputs": [
    {
     "name": "stdout",
     "output_type": "stream",
     "text": [
      "Some useful work is :\n"
     ]
    }
   ],
   "source": [
    "for i in range(5):\n",
    "    #do not want to print this then we use pass statement\n",
    "    pass\n",
    "print(\"Some useful work is :\")"
   ]
  },
  {
   "cell_type": "code",
   "execution_count": 8,
   "id": "3b51a050-3681-4e90-9a98-edff42505123",
   "metadata": {},
   "outputs": [],
   "source": [
    "# print factorial"
   ]
  },
  {
   "cell_type": "code",
   "execution_count": 10,
   "id": "fe80c58f-752f-44fb-b088-306ec1180b57",
   "metadata": {},
   "outputs": [
    {
     "name": "stdin",
     "output_type": "stream",
     "text": [
      "Enter the number which you want factorial -> 6\n"
     ]
    },
    {
     "name": "stdout",
     "output_type": "stream",
     "text": [
      "720\n"
     ]
    }
   ],
   "source": [
    "fact=1\n",
    "n= int(input(\"Enter the number which you want factorial ->\"))\n",
    "for i in range(1,n+1):\n",
    "    fact=fact*i\n",
    "print(fact)\n"
   ]
  }
 ],
 "metadata": {
  "kernelspec": {
   "display_name": "Python 3 (ipykernel)",
   "language": "python",
   "name": "python3"
  },
  "language_info": {
   "codemirror_mode": {
    "name": "ipython",
    "version": 3
   },
   "file_extension": ".py",
   "mimetype": "text/x-python",
   "name": "python",
   "nbconvert_exporter": "python",
   "pygments_lexer": "ipython3",
   "version": "3.12.1"
  }
 },
 "nbformat": 4,
 "nbformat_minor": 5
}
