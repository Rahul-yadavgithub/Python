{
 "cells": [
  {
   "cell_type": "code",
   "execution_count": 4,
   "id": "893e3c9f-5ba0-4df6-926d-b4b7d4b83c8c",
   "metadata": {},
   "outputs": [
    {
     "name": "stdin",
     "output_type": "stream",
     "text": [
      "Enter the value of Num1: 4\n",
      "Enter the value of Num2: 5\n",
      "Enter the value of Num3: 6\n"
     ]
    },
    {
     "name": "stdout",
     "output_type": "stream",
     "text": [
      "The gretest Number is : 6\n"
     ]
    }
   ],
   "source": [
    "num1= int(input(\"Enter the value of Num1:\"))\n",
    "num2= int(input(\"Enter the value of Num2:\"))\n",
    "num3= int(input(\"Enter the value of Num3:\"))\n",
    "if(num1>num2 and num1>num3):\n",
    "          print(\"The gretest Number is :\",num1)\n",
    "elif(num2>num1 and num2>num3):\n",
    "          print(\"The gretest Number is :\" ,num2)\n",
    "else:\n",
    "    print(\"The gretest Number is :\" ,num3)"
   ]
  },
  {
   "cell_type": "code",
   "execution_count": null,
   "id": "2d99eab2-8540-41d9-b44b-d8b6afb0774d",
   "metadata": {},
   "outputs": [],
   "source": [
    "#  Find the gretest of the four number in the give input"
   ]
  },
  {
   "cell_type": "code",
   "execution_count": 7,
   "id": "c76afac8-4535-4fbf-bd79-8d084c1a2b36",
   "metadata": {},
   "outputs": [
    {
     "name": "stdin",
     "output_type": "stream",
     "text": [
      "Enter the value of Num1: 8\n",
      "Enter the value of Num2: 5\n",
      "Enter the value of Num3: 3\n",
      "Ente the value of Num4: 2\n"
     ]
    },
    {
     "name": "stdout",
     "output_type": "stream",
     "text": [
      "The frist number is the largest number : 8\n"
     ]
    }
   ],
   "source": [
    "num1 = int(input(\"Enter the value of Num1:\"))\n",
    "num2 = int(input(\"Enter the value of Num2:\"))\n",
    "num3 = int(input(\"Enter the value of Num3:\"))\n",
    "num4 = int(input(\"Ente the value of Num4:\"))\n",
    "if(num1>num2 and num1>num3 and num1>num4):\n",
    "    print(\"The frist number is the largest number :\", num1)\n",
    "elif(num2>num3 and num2>num4):\n",
    "    print(\"The second number is the largert number :\", num2)\n",
    "elif(num3>num4):\n",
    "    print(\"The Third is the largest number in :\", num3)\n",
    "else:\n",
    "    print(\"The fouth is the largest number in :\", num4)"
   ]
  },
  {
   "cell_type": "code",
   "execution_count": null,
   "id": "49ab05e5-4233-4e23-9ba6-66d44ff6dfb0",
   "metadata": {},
   "outputs": [],
   "source": [
    "#Tuple and list question"
   ]
  },
  {
   "cell_type": "code",
   "execution_count": 8,
   "id": "06477027-8c5a-4c9b-9628-b57f26a4a762",
   "metadata": {},
   "outputs": [
    {
     "name": "stdin",
     "output_type": "stream",
     "text": [
      "Enter the frist Your faviorate movie name: Mango \n",
      "Enter the second Your faviorate movie name: Banaana\n",
      "Enter the Third Your faviorate movie name: apple\n"
     ]
    },
    {
     "name": "stdout",
     "output_type": "stream",
     "text": [
      "['Mango ', 'Banaana', 'apple']\n"
     ]
    }
   ],
   "source": [
    "Movie1= input(\"Enter the frist Your faviorate movie name:\")\n",
    "Movie2 = input(\"Enter the second Your faviorate movie name:\")\n",
    "Movie3 = input(\"Enter the Third Your faviorate movie name:\")\n",
    "list= [Movie1, Movie2, Movie3]\n",
    "print(list)"
   ]
  },
  {
   "cell_type": "code",
   "execution_count": null,
   "id": "5e464313-dc6b-46d1-a82e-8215d3ef5251",
   "metadata": {},
   "outputs": [],
   "source": [
    "#palindrome number "
   ]
  },
  {
   "cell_type": "code",
   "execution_count": 26,
   "id": "3ac01231-93cf-4d47-894f-fb49ad1cac83",
   "metadata": {},
   "outputs": [
    {
     "name": "stdin",
     "output_type": "stream",
     "text": [
      "Enter the length of the tuple: 3\n",
      "Enter the element of the tuple: 2\n",
      "Enter the element of the tuple: 3\n",
      "Enter the element of the tuple: 5\n"
     ]
    },
    {
     "name": "stdout",
     "output_type": "stream",
     "text": [
      "[2, 3, 5]\n"
     ]
    }
   ],
   "source": [
    "n= int(input(\"Enter the length of the tuple:\"))\n",
    "Number=[]\n",
    "for i in range(0, n):\n",
    "    tup= int(input(\"Enter the element of the tuple:\"))\n",
    "    Number.append(tup)\n",
    "print(Number)\n",
    "    "
   ]
  },
  {
   "cell_type": "code",
   "execution_count": 38,
   "id": "43b61e85-8f3e-40b2-92c5-5a1916622d96",
   "metadata": {},
   "outputs": [
    {
     "name": "stdin",
     "output_type": "stream",
     "text": [
      "Enter the length of the list: 4\n",
      "Enter the element of the tuple: 1\n",
      "Enter the element of the tuple: abc\n",
      "Enter the element of the tuple: abc\n",
      "Enter the element of the tuple: 1\n"
     ]
    },
    {
     "name": "stdout",
     "output_type": "stream",
     "text": [
      "The Taken List is : ['1', 'abc', 'abc', '1']\n",
      "The give List is Palindron:\n"
     ]
    }
   ],
   "source": [
    "n = int(input(\"Enter the length of the list:\"))\n",
    "Number=[]\n",
    "for i in range(0,n):\n",
    "     tup= input(\"Enter the element of the tuple:\")\n",
    "     Number.append(tup)\n",
    "print(\"The Taken List is :\", Number)\n",
    "Number1=Number.copy()\n",
    "i=0\n",
    "j=n-1\n",
    "while(i<=j):\n",
    "    Temp= Number[i]\n",
    "    Number[i]= Number[j]\n",
    "    Number[j]= Temp\n",
    "    i=i+1\n",
    "    j=j-1\n",
    "if(Number1==Number):\n",
    "    print(\"The give List is Palindron:\")\n",
    "else:\n",
    "    print(\"The give list is Not Palindron:\")"
   ]
  },
  {
   "cell_type": "code",
   "execution_count": null,
   "id": "452dbf46-ba81-4142-904d-2b69a4f0b3fc",
   "metadata": {},
   "outputs": [],
   "source": [
    "# Reverse an array without using any extra space "
   ]
  },
  {
   "cell_type": "code",
   "execution_count": 3,
   "id": "a0201d3c-cdfc-414a-8983-fb00914dd4e4",
   "metadata": {},
   "outputs": [
    {
     "name": "stdin",
     "output_type": "stream",
     "text": [
      "Enter the Length of the list: 5\n",
      "Enter the Element of the list: 1 \n",
      "Enter the Element of the list: 4 \n",
      "Enter the Element of the list: 5\n",
      "Enter the Element of the list: 3\n",
      "Enter the Element of the list: 6\n"
     ]
    },
    {
     "name": "stdout",
     "output_type": "stream",
     "text": [
      "[1, 4, 5, 3, 6]\n",
      "[6, 3, 5, 4, 1]\n"
     ]
    }
   ],
   "source": [
    "n= int(input(\"Enter the Length of the list:\"))\n",
    "list=[]\n",
    "for i in range(0,n):\n",
    "    element= int(input(\"Enter the Element of the list:\"))\n",
    "    list.append(element)\n",
    "print(list)\n",
    "i=0 \n",
    "j=n-1\n",
    "while(i<=j):\n",
    "    Temp= list[i]\n",
    "    list[i]=list[j]\n",
    "    list[j]= Temp\n",
    "    i=i+1\n",
    "    j=j-1\n",
    "print(list)"
   ]
  },
  {
   "cell_type": "code",
   "execution_count": null,
   "id": "f6cd9752-4a8b-4928-90d3-3db38e328247",
   "metadata": {},
   "outputs": [],
   "source": [
    "# input in case of Tupple for reversing the tuple"
   ]
  },
  {
   "cell_type": "code",
   "execution_count": 19,
   "id": "08c4f53e-15c7-434c-9b0e-bc175187ce4e",
   "metadata": {},
   "outputs": [
    {
     "name": "stdin",
     "output_type": "stream",
     "text": [
      "Enter the  length of the tuple: 2\n",
      "Enter the 1 element of the list: 1\n",
      "Enter the 2 element of the list: 2\n"
     ]
    },
    {
     "name": "stdout",
     "output_type": "stream",
     "text": [
      "[1, 2]\n"
     ]
    }
   ],
   "source": [
    "n= int(input(\"Enter the  length of the tuple:\"))\n",
    "Tuple=[]\n",
    "for i in range(0,n):\n",
    "    element=int(input(f\"Enter the {i+1} element of the list:\"))\n",
    "    Tuple.append(element)\n",
    "print(Tuple)"
   ]
  },
  {
   "cell_type": "code",
   "execution_count": 16,
   "id": "eeb1976b-de4e-42e4-b575-4e56ae4c76a6",
   "metadata": {},
   "outputs": [
    {
     "name": "stdin",
     "output_type": "stream",
     "text": [
      "Enter the size of the tuple:  4\n",
      "Enter element 1:  2\n",
      "Enter element 2:  3\n",
      "Enter element 3:  4\n",
      "Enter element 4:  5\n"
     ]
    },
    {
     "name": "stdout",
     "output_type": "stream",
     "text": [
      "Input tuple: ('2', '3', '4', '5')\n"
     ]
    }
   ],
   "source": [
    "elements = []\n",
    "size = int(input(\"Enter the size of the tuple: \"))\n",
    "for i in range(size):\n",
    "    element = input(f\"Enter element {i+1}: \")\n",
    "    elements.append(element)\n",
    "input_tuple = tuple(elements)\n",
    "print(\"Input tuple:\", input_tuple)"
   ]
  },
  {
   "cell_type": "code",
   "execution_count": 20,
   "id": "b3300375-4494-44c1-b1e1-722b5f00e08f",
   "metadata": {},
   "outputs": [
    {
     "name": "stdin",
     "output_type": "stream",
     "text": [
      "Enter elements separated by spaces:  2 3 4\n"
     ]
    },
    {
     "name": "stdout",
     "output_type": "stream",
     "text": [
      "Input tuple: ('2', '3', '4')\n"
     ]
    }
   ],
   "source": [
    "input_string = input(\"Enter elements separated by spaces: \")\n",
    "input_tuple = tuple(input_string.split())\n",
    "print(\"Input tuple:\", input_tuple)"
   ]
  },
  {
   "cell_type": "code",
   "execution_count": null,
   "id": "6932ffd9-7939-4438-8f1c-a64487d3cfcb",
   "metadata": {},
   "outputs": [],
   "source": [
    "# Find the element in the given list as an repeated "
   ]
  },
  {
   "cell_type": "code",
   "execution_count": null,
   "id": "1395dc34-f1ca-47dd-a699-d99aeaeb76ae",
   "metadata": {},
   "outputs": [],
   "source": [
    "bool_flage= True\n",
    "i=0\n",
    "Tuple=[]\n",
    "while(bool_flage!=False):\n",
    "    element= int(input(f\"Enter the {i+1} element of the tuple:\"))\n",
    "    Tuple.append(element)\n",
    "    bool_flage=input(\"Enter the responce:\")\n",
    "input_Tuple= Tuple(element)\n",
    "print(input_Tuple)\n",
    "\n",
    "    "
   ]
  },
  {
   "cell_type": "code",
   "execution_count": null,
   "id": "e09da483-0507-4945-821e-baf9c08f424e",
   "metadata": {},
   "outputs": [],
   "source": [
    "# Star Printing "
   ]
  },
  {
   "cell_type": "code",
   "execution_count": 2,
   "id": "1999cee4-2e78-462e-a9b8-48ed9bcda622",
   "metadata": {},
   "outputs": [
    {
     "name": "stdin",
     "output_type": "stream",
     "text": [
      "Enter the value of the n: 5\n"
     ]
    },
    {
     "name": "stdout",
     "output_type": "stream",
     "text": [
      "**********\n",
      "****  ****\n",
      "***    ***\n",
      "**      **\n",
      "*        *\n",
      "*        *\n",
      "**      **\n",
      "***    ***\n",
      "****  ****\n",
      "**********\n"
     ]
    }
   ],
   "source": [
    "n= int(input(\"Enter the value of the n:\"))\n",
    "for i in range(0,n):\n",
    "    for j in range(0,n-i):\n",
    "        print(\"*\", end=\"\")\n",
    "    for j in range(n-i,n+i):\n",
    "        print(\" \", end=\"\")\n",
    "    for j in range(n+i, 2*n):\n",
    "        print(\"*\", end=\"\")\n",
    "    print()\n",
    "for i in range(2*n-1,n-1,-1):\n",
    "    for j in range(0,2*n-i):\n",
    "        print(\"*\",end=\"\")\n",
    "    for j in range(2*n-i,i):\n",
    "        print(\" \",end=\"\")\n",
    "    for j in range(i,2*n):\n",
    "        print(\"*\",end=\"\")\n",
    "    print()\n"
   ]
  },
  {
   "cell_type": "code",
   "execution_count": null,
   "id": "7fced2e0-204b-47a5-ab94-f6c71aa3889d",
   "metadata": {},
   "outputs": [],
   "source": [
    "#list in range"
   ]
  },
  {
   "cell_type": "code",
   "execution_count": 13,
   "id": "271ca9a4-9b6e-4a76-8058-28a0c701e5f7",
   "metadata": {},
   "outputs": [
    {
     "name": "stdin",
     "output_type": "stream",
     "text": [
      "Enter the 1 element of the list: 2\n",
      "Enter the 2 element of the list: 8\n"
     ]
    },
    {
     "name": "stdout",
     "output_type": "stream",
     "text": [
      "Range : [2, 8]\n"
     ]
    },
    {
     "name": "stdin",
     "output_type": "stream",
     "text": [
      "Enter the length of the list: 5\n",
      "Enter the 1 element of the list: 1\n",
      "Enter the 2 element of the list: 3\n",
      "Enter the 3 element of the list: 5\n",
      "Enter the 4 element of the list: 8\n",
      "Enter the 5 element of the list: 4\n"
     ]
    },
    {
     "name": "stdout",
     "output_type": "stream",
     "text": [
      "[1, 3, 5, 8, 4]\n",
      "3\n",
      "5\n",
      "8\n",
      "4\n"
     ]
    }
   ],
   "source": [
    "n=2\n",
    "Range=[]\n",
    "for i in range(0,n):\n",
    "    element= int(input(f\"Enter the {i+1} element of the list:\"))\n",
    "    Range.append(element)\n",
    "print( \"Range :\",Range)\n",
    "m= int(input(\"Enter the length of the list:\"))\n",
    "list=[]\n",
    "for i in range (0,m):\n",
    "    element=int(input(f\"Enter the {i+1} element of the list:\"))\n",
    "    list.append(element)\n",
    "print(list)\n",
    "for i in range(0,m):\n",
    "    if(list[i]>=Range[0] and list[i]<=Range[1]):\n",
    "        print(list[i])"
   ]
  },
  {
   "cell_type": "code",
   "execution_count": 4,
   "id": "3bea9fb3-5409-4b96-813a-22bff18f8060",
   "metadata": {},
   "outputs": [
    {
     "name": "stdin",
     "output_type": "stream",
     "text": [
      "Enter the value of n:  5\n"
     ]
    },
    {
     "name": "stdout",
     "output_type": "stream",
     "text": [
      "    *\n",
      "   ***\n",
      "  *****\n",
      " *******\n",
      "*********\n",
      " *******\n",
      "  *****\n",
      "   ***\n",
      "    *\n"
     ]
    }
   ],
   "source": [
    "n = int(input(\"Enter the value of n: \"))\n",
    "\n",
    "# First half of the diamond\n",
    "for i in range(0, n):\n",
    "    for j in range(0, n - i - 1):\n",
    "        print(\" \", end=\"\")\n",
    "    for j in range(0, 2 * i + 1):\n",
    "        print(\"*\", end=\"\")\n",
    "    print()\n",
    "\n",
    "# Second half of the diamond\n",
    "for i in range(n - 2, -1, -1):\n",
    "    for j in range(0, n - i - 1):\n",
    "        print(\" \", end=\"\")\n",
    "    for j in range(0, 2 * i + 1):\n",
    "        print(\"*\", end=\"\")\n",
    "    print()\n"
   ]
  },
  {
   "cell_type": "code",
   "execution_count": 5,
   "id": "f5ec3d03-2380-492c-b137-094b71821664",
   "metadata": {},
   "outputs": [
    {
     "name": "stdin",
     "output_type": "stream",
     "text": [
      "Enter the value of n-> 4\n"
     ]
    },
    {
     "name": "stdout",
     "output_type": "stream",
     "text": [
      "      a\n",
      "    abc\n",
      "  abcde\n",
      "abcdefg\n"
     ]
    }
   ],
   "source": [
    "n = int(input(\"Enter the value of n->\"))\n",
    "for i in range(0,n):\n",
    "    for j in range(0, n-i-1):\n",
    "        print(\"  \", end=\"\")\n",
    "    for j in range(0, i+1):\n",
    "        x= chr(97+j)\n",
    "        print(x,end=\"\")\n",
    "    print()"
   ]
  }
 ],
 "metadata": {
  "kernelspec": {
   "display_name": "Python 3 (ipykernel)",
   "language": "python",
   "name": "python3"
  },
  "language_info": {
   "codemirror_mode": {
    "name": "ipython",
    "version": 3
   },
   "file_extension": ".py",
   "mimetype": "text/x-python",
   "name": "python",
   "nbconvert_exporter": "python",
   "pygments_lexer": "ipython3",
   "version": "3.12.1"
  }
 },
 "nbformat": 4,
 "nbformat_minor": 5
}
