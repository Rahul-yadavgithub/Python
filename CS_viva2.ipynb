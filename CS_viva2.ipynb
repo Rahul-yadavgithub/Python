{
 "cells": [
  {
   "cell_type": "markdown",
   "id": "6ba45cca-cd10-400b-9e5f-b92500f40a5b",
   "metadata": {},
   "source": [
    "# Find the middle element of the linkedlist"
   ]
  },
  {
   "cell_type": "code",
   "execution_count": 32,
   "id": "1fe8fdaf-379f-41d8-b070-28f376bf2c52",
   "metadata": {},
   "outputs": [
    {
     "name": "stdin",
     "output_type": "stream",
     "text": [
      "Enter the linkedlist: 1 2 3 4 5\n"
     ]
    },
    {
     "name": "stdout",
     "output_type": "stream",
     "text": [
      "Linked List:\n",
      "5 4 3 2 1 \n"
     ]
    },
    {
     "data": {
      "text/plain": [
       "3"
      ]
     },
     "execution_count": 32,
     "metadata": {},
     "output_type": "execute_result"
    }
   ],
   "source": [
    "class Node:\n",
    "    def __init__(self, data):\n",
    "        self.data = data\n",
    "        self.next = None \n",
    "\n",
    "class LinkedList:\n",
    "    def __init__(self):\n",
    "        self.head = None\n",
    "        self.tail = None \n",
    "        self.size= 0\n",
    "    def insertAtEnd(self,data):\n",
    "        new_node= Node(data)\n",
    "        if self.head is None:\n",
    "            self.head= new_node\n",
    "            return\n",
    "        else:\n",
    "            new_node.next= self.head\n",
    "            self.head= new_node\n",
    "    def findMiddleElement(self):\n",
    "        if self.head is None:\n",
    "            return None\n",
    "        count =0 \n",
    "        temp= self.head\n",
    "        while (temp!=None):\n",
    "            count+= 1\n",
    "            temp= temp.next\n",
    "        if count==1:\n",
    "            return self.head.data\n",
    "        middle_index= count//2\n",
    "        temp= self.head\n",
    "        for i in range(0,middle_index):\n",
    "            temp= temp.next\n",
    "        return temp.data\n",
    "   \n",
    "\n",
    "        \n",
    "    def display(self):\n",
    "        temp= self.head\n",
    "        while temp is not None:\n",
    "            print(temp.data, end=\" \")\n",
    "            temp = temp.next\n",
    "        print()\n",
    "   \n",
    "            \n",
    "            \n",
    "            \n",
    "        \n",
    "linkedList1 = LinkedList()\n",
    "x= [int(x) for x in input(\"Enter the linkedlist:\").split()]\n",
    "for i in x:\n",
    "    linkedList1.insertAtEnd(i)\n",
    "\n",
    "print(\"Linked List:\")\n",
    "linkedList1.display() \n",
    "linkedList1.findMiddleElement()"
   ]
  },
  {
   "cell_type": "markdown",
   "id": "ec081bb1-8b8c-4fe1-9969-53d7cd6cbb17",
   "metadata": {},
   "source": [
    "# Only move the zeroes element at the end of the array"
   ]
  },
  {
   "cell_type": "code",
   "execution_count": 3,
   "id": "f5419e0b-b7d7-4bda-8be8-b6787c03faad",
   "metadata": {},
   "outputs": [
    {
     "name": "stdin",
     "output_type": "stream",
     "text": [
      "Enter Elements:  1 2 3 0 9 0 5\n"
     ]
    },
    {
     "name": "stdout",
     "output_type": "stream",
     "text": [
      "[1, 2, 3, 5, 9, 0, 0]\n"
     ]
    }
   ],
   "source": [
    "def move(v):\n",
    "    low= 0\n",
    "    mid=0\n",
    "    high=len(v)-1\n",
    "    while(mid<=high):\n",
    "        if(v[mid]!=0):\n",
    "            mid+=1\n",
    "        elif(v[mid]==0):\n",
    "            temp=v[mid]\n",
    "            v[mid]=v[high]\n",
    "            v[high]=temp\n",
    "            high-=1\n",
    "            mid+=1\n",
    "        else:\n",
    "             mid= mid+1\n",
    "arr = [int(x) for x in input(\"Enter Elements: \").split()]\n",
    "\n",
    "move(arr)\n",
    "print(arr)"
   ]
  },
  {
   "cell_type": "markdown",
   "id": "fff2622f-70c5-4348-9426-680022cf8dbf",
   "metadata": {},
   "source": [
    "# Move the zeroes at the end of array without changing order"
   ]
  },
  {
   "cell_type": "code",
   "execution_count": 7,
   "id": "782e1e88-4196-4908-8e47-5686ecc0fa85",
   "metadata": {},
   "outputs": [
    {
     "name": "stdin",
     "output_type": "stream",
     "text": [
      "Enter Elements: 1 0 4 9 0 6 0 0 7\n"
     ]
    },
    {
     "name": "stdout",
     "output_type": "stream",
     "text": [
      "[1, 4, 9, 6, 7, 0, 0, 0, 0]\n"
     ]
    }
   ],
   "source": [
    "def move(v):\n",
    "    low=len(v)-1\n",
    "    mid= len(v)-1\n",
    "    high= len(v)-1\n",
    "    while(mid!=0):\n",
    "        if(v[mid]!=0):\n",
    "            mid-=1\n",
    "            low-=1\n",
    "        if(v[mid]==0):\n",
    "            while(low<high):\n",
    "                temp= v[low]\n",
    "                v[low]= v[low+1]\n",
    "                v[low+1]= temp\n",
    "                low+=1\n",
    "            high-=1\n",
    "            mid-=1\n",
    "            low= mid\n",
    "arr= [int(x) for x in input(\"Enter Elements:\").split()]\n",
    "\n",
    "move(arr)\n",
    "print(arr)"
   ]
  },
  {
   "cell_type": "markdown",
   "id": "d0777f3a-5520-4769-b950-0b5d57e3b243",
   "metadata": {},
   "source": [
    "# Making Linkedlist 2nd Method"
   ]
  },
  {
   "cell_type": "code",
   "execution_count": 5,
   "id": "2af37a4a-6dbc-46cd-b035-f3e9ea167b24",
   "metadata": {},
   "outputs": [
    {
     "name": "stdin",
     "output_type": "stream",
     "text": [
      " 1\n",
      " 2\n",
      " 3\n"
     ]
    },
    {
     "name": "stdout",
     "output_type": "stream",
     "text": [
      "1--2--3--none\n"
     ]
    }
   ],
   "source": [
    "class Node:\n",
    "    def __init__(self,data):\n",
    "        self.data = data\n",
    "        self.none = None\n",
    "\n",
    "def printer():\n",
    "    now = node1\n",
    "    while now is not None:\n",
    "        print(now.data,end=\"--\")\n",
    "        now = now.none\n",
    "    print(\"none\")\n",
    "\n",
    "a = int(input())\n",
    "b = int(input())\n",
    "c = int(input())\n",
    "\n",
    "node1 = Node(a)\n",
    "node2 = Node(b)\n",
    "node3 = Node(c)\n",
    "\n",
    "node1.none = node2\n",
    "node2.none = node3\n",
    "\n",
    "printer()\n",
    "    "
   ]
  },
  {
   "cell_type": "markdown",
   "id": "a043999b-a300-44ee-a49a-b200ca03ecaa",
   "metadata": {},
   "source": [
    "# Making Linkedlist Using Stack"
   ]
  },
  {
   "cell_type": "code",
   "execution_count": 31,
   "id": "c0163fa2-42c3-46d0-a746-1098badc5972",
   "metadata": {},
   "outputs": [
    {
     "name": "stdin",
     "output_type": "stream",
     "text": [
      "Enter the stack Element 1 2 3 4 \n"
     ]
    },
    {
     "name": "stdout",
     "output_type": "stream",
     "text": [
      "4->3->2->1->None\n",
      "Top Element: 4\n",
      "Popped Element: 4\n",
      "3->2->1->None\n"
     ]
    }
   ],
   "source": [
    "class Node:\n",
    "    def __init__(self, data):\n",
    "        self.data= data\n",
    "        self.next= None\n",
    "class Stack:\n",
    "    def __init__(self):\n",
    "        self.head= None\n",
    "    def isEmpty(self):\n",
    "        if self.head==None:\n",
    "            return True\n",
    "        else:\n",
    "            return False\n",
    "    def push(self,data):\n",
    "        new_node= Node(data)\n",
    "        if self.head== None:\n",
    "            self.head= Node(data)\n",
    "        else:\n",
    "            new_node.next= self.head\n",
    "            self.head= new_node\n",
    "    def pop(self):\n",
    "        if self.isEmpty():\n",
    "            return None\n",
    "        else:\n",
    "            popped_node= self.head\n",
    "            self.head= self.head.next\n",
    "            popped_node.next= None\n",
    "            return popped_node.data\n",
    "    def peek(self):\n",
    "        if self.isEmpty():\n",
    "            return None\n",
    "        else:\n",
    "            return self.head.data\n",
    "    def display(self):\n",
    "        full_node= self.head\n",
    "        if self.isEmpty():\n",
    "            print(\"Stack UnderFlow condition\")\n",
    "        else:\n",
    "            while(full_node!=None):\n",
    "                print(full_node.data, end= \"->\")\n",
    "                full_node= full_node.next\n",
    "            print(\"None\")\n",
    "\n",
    "stack= Stack()\n",
    "x= [int(x) for x in input(\"Enter the stack Element\").split()]\n",
    "for i in x:\n",
    "    stack.push(i)\n",
    "\n",
    "stack.display()\n",
    "\n",
    "print(\"Top Element:\", stack.peek())\n",
    "print(\"Popped Element:\", stack.pop())\n",
    "\n",
    "\n",
    "stack.display()"
   ]
  },
  {
   "cell_type": "markdown",
   "id": "1c9dc007-b2bb-45eb-b634-f6f2cd211fe0",
   "metadata": {},
   "source": [
    "# Reverse the stack using linkedlist"
   ]
  },
  {
   "cell_type": "code",
   "execution_count": 33,
   "id": "022a5a9a-1287-4fc9-ac94-4b5d429d1c9b",
   "metadata": {},
   "outputs": [
    {
     "name": "stdin",
     "output_type": "stream",
     "text": [
      "Enter the stack element: 1 2 3 4 5 6 \n"
     ]
    },
    {
     "name": "stdout",
     "output_type": "stream",
     "text": [
      "6->5->4->3->2->1->Node\n",
      "1->2->3->4->5->6->Node\n"
     ]
    }
   ],
   "source": [
    "class Node:\n",
    "    def __init__(self,data):\n",
    "        self.data= data\n",
    "        self.next= None\n",
    "class Stack:\n",
    "    def __init__(self):\n",
    "        self.top= None\n",
    "        \n",
    "    def push(self, data):\n",
    "        new_node= Node(data)\n",
    "        if self.top is None:\n",
    "            self.top= new_node\n",
    "        else:\n",
    "            new_node.next= self.top\n",
    "            self.top= new_node\n",
    "\n",
    "    def pop(self):\n",
    "        if self.top is None:\n",
    "            return None\n",
    "        else:\n",
    "            popped = self.top\n",
    "            self.top= self.top.next\n",
    "            return popped.data\n",
    "    def is_Empty(self):\n",
    "        return self.top is None\n",
    "    def reverse(self):\n",
    "        prev= None\n",
    "        current= self.top\n",
    "        while current is not None:\n",
    "            next_node= current.next\n",
    "            current.next= prev\n",
    "            prev= current\n",
    "            current= next_node\n",
    "        self.top= prev\n",
    "    def display(self):\n",
    "        current= self.top\n",
    "        while current is not None:\n",
    "            print(current.data, end=\"->\")\n",
    "            current= current.next\n",
    "        print(\"Node\")\n",
    "        \n",
    "stack= Stack()\n",
    "x= [int(x) for x in input(\"Enter the stack element:\").split()]\n",
    "for i in x:\n",
    "    stack.push(i)\n",
    "\n",
    "stack.display()\n",
    "stack.reverse()\n",
    "stack.display()\n",
    "        \n",
    "        "
   ]
  },
  {
   "cell_type": "markdown",
   "id": "facf1d06-50b2-456d-b9fa-99af95c6d050",
   "metadata": {},
   "source": [
    "# WAP to print the maximum multiple of the array 1st Method"
   ]
  },
  {
   "cell_type": "code",
   "execution_count": 41,
   "id": "ae414ac6-da62-424c-884c-de86323045a3",
   "metadata": {},
   "outputs": [
    {
     "name": "stdin",
     "output_type": "stream",
     "text": [
      "Enter Element: 1 2 -3 4 -5 -6 7\n"
     ]
    },
    {
     "name": "stdout",
     "output_type": "stream",
     "text": [
      "subarray with maximum Multiplication:\n",
      "4 -5 -6 7 \n",
      "maximum Multiplication: 840\n"
     ]
    }
   ],
   "source": [
    "arr= [int(x) for x in input(\"Enter Element:\").split()]\n",
    "n= len(arr)\n",
    "maxmulti=1\n",
    "maxmulti1= 1\n",
    "multi= 1\n",
    "intialIdx1= 0\n",
    "endIdx1=0 \n",
    "tempIdx1=0\n",
    "for j in range(0,n):\n",
    "    multi1*=arr[j]\n",
    "    if(multi1>maxmulti):\n",
    "        maxmulti= multi1\n",
    "        initialIdx= tempIdx\n",
    "        endIdx= j\n",
    "        \n",
    "maxmulti2=1\n",
    "multi2=1\n",
    "initialIdx2=n-1\n",
    "endIdx2=n-1\n",
    "tempIdx2=n-1\n",
    "for j in range(n-1,0,-1):\n",
    "    multi2*=arr[j]\n",
    "    if(multi2>maxmulti2):\n",
    "        maxmulti2= multi2\n",
    "        endIdx2= tempIdx2\n",
    "        initialIdx2= j\n",
    "if(maxmulti2>maxmulti1):\n",
    "    maxmulti= maxmulti2\n",
    "else:\n",
    "    maxmulti= maxmulti1\n",
    "         \n",
    "print(\"subarray with maximum Multiplication:\")\n",
    "if(maxmulti1>maxmulti2):\n",
    "    maxmulti= maxmulti1\n",
    "    for i in range(initialIdx1,endIdx1+1):\n",
    "        print(arr[i], end=\" \")\n",
    "else:\n",
    "    maxmulti= maxmulti2\n",
    "    for i in range(initialIdx2,endIdx2+1):\n",
    "        print(arr[i], end=\" \")\n",
    "    print()\n",
    "print(\"maximum Multiplication:\", maxmulti)"
   ]
  },
  {
   "cell_type": "markdown",
   "id": "5ac4d773-6916-4af9-8f94-2924aa2c4a91",
   "metadata": {},
   "source": [
    "# 2nd Method "
   ]
  },
  {
   "cell_type": "code",
   "execution_count": 2,
   "id": "abadf7f3-0551-4c17-885f-6dba8aa020f3",
   "metadata": {},
   "outputs": [
    {
     "name": "stdin",
     "output_type": "stream",
     "text": [
      "Enter the Element: 1 2 -3 5 -5 7 -8 \n"
     ]
    },
    {
     "name": "stdout",
     "output_type": "stream",
     "text": [
      "1400\n"
     ]
    }
   ],
   "source": [
    "def maxProduct(arr):\n",
    "    n= len(arr)\n",
    "    max=1\n",
    "    prod=1\n",
    "    for i in range(0,n):\n",
    "        prod*=arr[i]\n",
    "        if(prod>max):\n",
    "            max= prod\n",
    "        \n",
    "    prod=1\n",
    "    for i in range(n-1,0,-1):\n",
    "        prod*=arr[i]\n",
    "        if(prod>max):\n",
    "            max= prod\n",
    "    if(max==1):\n",
    "        for i in range(0,n):\n",
    "            if(arr[i]==0):\n",
    "                max=0\n",
    "            elif(arr[i]==1):\n",
    "                max=1\n",
    "            else:\n",
    "                max=max\n",
    "    return max\n",
    "\n",
    "arr= [int(x) for x in input(\"Enter the Element:\").split()]\n",
    "max= maxProduct(arr)\n",
    "print(max)\n",
    "            "
   ]
  },
  {
   "cell_type": "markdown",
   "id": "19d7c19a-8539-44df-9cd2-9d9280b3bbb6",
   "metadata": {},
   "source": [
    "# 3rd method "
   ]
  },
  {
   "cell_type": "code",
   "execution_count": 14,
   "id": "55cc6d53-14b4-4db9-924e-247e365083f5",
   "metadata": {},
   "outputs": [
    {
     "name": "stdin",
     "output_type": "stream",
     "text": [
      "Enter the array: 2 -3 7 -6\n"
     ]
    },
    {
     "name": "stdout",
     "output_type": "stream",
     "text": [
      "252\n",
      "[-3, 7, -6]\n"
     ]
    }
   ],
   "source": [
    " def maxProduct( arr):\n",
    "        n= len(arr)\n",
    "        r= arr[0]\n",
    "        imax= r\n",
    "        imin=r\n",
    "        initialIdx=0\n",
    "        endIdx=0\n",
    "        tempIdx=0\n",
    "        for i in range(1,n):\n",
    "            if(arr[i]<0):\n",
    "                temp= imax\n",
    "                imax= imin\n",
    "                imin=temp\n",
    "                endIdx=i\n",
    "                tempIdx=i\n",
    "            imax= max(arr[i], (imax*arr[i]))\n",
    "            imin= min(arr[i], (imin*arr[i]))\n",
    "            if(imax==arr[i] and arr[i-1]!=1):\n",
    "                initialIdx=tempIdx\n",
    "                \n",
    "            r= max(r,imax)\n",
    "    \n",
    "        return r , arr[initialIdx:endIdx+1]\n",
    "\n",
    "\n",
    "arr= [int(x) for x in input(\"Enter the array:\").split()]\n",
    "maxProduct, subarray= maxProduct(arr)\n",
    "print(maxProduct)\n",
    "print(subarray)"
   ]
  }
 ],
 "metadata": {
  "kernelspec": {
   "display_name": "Python 3 (ipykernel)",
   "language": "python",
   "name": "python3"
  },
  "language_info": {
   "codemirror_mode": {
    "name": "ipython",
    "version": 3
   },
   "file_extension": ".py",
   "mimetype": "text/x-python",
   "name": "python",
   "nbconvert_exporter": "python",
   "pygments_lexer": "ipython3",
   "version": "3.12.1"
  }
 },
 "nbformat": 4,
 "nbformat_minor": 5
}
