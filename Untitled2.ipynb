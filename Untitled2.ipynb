{
 "cells": [
  {
   "cell_type": "code",
   "execution_count": 8,
   "id": "53c9fc3a-e121-4df4-bad5-2cd6a863f158",
   "metadata": {},
   "outputs": [
    {
     "name": "stdin",
     "output_type": "stream",
     "text": [
      "Enter the value of a: 2\n",
      "Enter the value of b: 3\n"
     ]
    },
    {
     "name": "stdout",
     "output_type": "stream",
     "text": [
      "the sum of  2 and 3 is 5\n"
     ]
    },
    {
     "name": "stdin",
     "output_type": "stream",
     "text": [
      "Enter the value of d: 1\n"
     ]
    }
   ],
   "source": [
    "bool_flag= True\n",
    "while(bool_flag != False):\n",
    "                          a= int(input(\"Enter the value of a:\"))\n",
    "                          b= int(input(\"Enter the value of b:\"))\n",
    "                          sum= a+b\n",
    "                          multi= a*b\n",
    "                          print(\"the sum of \",a,\"and\", b,\"is\" , sum)\n",
    "                          d= int(input(\"Enter the value of d:\"))\n",
    "                          if d== 0:\n",
    "                                        bool_flag= True\n",
    "                          else: \n",
    "                               bool_flag= False"
   ]
  }
 ],
 "metadata": {
  "kernelspec": {
   "display_name": "Python 3 (ipykernel)",
   "language": "python",
   "name": "python3"
  },
  "language_info": {
   "codemirror_mode": {
    "name": "ipython",
    "version": 3
   },
   "file_extension": ".py",
   "mimetype": "text/x-python",
   "name": "python",
   "nbconvert_exporter": "python",
   "pygments_lexer": "ipython3",
   "version": "3.12.1"
  }
 },
 "nbformat": 4,
 "nbformat_minor": 5
}
