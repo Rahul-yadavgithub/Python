{
 "cells": [
  {
   "cell_type": "code",
   "execution_count": 1,
   "id": "6103b472-c18b-4c3f-b1a2-b02a4cd55d78",
   "metadata": {},
   "outputs": [],
   "source": [
    "# Syntax of Function in python \n",
    "# def cal_sum(a,b):\n",
    "#     sum=a+b\n",
    "#     print(sum)\n",
    "#     return sum\n",
    "# cal_sum(argument1, argument2)"
   ]
  },
  {
   "cell_type": "code",
   "execution_count": 2,
   "id": "87593741-a913-4613-a4a5-566aa78a4756",
   "metadata": {},
   "outputs": [],
   "source": [
    "# Factorial with help of function"
   ]
  },
  {
   "cell_type": "code",
   "execution_count": 14,
   "id": "7363f14a-a24b-4641-9a04-64137b6feb94",
   "metadata": {},
   "outputs": [
    {
     "name": "stdin",
     "output_type": "stream",
     "text": [
      "Enten the value of n->  5\n"
     ]
    },
    {
     "name": "stdout",
     "output_type": "stream",
     "text": [
      "120\n"
     ]
    }
   ],
   "source": [
    "def cal_factorial(n): # n is parameter \n",
    "    if(n==0):\n",
    "        return 1\n",
    "    else:\n",
    "        return n*cal_factorial(n-1)\n",
    "\n",
    "\n",
    "n= int(input(\"Enten the value of n->\"))\n",
    "fact = cal_factorial(n) # n is argument \n",
    "print(fact)"
   ]
  },
  {
   "cell_type": "code",
   "execution_count": 15,
   "id": "c8944448-7899-4aed-9adf-1e27027af187",
   "metadata": {},
   "outputs": [],
   "source": [
    "# The function in which we nothing return are print None when we want to print"
   ]
  },
  {
   "cell_type": "code",
   "execution_count": 16,
   "id": "95c3b602-5d28-4325-a5dd-d1b232f9a8ea",
   "metadata": {},
   "outputs": [
    {
     "name": "stdout",
     "output_type": "stream",
     "text": [
      "hello\n",
      "None\n"
     ]
    }
   ],
   "source": [
    "def print_hello():\n",
    "    print(\"hello\")\n",
    "output= print_hello()\n",
    "print(output) # return none as an value "
   ]
  },
  {
   "cell_type": "code",
   "execution_count": 26,
   "id": "fa074874-c07b-4b27-b250-14a652b7d086",
   "metadata": {},
   "outputs": [],
   "source": [
    " # Write a program to print the length of a list (list is the parameter)"
   ]
  },
  {
   "cell_type": "code",
   "execution_count": 28,
   "id": "46636215-181d-4de4-9134-c7a883b74e3e",
   "metadata": {},
   "outputs": [
    {
     "name": "stdin",
     "output_type": "stream",
     "text": [
      "Enter the length of the frist list-> 2\n",
      "Enter the length of the second list-> 2\n",
      "Enter the element of the list -> 3\n",
      "Enter the element of the list -> 2\n",
      "Enter the element of the second list->  4\n",
      "Enter the element of the second list->  4\n"
     ]
    },
    {
     "name": "stdout",
     "output_type": "stream",
     "text": [
      "[4, 4]\n"
     ]
    }
   ],
   "source": [
    "\n",
    "n= int(input(\"Enter the length of the frist list->\"))\n",
    "m= int(input(\"Enter the length of the second list->\"))\n",
    "list1=[]\n",
    "list2=[]\n",
    "for i in range(0,n):\n",
    "    element= int(input(\"Enter the element of the list ->\"))\n",
    "    list1.append(element)\n",
    "\n",
    "for i in range(0, m):\n",
    "    element= int(input(\"Enter the element of the second list-> \"))\n",
    "    list2.append(element)\n",
    "\n"
   ]
  }
 ],
 "metadata": {
  "kernelspec": {
   "display_name": "Python 3 (ipykernel)",
   "language": "python",
   "name": "python3"
  },
  "language_info": {
   "codemirror_mode": {
    "name": "ipython",
    "version": 3
   },
   "file_extension": ".py",
   "mimetype": "text/x-python",
   "name": "python",
   "nbconvert_exporter": "python",
   "pygments_lexer": "ipython3",
   "version": "3.12.1"
  }
 },
 "nbformat": 4,
 "nbformat_minor": 5
}
