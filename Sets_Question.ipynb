{
 "cells": [
  {
   "cell_type": "code",
   "execution_count": null,
   "id": "d81ad6ed-1eaf-419d-b6e5-67cd4425abd1",
   "metadata": {},
   "outputs": [],
   "source": [
    "arr= [8,-2,6,14,-9]\n",
    "\n",
    "n= len(arr)\n",
    "print(arr)\n",
    "sum=0\n",
    "for i in range(0,n):\n",
    "    sum+=arr[i]\n",
    "for i in range(1,n):\n",
    "    j=0\n",
    "    while(j!=n-i):\n",
    "        sum1=0\n",
    "        for i in range(0,j+i):\n",
    "            sum1+=lst[i]\n",
    "\n",
    "        if(sum<sum1):\n",
    "            sum= sum1\n",
    "            \n",
    "print(arr) "
   ]
  },
  {
   "cell_type": "code",
   "execution_count": null,
   "id": "1c74b50e-18aa-4b61-bb08-631fe72c6d94",
   "metadata": {},
   "outputs": [],
   "source": [
    "arr= [8,-2,6,14,-9]\n",
    "\n",
    "n= len(arr)\n",
    "print(arr)\n",
    "sum=0\n",
    "for i in range(0,n):\n",
    "    sum+=arr[i]\n",
    "for i in range(1,n):\n",
    "    j=0\n",
    "    while(j!=n-i):\n",
    "        sum1=0\n",
    "        for i in range(0,j+i):\n",
    "            sum1+=lst[i]\n",
    "\n",
    "        if(sum<sum1):\n",
    "            sum= sum1\n",
    "\n",
    "        j+=1\n",
    "            \n",
    "print(arr) "
   ]
  }
 ],
 "metadata": {
  "kernelspec": {
   "display_name": "Python 3 (ipykernel)",
   "language": "python",
   "name": "python3"
  },
  "language_info": {
   "codemirror_mode": {
    "name": "ipython",
    "version": 3
   },
   "file_extension": ".py",
   "mimetype": "text/x-python",
   "name": "python",
   "nbconvert_exporter": "python",
   "pygments_lexer": "ipython3",
   "version": "3.12.1"
  }
 },
 "nbformat": 4,
 "nbformat_minor": 5
}
