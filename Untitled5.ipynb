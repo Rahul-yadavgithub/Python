{
 "cells": [
  {
   "cell_type": "code",
   "execution_count": null,
   "id": "825540fa-6ac4-43bf-8e28-1bde589a02ed",
   "metadata": {},
   "outputs": [
    {
     "name": "stdin",
     "output_type": "stream",
     "text": [
      "Enter the value of a: 3\n",
      "Enter the value of b: 4\n"
     ]
    },
    {
     "name": "stdout",
     "output_type": "stream",
     "text": [
      "The sum of 3 and  4 is 7\n",
      "The multi of 3 and 4 is 12\n",
      "The div of 3 and 4 is 0.75\n"
     ]
    },
    {
     "name": "stdin",
     "output_type": "stream",
     "text": [
      "Enter the value of d: 1\n",
      "Enter the value of a: 2\n",
      "Enter the value of b: 3\n"
     ]
    },
    {
     "name": "stdout",
     "output_type": "stream",
     "text": [
      "The sum of 2 and  3 is 5\n",
      "The multi of 2 and 3 is 6\n",
      "The div of 2 and 3 is 0.6666666666666666\n"
     ]
    }
   ],
   "source": [
    "bool_flag= True \n",
    "while(bool_flag!= False):\n",
    "                         a= int(input(\"Enter the value of a:\"))\n",
    "                         b= int(input(\"Enter the value of b:\"))\n",
    "                         sum= a+b\n",
    "                         multi= a*b\n",
    "                         div= a/b\n",
    "                         print(\"The sum of\" ,a,\"and \", b,\"is\", sum)\n",
    "                         print(\"The multi of\" , a, \"and\" ,b,\"is\", multi)\n",
    "                         print(\"The div of\" ,a, \"and\" ,b,\"is\", div)\n",
    "                         d= int(input(\"Enter the value of d:\"))\n",
    "                         if d==1:\n",
    "                                 bool_flag=True\n",
    "                         else:\n",
    "                              bool_flag= False"
   ]
  }
 ],
 "metadata": {
  "kernelspec": {
   "display_name": "Python 3 (ipykernel)",
   "language": "python",
   "name": "python3"
  },
  "language_info": {
   "codemirror_mode": {
    "name": "ipython",
    "version": 3
   },
   "file_extension": ".py",
   "mimetype": "text/x-python",
   "name": "python",
   "nbconvert_exporter": "python",
   "pygments_lexer": "ipython3",
   "version": "3.12.1"
  }
 },
 "nbformat": 4,
 "nbformat_minor": 5
}
