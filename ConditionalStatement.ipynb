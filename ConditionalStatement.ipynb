{
 "cells": [
  {
   "cell_type": "code",
   "execution_count": null,
   "id": "f08a0865-8bc7-4af5-bab2-50deb5894f05",
   "metadata": {},
   "outputs": [],
   "source": [
    "# difference between the elif and if condition "
   ]
  },
  {
   "cell_type": "code",
   "execution_count": 2,
   "id": "a1260278-ffb4-47e7-ae46-3cae6048affa",
   "metadata": {},
   "outputs": [
    {
     "name": "stdin",
     "output_type": "stream",
     "text": [
      "light: yellow\n"
     ]
    },
    {
     "name": "stdout",
     "output_type": "stream",
     "text": [
      "Look\n"
     ]
    }
   ],
   "source": [
    "  light= input(\"light:\")\n",
    "if(light==\"red\"):\n",
    "    print(\"Stop\")\n",
    "elif(light== \"yellow\"):\n",
    "    print(\"Look\")\n",
    "elif(light== \"red\"):\n",
    "    print(\"go\")\n",
    "else:\n",
    "    print(\"Light is broken\")"
   ]
  },
  {
   "cell_type": "code",
   "execution_count": 3,
   "id": "884768e7-994e-45e4-9d4a-af7fb7f28194",
   "metadata": {},
   "outputs": [
    {
     "name": "stdin",
     "output_type": "stream",
     "text": [
      "light: red\n"
     ]
    },
    {
     "name": "stdout",
     "output_type": "stream",
     "text": [
      "stop\n",
      "No\n"
     ]
    }
   ],
   "source": [
    "light = input(\"light:\")\n",
    "if(light== \"red\"):\n",
    "    print(\"stop\")\n",
    "if(light== \"green\"):\n",
    "    print(\"go\")\n",
    "if(light== \"yellow\"):\n",
    "    print(\"look\")\n",
    "else:\n",
    "    print(\"No\")"
   ]
  },
  {
   "cell_type": "code",
   "execution_count": null,
   "id": "884cfdcd-4f3e-4edf-bf37-c7d36ff3095c",
   "metadata": {},
   "outputs": [],
   "source": [
    "#  Ternary Operator "
   ]
  },
  {
   "cell_type": "code",
   "execution_count": 4,
   "id": "d451f15a-b92d-414e-aced-6073ac22c185",
   "metadata": {},
   "outputs": [
    {
     "name": "stdin",
     "output_type": "stream",
     "text": [
      "food:  Mango\n"
     ]
    },
    {
     "name": "stdout",
     "output_type": "stream",
     "text": [
      "no\n"
     ]
    }
   ],
   "source": [
    "food= input(\"food: \")\n",
    "eat= \"Yes\" if food== \"cake\" else \"no\"\n",
    "print(eat)"
   ]
  },
  {
   "cell_type": "code",
   "execution_count": 9,
   "id": "772046fa-2a42-4d4d-a01e-055e8c2d73e9",
   "metadata": {},
   "outputs": [
    {
     "name": "stdin",
     "output_type": "stream",
     "text": [
      "food :  jalebi\n"
     ]
    },
    {
     "name": "stdout",
     "output_type": "stream",
     "text": [
      "sweet\n"
     ]
    }
   ],
   "source": [
    "food= input(\"food : \")\n",
    "print(\"sweet\") if food==\"cake\" or food ==\"jalebi\" else print(\"not Sweet\")"
   ]
  },
  {
   "cell_type": "code",
   "execution_count": null,
   "id": "cf851471-ebc9-47b3-8a63-cc17ae774171",
   "metadata": {},
   "outputs": [],
   "source": [
    "# <variable> = (false_value , ture_value)[<condition>]"
   ]
  },
  {
   "cell_type": "code",
   "execution_count": 7,
   "id": "81f52b2f-fbaa-4127-9fb4-f50ed39af7e2",
   "metadata": {},
   "outputs": [
    {
     "name": "stdin",
     "output_type": "stream",
     "text": [
      "age : 19\n"
     ]
    },
    {
     "name": "stdout",
     "output_type": "stream",
     "text": [
      "Yes\n"
     ]
    }
   ],
   "source": [
    "age= int(input(\"age :\"))\n",
    "vote= (\"Yes\", \"No\") [age<= 18]\n",
    "print(vote)\n"
   ]
  },
  {
   "cell_type": "code",
   "execution_count": 14,
   "id": "ef04ff37-3284-4448-bd79-556d07230fb4",
   "metadata": {},
   "outputs": [
    {
     "name": "stdin",
     "output_type": "stream",
     "text": [
      "salary : 60000\n"
     ]
    },
    {
     "name": "stdout",
     "output_type": "stream",
     "text": [
      "6000.0\n"
     ]
    }
   ],
   "source": [
    "sal =float(input(\"salary :\"))\n",
    "tax= sal*(0.1 , 0.2) [sal<=50000]\n",
    "print(tax)"
   ]
  }
 ],
 "metadata": {
  "kernelspec": {
   "display_name": "Python 3 (ipykernel)",
   "language": "python",
   "name": "python3"
  },
  "language_info": {
   "codemirror_mode": {
    "name": "ipython",
    "version": 3
   },
   "file_extension": ".py",
   "mimetype": "text/x-python",
   "name": "python",
   "nbconvert_exporter": "python",
   "pygments_lexer": "ipython3",
   "version": "3.12.1"
  }
 },
 "nbformat": 4,
 "nbformat_minor": 5
}
