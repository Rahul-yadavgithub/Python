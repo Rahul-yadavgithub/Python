{
 "cells": [
  {
   "cell_type": "code",
   "execution_count": 62,
   "id": "0537ff6d-187d-4ca6-a7be-e5ea1d27802d",
   "metadata": {},
   "outputs": [
    {
     "name": "stdin",
     "output_type": "stream",
     "text": [
      "Enter the value of n: 5\n"
     ]
    },
    {
     "name": "stdout",
     "output_type": "stream",
     "text": [
      "* * * * * * * * * \n",
      "* * * * * \n",
      "* * * \n",
      "* \n"
     ]
    }
   ],
   "source": [
    "n= int(input(\"Enter the value of n:\"))\n",
    "for i in range(1, n):\n",
    "    if i==1:\n",
    "        for j in range(1, 2*n):\n",
    "            print(\"*\"  , end=\"\")\n",
    "    else:\n",
    "        for j in range(0, 2*(n-i-1)):\n",
    "            for k in range\n",
    "            \n",
    "           "
   ]
  }
 ],
 "metadata": {
  "kernelspec": {
   "display_name": "Python 3 (ipykernel)",
   "language": "python",
   "name": "python3"
  },
  "language_info": {
   "codemirror_mode": {
    "name": "ipython",
    "version": 3
   },
   "file_extension": ".py",
   "mimetype": "text/x-python",
   "name": "python",
   "nbconvert_exporter": "python",
   "pygments_lexer": "ipython3",
   "version": "3.12.1"
  }
 },
 "nbformat": 4,
 "nbformat_minor": 5
}
