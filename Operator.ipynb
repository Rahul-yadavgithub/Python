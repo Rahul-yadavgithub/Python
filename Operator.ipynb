{
 "cells": [
  {
   "cell_type": "code",
   "execution_count": null,
   "id": "3a6d548a-b9fe-468a-923b-14196a2bfc2f",
   "metadata": {},
   "outputs": [],
   "source": [
    "# Relational / comparison operator (== ,!= ,> ,<,>=, <=)\n",
    "\n",
    "# Assignment Opreator (= ,+= ,-=,/=,%=,**=)\n",
    "\n",
    "# Logical oprator (not ,and , or)"
   ]
  },
  {
   "cell_type": "code",
   "execution_count": 1,
   "id": "b895e532-d4f7-4690-b8fd-01484c1bb3ed",
   "metadata": {},
   "outputs": [
    {
     "name": "stdout",
     "output_type": "stream",
     "text": [
      "False\n"
     ]
    }
   ],
   "source": [
    "a= 50 \n",
    "b= 30\n",
    "print(a==b)"
   ]
  },
  {
   "cell_type": "code",
   "execution_count": 2,
   "id": "20623d85-0948-43d8-9370-be637e04488a",
   "metadata": {},
   "outputs": [
    {
     "name": "stdout",
     "output_type": "stream",
     "text": [
      "True\n"
     ]
    }
   ],
   "source": [
    "a=50 \n",
    "b=20\n",
    "print(a!=b)"
   ]
  },
  {
   "cell_type": "code",
   "execution_count": 8,
   "id": "b8190de5-1927-4251-808c-d46d6e15d555",
   "metadata": {},
   "outputs": [
    {
     "name": "stdout",
     "output_type": "stream",
     "text": [
      "num : 20\n"
     ]
    }
   ],
   "source": [
    " num= 10\n",
    "num +=10\n",
    "print(\"num :\", num)\n"
   ]
  },
  {
   "cell_type": "code",
   "execution_count": null,
   "id": "a321220d-6a5b-491e-acd3-f08fca937b08",
   "metadata": {},
   "outputs": [],
   "source": [
    "# Logical operator "
   ]
  },
  {
   "cell_type": "code",
   "execution_count": 9,
   "id": "31d10517-83fd-482c-9a16-7381a045bf83",
   "metadata": {},
   "outputs": [
    {
     "name": "stdout",
     "output_type": "stream",
     "text": [
      "True\n",
      "False\n"
     ]
    }
   ],
   "source": [
    "print(not False)\n",
    "print(not True)\n"
   ]
  },
  {
   "cell_type": "code",
   "execution_count": null,
   "id": "5ccdd71b-7026-4dee-9c7a-f4944eb24554",
   "metadata": {},
   "outputs": [],
   "source": [
    "# Type conversion "
   ]
  },
  {
   "cell_type": "code",
   "execution_count": 11,
   "id": "997b2753-95f2-41a6-8821-bdb413f05176",
   "metadata": {},
   "outputs": [
    {
     "name": "stdout",
     "output_type": "stream",
     "text": [
      "6.13\n",
      "<class 'int'>\n"
     ]
    }
   ],
   "source": [
    "a= 2\n",
    "b=4.13\n",
    "sum= a+b # 2.0 + 4.13\n",
    "print(sum)\n",
    "print(type(a))"
   ]
  },
  {
   "cell_type": "code",
   "execution_count": 12,
   "id": "855a3a63-a76f-41ac-89fb-61d71ea6faca",
   "metadata": {},
   "outputs": [
    {
     "ename": "TypeError",
     "evalue": "can only concatenate str (not \"float\") to str",
     "output_type": "error",
     "traceback": [
      "\u001b[1;31m---------------------------------------------------------------------------\u001b[0m",
      "\u001b[1;31mTypeError\u001b[0m                                 Traceback (most recent call last)",
      "Cell \u001b[1;32mIn[12], line 3\u001b[0m\n\u001b[0;32m      1\u001b[0m a\u001b[38;5;241m=\u001b[39m \u001b[38;5;124m\"\u001b[39m\u001b[38;5;124m2\u001b[39m\u001b[38;5;124m\"\u001b[39m\n\u001b[0;32m      2\u001b[0m b\u001b[38;5;241m=\u001b[39m \u001b[38;5;241m4.15\u001b[39m\n\u001b[1;32m----> 3\u001b[0m \u001b[38;5;28mprint\u001b[39m(\u001b[43ma\u001b[49m\u001b[38;5;241;43m+\u001b[39;49m\u001b[43mb\u001b[49m)\n\u001b[0;32m      4\u001b[0m \u001b[38;5;28mprint\u001b[39m(\u001b[38;5;28mtype\u001b[39m(a))\n",
      "\u001b[1;31mTypeError\u001b[0m: can only concatenate str (not \"float\") to str"
     ]
    }
   ],
   "source": [
    "a= \"2\" # string \n",
    "b= 4.15\n",
    "print(a+b)"
   ]
  },
  {
   "cell_type": "code",
   "execution_count": null,
   "id": "f2127d20-4761-4198-9016-134ca36fd708",
   "metadata": {},
   "outputs": [],
   "source": [
    "# How to convert string into the integer --> this is called type casting in the python"
   ]
  },
  {
   "cell_type": "code",
   "execution_count": 13,
   "id": "8038c641-9fae-44a5-b900-df68d6462934",
   "metadata": {},
   "outputs": [
    {
     "name": "stdout",
     "output_type": "stream",
     "text": [
      "<class 'int'>\n",
      "6.24\n"
     ]
    }
   ],
   "source": [
    "a= int(\"2\")\n",
    "b= 4.24\n",
    "print(type(a))\n",
    "print(a+b)"
   ]
  },
  {
   "cell_type": "code",
   "execution_count": 16,
   "id": "2dc27c81-e06c-4ddf-9645-497967b99894",
   "metadata": {},
   "outputs": [
    {
     "ename": "ValueError",
     "evalue": "invalid literal for int() with base 10: 'Rahul yadav'",
     "output_type": "error",
     "traceback": [
      "\u001b[1;31m---------------------------------------------------------------------------\u001b[0m",
      "\u001b[1;31mValueError\u001b[0m                                Traceback (most recent call last)",
      "Cell \u001b[1;32mIn[16], line 1\u001b[0m\n\u001b[1;32m----> 1\u001b[0m a\u001b[38;5;241m=\u001b[39m \u001b[38;5;28;43mint\u001b[39;49m\u001b[43m(\u001b[49m\u001b[38;5;124;43m\"\u001b[39;49m\u001b[38;5;124;43mRahul yadav\u001b[39;49m\u001b[38;5;124;43m\"\u001b[39;49m\u001b[43m)\u001b[49m\n\u001b[0;32m      2\u001b[0m \u001b[38;5;28mprint\u001b[39m(\u001b[38;5;28mtype\u001b[39m(a))\n",
      "\u001b[1;31mValueError\u001b[0m: invalid literal for int() with base 10: 'Rahul yadav'"
     ]
    }
   ],
   "source": [
    "a= int(\"Rahul yadav\")\n",
    "print(type(a))# we cannot convert this into the integer value only possible thig can convert"
   ]
  }
 ],
 "metadata": {
  "kernelspec": {
   "display_name": "Python 3 (ipykernel)",
   "language": "python",
   "name": "python3"
  },
  "language_info": {
   "codemirror_mode": {
    "name": "ipython",
    "version": 3
   },
   "file_extension": ".py",
   "mimetype": "text/x-python",
   "name": "python",
   "nbconvert_exporter": "python",
   "pygments_lexer": "ipython3",
   "version": "3.12.1"
  }
 },
 "nbformat": 4,
 "nbformat_minor": 5
}
