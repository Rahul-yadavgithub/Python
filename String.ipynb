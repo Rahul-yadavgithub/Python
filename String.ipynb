{
 "cells": [
  {
   "cell_type": "code",
   "execution_count": 3,
   "id": "c79118b8-3f7e-4288-8582-3c8af543cca8",
   "metadata": {},
   "outputs": [
    {
     "name": "stdout",
     "output_type": "stream",
     "text": [
      "My name is rahul Yadav\n",
      "we are currently purshing B.Tech in MNC\n"
     ]
    }
   ],
   "source": [
    "str1 = \"My name is rahul Yadav\\nwe are currently purshing B.Tech in MNC\"\n",
    "print(str1)\n"
   ]
  },
  {
   "cell_type": "code",
   "execution_count": 7,
   "id": "22713341-bdc0-4be2-9466-a37a10318142",
   "metadata": {},
   "outputs": [
    {
     "name": "stdout",
     "output_type": "stream",
     "text": [
      "5\n",
      "5\n",
      "Rahul Yadav\n"
     ]
    }
   ],
   "source": [
    "str1= \"Rahul\"\n",
    "print(len(str1))\n",
    "str2= \"Yadav\"\n",
    "print(len(str2))\n",
    "print(str1+\" \"+str2)\n"
   ]
  },
  {
   "cell_type": "code",
   "execution_count": 10,
   "id": "2e31acb2-8a18-48eb-8eb4-fe759dd97b7f",
   "metadata": {},
   "outputs": [
    {
     "name": "stdout",
     "output_type": "stream",
     "text": [
      "h\n"
     ]
    }
   ],
   "source": [
    "name = \"Rahul_Yadav\"\n",
    "print(name[2])"
   ]
  },
  {
   "cell_type": "code",
   "execution_count": 11,
   "id": "ccbd3ac8-3efc-4883-b087-75326d10cf9b",
   "metadata": {},
   "outputs": [
    {
     "name": "stdout",
     "output_type": "stream",
     "text": [
      "ahu\n"
     ]
    }
   ],
   "source": [
    "name = \"Rahul_Yadav\"\n",
    "print(name[1:4])"
   ]
  },
  {
   "cell_type": "code",
   "execution_count": 16,
   "id": "8139751f-1a96-42ff-8e72-f61d102dd01e",
   "metadata": {},
   "outputs": [
    {
     "name": "stdout",
     "output_type": "stream",
     "text": [
      "Rahu\n"
     ]
    }
   ],
   "source": [
    "name= \"Rahul_Yadav\"\n",
    "print(name[:4])"
   ]
  },
  {
   "cell_type": "code",
   "execution_count": 18,
   "id": "ca080858-b212-41c5-81f4-6150857418be",
   "metadata": {},
   "outputs": [
    {
     "name": "stdout",
     "output_type": "stream",
     "text": [
      "da\n"
     ]
    }
   ],
   "source": [
    "name = \"Rahul_Yadav\"\n",
    "print(name[-3:-1])"
   ]
  },
  {
   "cell_type": "code",
   "execution_count": 21,
   "id": "99c658b8-7e59-4bc0-bec3-af043c0c6dec",
   "metadata": {},
   "outputs": [
    {
     "name": "stdout",
     "output_type": "stream",
     "text": [
      "\n"
     ]
    }
   ],
   "source": [
    "name = \"Rahul_Yadav\"\n",
    "print(name[-1:-3])# No any output come because start from "
   ]
  },
  {
   "cell_type": "code",
   "execution_count": 24,
   "id": "ca0e1af7-67cf-4546-9d1b-73fc2a249c96",
   "metadata": {},
   "outputs": [
    {
     "name": "stdout",
     "output_type": "stream",
     "text": [
      "Y\n"
     ]
    }
   ],
   "source": [
    "name = \"Rahul_Yadav\"\n",
    "print(name[-5:-4])"
   ]
  },
  {
   "cell_type": "code",
   "execution_count": 26,
   "id": "0e7a390a-2196-413e-847f-bb2f8ea77bcb",
   "metadata": {},
   "outputs": [
    {
     "data": {
      "text/plain": [
       "True"
      ]
     },
     "execution_count": 26,
     "metadata": {},
     "output_type": "execute_result"
    }
   ],
   "source": [
    "str= \"I am a coder .\"\n",
    "str.endswith(\"er .\")"
   ]
  },
  {
   "cell_type": "code",
   "execution_count": 28,
   "id": "5948987e-4be5-4eab-9339-b56d1286eeae",
   "metadata": {},
   "outputs": [
    {
     "name": "stdout",
     "output_type": "stream",
     "text": [
      "True\n"
     ]
    }
   ],
   "source": [
    "str= \"I am a coder.\"\n",
    "print(str.endswith(\"er.\"))"
   ]
  },
  {
   "cell_type": "code",
   "execution_count": 31,
   "id": "09598d5a-3154-4a69-9a22-975ac5ac4837",
   "metadata": {},
   "outputs": [
    {
     "name": "stdout",
     "output_type": "stream",
     "text": [
      "I am a coder.\n"
     ]
    }
   ],
   "source": [
    "str= \"i am a coder.\"\n",
    "print(str.capitalize())"
   ]
  },
  {
   "cell_type": "code",
   "execution_count": 32,
   "id": "a93c8a40-f331-4be5-9e32-f55fcd7f7cbe",
   "metadata": {},
   "outputs": [
    {
     "name": "stdout",
     "output_type": "stream",
     "text": [
      "I am a coder.\n",
      "i am a coder.\n"
     ]
    }
   ],
   "source": [
    "str= \"i am a coder.\"\n",
    "print(str.capitalize())\n",
    "print(str)"
   ]
  },
  {
   "cell_type": "code",
   "execution_count": 33,
   "id": "25f59545-3e23-42dd-a36f-a7859c16e67d",
   "metadata": {},
   "outputs": [
    {
     "name": "stdout",
     "output_type": "stream",
     "text": [
      "i bm b coder.\n"
     ]
    }
   ],
   "source": [
    "str= \"i am a coder.\"\n",
    "print(str.replace(\"a\" , \"b\"))"
   ]
  },
  {
   "cell_type": "code",
   "execution_count": null,
   "id": "21a2cc4d-a637-4355-82cc-4adbc594c228",
   "metadata": {},
   "outputs": [],
   "source": []
  }
 ],
 "metadata": {
  "kernelspec": {
   "display_name": "Python 3 (ipykernel)",
   "language": "python",
   "name": "python3"
  },
  "language_info": {
   "codemirror_mode": {
    "name": "ipython",
    "version": 3
   },
   "file_extension": ".py",
   "mimetype": "text/x-python",
   "name": "python",
   "nbconvert_exporter": "python",
   "pygments_lexer": "ipython3",
   "version": "3.12.1"
  }
 },
 "nbformat": 4,
 "nbformat_minor": 5
}
