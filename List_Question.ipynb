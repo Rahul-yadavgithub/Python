{
 "cells": [
  {
   "cell_type": "code",
   "execution_count": null,
   "id": "2a5fc623-60ac-4216-922a-ab11b076265e",
   "metadata": {},
   "outputs": [],
   "source": [
    "n= int(input(\"Enter the length of the list:\"))\n",
    "list=[]\n",
    "for i in range(0,n):\n",
    "    element=int(input(\"Enter the value of the list element:\"))\n",
    "    list.append(element)\n",
    "print(list)\n",
    "list2=[]\n",
    "for i in range(0,n):\n",
    "    for j in range(i+1, n):\n",
    "        if(list[i]==list[j]):\n",
    "            list2.append(list[i])\n",
    "print(list2)"
   ]
  },
  {
   "cell_type": "code",
   "execution_count": null,
   "id": "c85e9a56-f676-4b3a-9440-66e6b14208c5",
   "metadata": {},
   "outputs": [],
   "source": []
  }
 ],
 "metadata": {
  "kernelspec": {
   "display_name": "Python 3 (ipykernel)",
   "language": "python",
   "name": "python3"
  },
  "language_info": {
   "codemirror_mode": {
    "name": "ipython",
    "version": 3
   },
   "file_extension": ".py",
   "mimetype": "text/x-python",
   "name": "python",
   "nbconvert_exporter": "python",
   "pygments_lexer": "ipython3",
   "version": "3.12.1"
  }
 },
 "nbformat": 4,
 "nbformat_minor": 5
}
