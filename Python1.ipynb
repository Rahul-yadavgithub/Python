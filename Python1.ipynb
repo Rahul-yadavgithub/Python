{
 "cells": [
  {
   "cell_type": "code",
   "execution_count": 1,
   "id": "096dd026-1b1d-45b6-8cf3-90402a2ef443",
   "metadata": {},
   "outputs": [
    {
     "name": "stdout",
     "output_type": "stream",
     "text": [
      "Hello World\n"
     ]
    }
   ],
   "source": [
    "print(\"Hello World\")"
   ]
  },
  {
   "cell_type": "code",
   "execution_count": 6,
   "id": "c2696889-080f-4624-b4c0-5fd8e54b44f0",
   "metadata": {},
   "outputs": [
    {
     "name": "stdout",
     "output_type": "stream",
     "text": [
      "My Name is : Rahul Yadav\n",
      "My Age is : 34\n"
     ]
    }
   ],
   "source": [
    "  name = \"Rahul Yadav\"\n",
    "  age= 34\n",
    "  price= 44.00\n",
    "\n",
    "age2 = age\n",
    "\n",
    "print(\"My Name is :\" , name)\n",
    "print(\"My Age is :\", age2)"
   ]
  },
  {
   "cell_type": "code",
   "execution_count": null,
   "id": "dbb7ea00-eed5-4510-aa7c-c92302287e7a",
   "metadata": {},
   "outputs": [],
   "source": [
    "# Finding the type of data type "
   ]
  },
  {
   "cell_type": "code",
   "execution_count": 7,
   "id": "20efb6ce-7433-450d-b2f0-9b957057d3c4",
   "metadata": {},
   "outputs": [
    {
     "name": "stdout",
     "output_type": "stream",
     "text": [
      "<class 'str'>\n",
      "<class 'int'>\n",
      "<class 'float'>\n"
     ]
    }
   ],
   "source": [
    "name = \"Rahul Yadav\"\n",
    "age = 23 \n",
    "price= 44.00\n",
    "print(type(name))\n",
    "print(type(age))\n",
    "print(type(price))"
   ]
  },
  {
   "cell_type": "code",
   "execution_count": 8,
   "id": "062c2240-f6ad-4005-a28c-ed665a169f2b",
   "metadata": {},
   "outputs": [
    {
     "name": "stdout",
     "output_type": "stream",
     "text": [
      "<class 'bool'>\n",
      "<class 'NoneType'>\n"
     ]
    }
   ],
   "source": [
    "age = 23 \n",
    "old = False\n",
    "a= None \n",
    "print(type(old))\n",
    "print(type(a))"
   ]
  },
  {
   "cell_type": "code",
   "execution_count": null,
   "id": "a95dc63d-284b-4214-838f-fbebd61c4b10",
   "metadata": {},
   "outputs": [],
   "source": [
    "# Punctuators \n",
    "# (), {}\n",
    "# @ , []\n",
    "# #  "
   ]
  },
  {
   "cell_type": "code",
   "execution_count": null,
   "id": "29cb51bd-edd1-4e2c-a393-8df6d5247384",
   "metadata": {},
   "outputs": [],
   "source": [
    "# Expression Execution "
   ]
  },
  {
   "cell_type": "code",
   "execution_count": 9,
   "id": "b1a0cc3a-3004-4c69-a428-344472ec5e26",
   "metadata": {},
   "outputs": [
    {
     "name": "stdout",
     "output_type": "stream",
     "text": [
      "Rahul YadavRahul YadavRahul YadavRahul YadavRahul YadavRahul Yadav\n"
     ]
    }
   ],
   "source": [
    "a, b= 2,3\n",
    "Txt= \"Rahul Yadav\"\n",
    "print(2*Txt*3)"
   ]
  },
  {
   "cell_type": "code",
   "execution_count": null,
   "id": "44d15aa7-a783-4813-a63f-88721dffd9b5",
   "metadata": {},
   "outputs": [],
   "source": [
    "# String and String can opreate with +\n"
   ]
  },
  {
   "cell_type": "code",
   "execution_count": 13,
   "id": "6c458ba5-67b5-49da-ae28-517edc43a7ca",
   "metadata": {},
   "outputs": [
    {
     "name": "stdout",
     "output_type": "stream",
     "text": [
      "2Rahul Yadav2Rahul Yadav2Rahul Yadav\n"
     ]
    }
   ],
   "source": [
    "a, b = \"2\" , 3\n",
    "Txt = \"Rahul Yadav\"\n",
    "print((a+Txt)*b)"
   ]
  },
  {
   "cell_type": "code",
   "execution_count": null,
   "id": "e8120eeb-0f26-497c-b4d0-58a4088aa571",
   "metadata": {},
   "outputs": [],
   "source": [
    "# Integer division with float and int willl give int displayed as float"
   ]
  },
  {
   "cell_type": "code",
   "execution_count": 14,
   "id": "b16eea4c-fdf6-471b-8b11-86833a1b1087",
   "metadata": {},
   "outputs": [
    {
     "name": "stdout",
     "output_type": "stream",
     "text": [
      "0.0 0.5\n"
     ]
    }
   ],
   "source": [
    "a, b= 1.5 , 3\n",
    "c= a//b\n",
    "print(c , a/b)"
   ]
  },
  {
   "cell_type": "code",
   "execution_count": null,
   "id": "4f38a6e6-4840-442f-bf33-c6e71b3c0021",
   "metadata": {},
   "outputs": [],
   "source": [
    "#  Remainder is negative whe denominator is negative"
   ]
  },
  {
   "cell_type": "code",
   "execution_count": null,
   "id": "9c2b3fd4-d4a4-4351-becd-7b9de9535a8c",
   "metadata": {},
   "outputs": [],
   "source": [
    "a, b= 5, "
   ]
  },
  {
   "cell_type": "code",
   "execution_count": 1,
   "id": "e0c8aa16-fd9c-4c6d-9d6f-9efa77e52e34",
   "metadata": {},
   "outputs": [
    {
     "name": "stdin",
     "output_type": "stream",
     "text": [
      "Name: Rahul Yadav\n"
     ]
    },
    {
     "name": "stdout",
     "output_type": "stream",
     "text": [
      "Rahul Yadav\n"
     ]
    }
   ],
   "source": [
    "name= input(\"Name:\")\n",
    "print(name)"
   ]
  },
  {
   "cell_type": "code",
   "execution_count": null,
   "id": "e7b28992-4418-4014-a316-ae032712949d",
   "metadata": {},
   "outputs": [],
   "source": []
  }
 ],
 "metadata": {
  "kernelspec": {
   "display_name": "Python 3 (ipykernel)",
   "language": "python",
   "name": "python3"
  },
  "language_info": {
   "codemirror_mode": {
    "name": "ipython",
    "version": 3
   },
   "file_extension": ".py",
   "mimetype": "text/x-python",
   "name": "python",
   "nbconvert_exporter": "python",
   "pygments_lexer": "ipython3",
   "version": "3.12.1"
  }
 },
 "nbformat": 4,
 "nbformat_minor": 5
}
