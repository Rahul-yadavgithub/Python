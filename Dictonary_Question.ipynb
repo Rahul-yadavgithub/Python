{
 "cells": [
  {
   "cell_type": "code",
   "execution_count": 9,
   "id": "216d7b51-50ff-48a6-b1d5-f8032c38106d",
   "metadata": {},
   "outputs": [
    {
     "name": "stdout",
     "output_type": "stream",
     "text": [
      "{'table': ['a piece of furniture ', 'list of facts and figures'], 'cat': 'a small animal'}\n"
     ]
    }
   ],
   "source": [
    "dict= {\n",
    "    \"table\": [\"a piece of furniture \" , \"list of facts and figures\"],\n",
    "    \"cat\": \"a small animal\"\n",
    "}\n",
    "print(dict)"
   ]
  },
  {
   "cell_type": "code",
   "execution_count": 13,
   "id": "fe9f8b6e-5d50-4ba7-a68e-071e10ef790e",
   "metadata": {},
   "outputs": [
    {
     "name": "stdout",
     "output_type": "stream",
     "text": [
      "5\n"
     ]
    }
   ],
   "source": [
    "subject= {\"python\", \"java\", \"c++\", \"python\", \"javascript\", \"java\", \"python\", \n",
    "          \"java\", \"c++\", \"c\"\n",
    "}\n",
    "print(len(subject))"
   ]
  },
  {
   "cell_type": "code",
   "execution_count": 27,
   "id": "3dc2c3da-e892-48a2-956d-525c89833cb1",
   "metadata": {},
   "outputs": [
    {
     "name": "stdin",
     "output_type": "stream",
     "text": [
      "Enter the Number of subject : 1\n",
      " Enter the 1 marks of the student-> 23\n",
      " Enter the 1 subject -> Mathematics\n"
     ]
    },
    {
     "name": "stdout",
     "output_type": "stream",
     "text": [
      "{'Mathematics': 23}\n"
     ]
    }
   ],
   "source": [
    " n= int(input(\"Enter the Number of subject :\"))\n",
    "dict={}\n",
    "for i in range(0, n):\n",
    "    element= int(input(f\" Enter the {i+1} marks of the student->\"))\n",
    "    v= input(f\" Enter the {i+1} subject ->\")\n",
    "    dict.update({ v : element})\n",
    "print(dict)"
   ]
  },
  {
   "cell_type": "code",
   "execution_count": null,
   "id": "fe763ff4-57be-42d0-8642-0ef8ac10c494",
   "metadata": {},
   "outputs": [],
   "source": [
    "#How to store 9 and 9.0 in a set as an sepater value "
   ]
  },
  {
   "cell_type": "code",
   "execution_count": 28,
   "id": "33c6f715-bc51-45a3-a7fa-0bf923d911d1",
   "metadata": {},
   "outputs": [
    {
     "name": "stdout",
     "output_type": "stream",
     "text": [
      "{('float', 9.0), ('int', 9)}\n"
     ]
    }
   ],
   "source": [
    "values= {\n",
    "    (\"float\", 9.0),\n",
    "    (\"int\", 9)\n",
    "    \n",
    "}\n",
    "print(values)\n"
   ]
  },
  {
   "cell_type": "code",
   "execution_count": 5,
   "id": "2a2ae3b2-39bb-4a1f-a3b4-c9ab5c0b0b63",
   "metadata": {},
   "outputs": [
    {
     "name": "stdin",
     "output_type": "stream",
     "text": [
      "Enter the How much you can take number -> 2\n",
      "Enter the values type ->  int\n",
      "Enter the value of 1 element of the set-> 2\n",
      "Enter the values type ->  float\n",
      "Enter the value of 2 element of the set-> 2.0\n"
     ]
    },
    {
     "name": "stdout",
     "output_type": "stream",
     "text": [
      "{('float', 2.0), ('int', 2)}\n"
     ]
    }
   ],
   "source": [
    "n= int(input(\"Enter the How much you can take number ->\"))\n",
    "values= set()\n",
    "for i in range (0, n):\n",
    "    val_type= input(\"Enter the values type -> \")\n",
    "    if(val_type==\"int\"):\n",
    "        val= int(input(f\"Enter the value of {i+1} element of the set->\"))\n",
    "        values2={\n",
    "            (\"int\",val),\n",
    "        }\n",
    "        values.update(values2)\n",
    "    else:\n",
    "        val= float(input(f\"Enter the value of {i+1} element of the set->\"))\n",
    "        values2={\n",
    "            (\"float\",val),\n",
    "        }\n",
    "        values.update(values2)\n",
    "        \n",
    "print(values)\n"
   ]
  },
  {
   "cell_type": "code",
   "execution_count": 11,
   "id": "afd27b2a-17f9-42b7-8d3f-56d53d8b2d2e",
   "metadata": {},
   "outputs": [
    {
     "name": "stdin",
     "output_type": "stream",
     "text": [
      "Enter the length of the list-> 2\n",
      "Enter the element ( 1 )of the list-> 1\n",
      "Enter the element ( 2 )of the list-> 2\n"
     ]
    },
    {
     "name": "stdout",
     "output_type": "stream",
     "text": [
      "[1, 2]\n",
      "[1, 2]\n"
     ]
    }
   ],
   "source": [
    "n= int(input(\"Enter the length of the list->\"))\n",
    "list=[]\n",
    "for i in range(0, n):\n",
    "    x= int(input(f\"Enter the element ( {i+1} )of the list->\"))\n",
    "    list.append(x)\n",
    "\n",
    "print(list)\n",
    "\n",
    "dict={}\n",
    "dict[\"values\"]= list\n",
    "print(dict[\"values\"])"
   ]
  },
  {
   "cell_type": "code",
   "execution_count": 12,
   "id": "66fced1d-ae98-4250-8310-14df5d035e2d",
   "metadata": {},
   "outputs": [
    {
     "name": "stdin",
     "output_type": "stream",
     "text": [
      "Enter the number of elements in the list:  2\n",
      "Enter element 1:  1\n",
      "Enter element 2:  1\n"
     ]
    },
    {
     "name": "stdout",
     "output_type": "stream",
     "text": [
      "Number of repeated elements:\n",
      "1: 2\n"
     ]
    }
   ],
   "source": [
    "# Take input from the user for the list\n",
    "n = int(input(\"Enter the number of elements in the list: \"))\n",
    "my_list = []\n",
    "\n",
    "# Populate the list with user input\n",
    "for i in range(n):\n",
    "    element = int(input(\"Enter element \" + str(i+1) + \": \"))\n",
    "    my_list.append(element)\n",
    "\n",
    "# Create an empty dictionary to store element counts\n",
    "count_dict = {}\n",
    "\n",
    "# Count the occurrences of each element in the list\n",
    "for element in my_list:\n",
    "    if element in count_dict:\n",
    "        count_dict[element] += 1\n",
    "    else:\n",
    "        count_dict[element] = 1\n",
    "\n",
    "# Print each element along with its count once\n",
    "print(\"Number of repeated elements:\")\n",
    "for key, value in count_dict.items():\n",
    "    print(f\"{key}: {value}\")\n"
   ]
  },
  {
   "cell_type": "code",
   "execution_count": 18,
   "id": "6936bc9c-9f61-4fc1-a117-3a9079c493e2",
   "metadata": {},
   "outputs": [
    {
     "name": "stdin",
     "output_type": "stream",
     "text": [
      "Enter the Number of element in list-> 8\n",
      "Enter the 1 element of the list-> 1\n",
      "Enter the 2 element of the list-> 2\n",
      "Enter the 3 element of the list-> 3\n",
      "Enter the 4 element of the list-> 1\n",
      "Enter the 5 element of the list-> 2\n",
      "Enter the 6 element of the list-> 1\n",
      "Enter the 7 element of the list-> 2\n",
      "Enter the 8 element of the list-> 3\n"
     ]
    },
    {
     "name": "stdout",
     "output_type": "stream",
     "text": [
      "[1, 2, 3, 1, 2, 1, 2, 3]\n",
      "Number ot repeated element:\n",
      "{1: 3, 2: 3, 3: 2}\n"
     ]
    }
   ],
   "source": [
    "n = int(input(\"Enter the Number of element in list->\"))\n",
    "list=[]\n",
    "for i in range(0,n):\n",
    "    x= int(input(f\"Enter the {i+1} element of the list->\"))\n",
    "    list.append(x)\n",
    "print(list)\n",
    "dict={}\n",
    "for i in list:\n",
    "    if i in dict:\n",
    "        dict[i]+=1\n",
    "    else:\n",
    "        dict[i]= 1\n",
    "print(\"Number ot repeated element:\")\n",
    "print(dict)"
   ]
  },
  {
   "cell_type": "code",
   "execution_count": 23,
   "id": "0aeffc31-1329-44b9-9eab-9a5f843e8adc",
   "metadata": {},
   "outputs": [
    {
     "name": "stdin",
     "output_type": "stream",
     "text": [
      "Enter the Number of element in list-> 8\n",
      "Enter the 1 element of the list-> 1\n",
      "Enter the 2 element of the list-> 1\n",
      "Enter the 3 element of the list-> 2\n",
      "Enter the 4 element of the list-> 2\n",
      "Enter the 5 element of the list-> 3\n",
      "Enter the 6 element of the list-> 3\n",
      "Enter the 7 element of the list-> 4\n",
      "Enter the 8 element of the list-> 4\n"
     ]
    },
    {
     "name": "stdout",
     "output_type": "stream",
     "text": [
      "[1, 1, 2, 2, 3, 3, 4, 4]\n",
      "1 \n",
      "2 \n",
      "3 \n",
      "4\n"
     ]
    }
   ],
   "source": [
    "n= int(input(\"Enter the Number of element in list->\"))\n",
    "list=[]\n",
    "for i in range(0,n):\n",
    "    x= int(input(f\"Enter the {i+1} element of the list->\"))\n",
    "    list.append(x)\n",
    "print(list)\n",
    "dict= {}\n",
    "for i in list:\n",
    "    if i in dict:\n",
    "        dict[i]+=1\n",
    "    else:\n",
    "        dict[i]= 1\n",
    "\n",
    "for i in range(n-1):\n",
    "    if(list[i]!= list[i+1]):\n",
    "        print(list[i], end=\" \")\n",
    "        print()  \n",
    "print(list[-1])"
   ]
  },
  {
   "cell_type": "code",
   "execution_count": 4,
   "id": "e5da0aed-850b-4e48-8284-9fd374106a90",
   "metadata": {},
   "outputs": [
    {
     "name": "stdout",
     "output_type": "stream",
     "text": [
      "[1]\n",
      "[2]\n",
      "[3]\n",
      "[4]\n",
      "[1, 2]\n",
      "[2, 3]\n",
      "[3, 4]\n",
      "[1, 2, 3]\n",
      "[2, 3, 4]\n",
      "[1, 2, 3, 4]\n"
     ]
    }
   ],
   "source": [
    "def print_all_subarrays(arr):\n",
    "    n = len(arr)\n",
    "    # Loop for window size\n",
    "    for i in range(1, n + 1):\n",
    "        # Loop to slide the window\n",
    "        for j in range(n - i + 1):\n",
    "            # Print subarray from index i to i + window_size - 1\n",
    "            print(arr[j:j + i])\n",
    "\n",
    "# Example usage\n",
    "arr = [1, 2, 3, 4]\n",
    "print_all_subarrays(arr)\n"
   ]
  }
 ],
 "metadata": {
  "kernelspec": {
   "display_name": "Python 3 (ipykernel)",
   "language": "python",
   "name": "python3"
  },
  "language_info": {
   "codemirror_mode": {
    "name": "ipython",
    "version": 3
   },
   "file_extension": ".py",
   "mimetype": "text/x-python",
   "name": "python",
   "nbconvert_exporter": "python",
   "pygments_lexer": "ipython3",
   "version": "3.12.1"
  }
 },
 "nbformat": 4,
 "nbformat_minor": 5
}
